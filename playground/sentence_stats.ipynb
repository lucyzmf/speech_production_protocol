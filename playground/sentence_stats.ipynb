{
 "cells": [
  {
   "cell_type": "code",
   "execution_count": 142,
   "metadata": {},
   "outputs": [],
   "source": [
    "import pandas as pd\n",
    "import numpy as np\n",
    "import matplotlib.pyplot as plt\n",
    "import seaborn as sns\n",
    "from pathlib import Path"
   ]
  },
  {
   "cell_type": "code",
   "execution_count": 253,
   "metadata": {},
   "outputs": [],
   "source": [
    "# helper \n",
    "# phonemize all sentences \n",
    "from phonemizer.backend import EspeakBackend\n",
    "from phonemizer.backend.espeak.wrapper import EspeakWrapper\n",
    "from phonemizer.separator import Separator\n",
    "\n",
    "EspeakWrapper.set_library(\n",
    "    \"/opt/homebrew/Cellar/espeak/1.48.04_1/lib/libespeak.1.1.48.dylib\"\n",
    ")\n",
    "\n",
    "# initialize the espeak backend for English\n",
    "backend = EspeakBackend(\"fr-fr\")\n",
    "separator = Separator(phone=\" \", word=None)\n",
    "\n",
    "def get_phonemes(text): \n",
    "    value = backend.phonemize([text], separator=separator, strip=True)\n",
    "\n",
    "    phonemes = value[0].split(\" \")\n",
    "    \n",
    "    return phonemes\n"
   ]
  },
  {
   "cell_type": "code",
   "execution_count": 254,
   "metadata": {},
   "outputs": [
    {
     "data": {
      "text/plain": [
       "<spacy_syllables.SpacySyllables at 0x387e9df70>"
      ]
     },
     "execution_count": 254,
     "metadata": {},
     "output_type": "execute_result"
    }
   ],
   "source": [
    "# get pos tags for each word\n",
    "import spacy \n",
    "from spacy_syllables import SpacySyllables  # noqa\n",
    "\n",
    "model = \"fr_core_news_lg\"\n",
    "if not spacy.util.is_package(model):\n",
    "    import spacy.cli\n",
    "\n",
    "    spacy.cli.download(model)  # type: ignore\n",
    "nlp = spacy.load(model)\n",
    "nlp.add_pipe(\"syllables\", after=\"tok2vec\")"
   ]
  },
  {
   "cell_type": "code",
   "execution_count": 255,
   "metadata": {},
   "outputs": [],
   "source": [
    "content_function_word = {  # 1 content, 0 function, 2 others\n",
    "    \"ADJ\": \"content\",\n",
    "    \"ADP\": \"function\",\n",
    "    \"ADV\": \"content\",\n",
    "    \"AUX\": \"function\",\n",
    "    \"DET\": \"function\",\n",
    "    \"NOUN\": \"content\",\n",
    "    \"NUM\": \"function\",\n",
    "    \"PRON\": \"function\",\n",
    "    \"PROPN\": \"function\",\n",
    "    \"VERB\": \"content\",\n",
    "    \"INTJ\": \"function\",\n",
    "    \"SCONJ\": \"function\", \n",
    "    \"CCONJ\": \"function\", \n",
    "    \"PUNCT\": \"function\",\n",
    "}\n"
   ]
  },
  {
   "cell_type": "markdown",
   "metadata": {},
   "source": [
    "# sentence stats"
   ]
  },
  {
   "cell_type": "code",
   "execution_count": 384,
   "metadata": {},
   "outputs": [
    {
     "data": {
      "text/html": [
       "<div>\n",
       "<style scoped>\n",
       "    .dataframe tbody tr th:only-of-type {\n",
       "        vertical-align: middle;\n",
       "    }\n",
       "\n",
       "    .dataframe tbody tr th {\n",
       "        vertical-align: top;\n",
       "    }\n",
       "\n",
       "    .dataframe thead th {\n",
       "        text-align: right;\n",
       "    }\n",
       "</style>\n",
       "<table border=\"1\" class=\"dataframe\">\n",
       "  <thead>\n",
       "    <tr style=\"text-align: right;\">\n",
       "      <th></th>\n",
       "      <th>Unnamed: 0</th>\n",
       "      <th>theme</th>\n",
       "      <th>type</th>\n",
       "      <th>structure</th>\n",
       "      <th>numer</th>\n",
       "      <th>tense</th>\n",
       "      <th>polarity</th>\n",
       "      <th>sentence</th>\n",
       "      <th>num_words</th>\n",
       "      <th>translation</th>\n",
       "      <th>words</th>\n",
       "      <th>num_words_translation</th>\n",
       "      <th>include_et</th>\n",
       "      <th>in_vocab</th>\n",
       "      <th>sum_word_counts_sent</th>\n",
       "      <th>lemmas</th>\n",
       "      <th>overlap</th>\n",
       "    </tr>\n",
       "  </thead>\n",
       "  <tbody>\n",
       "    <tr>\n",
       "      <th>0</th>\n",
       "      <td>32424</td>\n",
       "      <td>basic</td>\n",
       "      <td>declarative</td>\n",
       "      <td>independent</td>\n",
       "      <td>singular</td>\n",
       "      <td>present</td>\n",
       "      <td>negative</td>\n",
       "      <td>You do not have to come if you don't want to\\n</td>\n",
       "      <td>11</td>\n",
       "      <td>Tu n'es pas obligé de venir si tu ne veux pas.</td>\n",
       "      <td>['tu', \"n'\", 'es', 'pas', 'obligé', 'de', 'ven...</td>\n",
       "      <td>12</td>\n",
       "      <td>False</td>\n",
       "      <td>True</td>\n",
       "      <td>489.000000</td>\n",
       "      <td>['tu', 'ne', 'être', 'pas', 'obliger', 'de', '...</td>\n",
       "      <td>NaN</td>\n",
       "    </tr>\n",
       "    <tr>\n",
       "      <th>1</th>\n",
       "      <td>11310</td>\n",
       "      <td>basic</td>\n",
       "      <td>declarative</td>\n",
       "      <td>preposition</td>\n",
       "      <td>plural</td>\n",
       "      <td>present</td>\n",
       "      <td>negative</td>\n",
       "      <td>The students do not have their homework with t...</td>\n",
       "      <td>9</td>\n",
       "      <td>Les élèves n'ont pas leurs devoirs avec eux.</td>\n",
       "      <td>['les', 'élèves', \"n'\", 'ont', 'pas', 'leurs',...</td>\n",
       "      <td>9</td>\n",
       "      <td>False</td>\n",
       "      <td>True</td>\n",
       "      <td>461.750000</td>\n",
       "      <td>['le', 'élève', 'ne', 'avoir', 'pas', 'leur', ...</td>\n",
       "      <td>NaN</td>\n",
       "    </tr>\n",
       "    <tr>\n",
       "      <th>2</th>\n",
       "      <td>8312</td>\n",
       "      <td>food</td>\n",
       "      <td>declarative</td>\n",
       "      <td>independent</td>\n",
       "      <td>singular</td>\n",
       "      <td>present</td>\n",
       "      <td>negative</td>\n",
       "      <td>He is not avoiding chocolate because he dislik...</td>\n",
       "      <td>9</td>\n",
       "      <td>Il n'évite pas le chocolat parce qu'il ne l'ai...</td>\n",
       "      <td>['il', \"n'\", 'évite', 'pas', 'le', 'chocolat',...</td>\n",
       "      <td>13</td>\n",
       "      <td>False</td>\n",
       "      <td>True</td>\n",
       "      <td>499.571429</td>\n",
       "      <td>['il', 'ne', 'éviter', 'pas', 'le', 'chocolat'...</td>\n",
       "      <td>NaN</td>\n",
       "    </tr>\n",
       "    <tr>\n",
       "      <th>3</th>\n",
       "      <td>15645</td>\n",
       "      <td>housing</td>\n",
       "      <td>declarative</td>\n",
       "      <td>simple</td>\n",
       "      <td>singular</td>\n",
       "      <td>past</td>\n",
       "      <td>negative</td>\n",
       "      <td>I did not like the color of the furniture\\n</td>\n",
       "      <td>9</td>\n",
       "      <td>Je n'aimais pas la couleur des meubles.</td>\n",
       "      <td>['je', \"n'\", 'aimais', 'pas', 'la', 'couleur',...</td>\n",
       "      <td>8</td>\n",
       "      <td>False</td>\n",
       "      <td>True</td>\n",
       "      <td>457.750000</td>\n",
       "      <td>['je', 'ne', 'aimer', 'pas', 'le', 'couleur', ...</td>\n",
       "      <td>NaN</td>\n",
       "    </tr>\n",
       "    <tr>\n",
       "      <th>4</th>\n",
       "      <td>34086</td>\n",
       "      <td>basic</td>\n",
       "      <td>declarative</td>\n",
       "      <td>simple</td>\n",
       "      <td>plural</td>\n",
       "      <td>past</td>\n",
       "      <td>negative</td>\n",
       "      <td>They had not finished their homework\\n</td>\n",
       "      <td>6</td>\n",
       "      <td>Ils n'avaient pas fini leurs devoirs.</td>\n",
       "      <td>['ils', \"n'\", 'avaient', 'pas', 'fini', 'leurs...</td>\n",
       "      <td>7</td>\n",
       "      <td>False</td>\n",
       "      <td>True</td>\n",
       "      <td>458.750000</td>\n",
       "      <td>['il', 'ne', 'avoir', 'pas', 'finir', 'leur', ...</td>\n",
       "      <td>NaN</td>\n",
       "    </tr>\n",
       "  </tbody>\n",
       "</table>\n",
       "</div>"
      ],
      "text/plain": [
       "   Unnamed: 0    theme         type    structure     numer    tense  polarity  \\\n",
       "0       32424    basic  declarative  independent  singular  present  negative   \n",
       "1       11310    basic  declarative  preposition    plural  present  negative   \n",
       "2        8312     food  declarative  independent  singular  present  negative   \n",
       "3       15645  housing  declarative       simple  singular     past  negative   \n",
       "4       34086    basic  declarative       simple    plural     past  negative   \n",
       "\n",
       "                                            sentence  num_words  \\\n",
       "0     You do not have to come if you don't want to\\n         11   \n",
       "1  The students do not have their homework with t...          9   \n",
       "2  He is not avoiding chocolate because he dislik...          9   \n",
       "3        I did not like the color of the furniture\\n          9   \n",
       "4             They had not finished their homework\\n          6   \n",
       "\n",
       "                                         translation  \\\n",
       "0     Tu n'es pas obligé de venir si tu ne veux pas.   \n",
       "1       Les élèves n'ont pas leurs devoirs avec eux.   \n",
       "2  Il n'évite pas le chocolat parce qu'il ne l'ai...   \n",
       "3            Je n'aimais pas la couleur des meubles.   \n",
       "4              Ils n'avaient pas fini leurs devoirs.   \n",
       "\n",
       "                                               words  num_words_translation  \\\n",
       "0  ['tu', \"n'\", 'es', 'pas', 'obligé', 'de', 'ven...                     12   \n",
       "1  ['les', 'élèves', \"n'\", 'ont', 'pas', 'leurs',...                      9   \n",
       "2  ['il', \"n'\", 'évite', 'pas', 'le', 'chocolat',...                     13   \n",
       "3  ['je', \"n'\", 'aimais', 'pas', 'la', 'couleur',...                      8   \n",
       "4  ['ils', \"n'\", 'avaient', 'pas', 'fini', 'leurs...                      7   \n",
       "\n",
       "   include_et  in_vocab  sum_word_counts_sent  \\\n",
       "0       False      True            489.000000   \n",
       "1       False      True            461.750000   \n",
       "2       False      True            499.571429   \n",
       "3       False      True            457.750000   \n",
       "4       False      True            458.750000   \n",
       "\n",
       "                                              lemmas  overlap  \n",
       "0  ['tu', 'ne', 'être', 'pas', 'obliger', 'de', '...      NaN  \n",
       "1  ['le', 'élève', 'ne', 'avoir', 'pas', 'leur', ...      NaN  \n",
       "2  ['il', 'ne', 'éviter', 'pas', 'le', 'chocolat'...      NaN  \n",
       "3  ['je', 'ne', 'aimer', 'pas', 'le', 'couleur', ...      NaN  \n",
       "4  ['il', 'ne', 'avoir', 'pas', 'finir', 'leur', ...      NaN  "
      ]
     },
     "execution_count": 384,
     "metadata": {},
     "output_type": "execute_result"
    }
   ],
   "source": [
    "sentences = pd.read_csv('../text/selection_min_rep3.csv')\n",
    "sentences.head()"
   ]
  },
  {
   "cell_type": "code",
   "execution_count": 385,
   "metadata": {},
   "outputs": [
    {
     "data": {
      "text/html": [
       "<div>\n",
       "<style scoped>\n",
       "    .dataframe tbody tr th:only-of-type {\n",
       "        vertical-align: middle;\n",
       "    }\n",
       "\n",
       "    .dataframe tbody tr th {\n",
       "        vertical-align: top;\n",
       "    }\n",
       "\n",
       "    .dataframe thead th {\n",
       "        text-align: right;\n",
       "    }\n",
       "</style>\n",
       "<table border=\"1\" class=\"dataframe\">\n",
       "  <thead>\n",
       "    <tr style=\"text-align: right;\">\n",
       "      <th></th>\n",
       "      <th>Unnamed: 0</th>\n",
       "      <th>theme</th>\n",
       "      <th>type</th>\n",
       "      <th>structure</th>\n",
       "      <th>numer</th>\n",
       "      <th>tense</th>\n",
       "      <th>polarity</th>\n",
       "      <th>sentence</th>\n",
       "      <th>num_words</th>\n",
       "      <th>translation</th>\n",
       "      <th>words</th>\n",
       "      <th>num_words_translation</th>\n",
       "      <th>include_et</th>\n",
       "      <th>in_vocab</th>\n",
       "      <th>sum_word_counts_sent</th>\n",
       "      <th>lemmas</th>\n",
       "      <th>overlap</th>\n",
       "    </tr>\n",
       "  </thead>\n",
       "  <tbody>\n",
       "    <tr>\n",
       "      <th>0</th>\n",
       "      <td>32424</td>\n",
       "      <td>basic</td>\n",
       "      <td>declarative</td>\n",
       "      <td>independent</td>\n",
       "      <td>singular</td>\n",
       "      <td>present</td>\n",
       "      <td>negative</td>\n",
       "      <td>You do not have to come if you don't want to\\n</td>\n",
       "      <td>11</td>\n",
       "      <td>Tu n'es pas obligé de venir si tu ne veux pas.</td>\n",
       "      <td>[tu, n', es, pas, obligé, de, venir, si, tu, n...</td>\n",
       "      <td>12</td>\n",
       "      <td>False</td>\n",
       "      <td>True</td>\n",
       "      <td>489.000000</td>\n",
       "      <td>['tu', 'ne', 'être', 'pas', 'obliger', 'de', '...</td>\n",
       "      <td>NaN</td>\n",
       "    </tr>\n",
       "    <tr>\n",
       "      <th>1</th>\n",
       "      <td>11310</td>\n",
       "      <td>basic</td>\n",
       "      <td>declarative</td>\n",
       "      <td>preposition</td>\n",
       "      <td>plural</td>\n",
       "      <td>present</td>\n",
       "      <td>negative</td>\n",
       "      <td>The students do not have their homework with t...</td>\n",
       "      <td>9</td>\n",
       "      <td>Les élèves n'ont pas leurs devoirs avec eux.</td>\n",
       "      <td>[les, élèves, n', ont, pas, leurs, devoirs, av...</td>\n",
       "      <td>9</td>\n",
       "      <td>False</td>\n",
       "      <td>True</td>\n",
       "      <td>461.750000</td>\n",
       "      <td>['le', 'élève', 'ne', 'avoir', 'pas', 'leur', ...</td>\n",
       "      <td>NaN</td>\n",
       "    </tr>\n",
       "    <tr>\n",
       "      <th>2</th>\n",
       "      <td>8312</td>\n",
       "      <td>food</td>\n",
       "      <td>declarative</td>\n",
       "      <td>independent</td>\n",
       "      <td>singular</td>\n",
       "      <td>present</td>\n",
       "      <td>negative</td>\n",
       "      <td>He is not avoiding chocolate because he dislik...</td>\n",
       "      <td>9</td>\n",
       "      <td>Il n'évite pas le chocolat parce qu'il ne l'ai...</td>\n",
       "      <td>[il, n', évite, pas, le, chocolat, parce, qu',...</td>\n",
       "      <td>13</td>\n",
       "      <td>False</td>\n",
       "      <td>True</td>\n",
       "      <td>499.571429</td>\n",
       "      <td>['il', 'ne', 'éviter', 'pas', 'le', 'chocolat'...</td>\n",
       "      <td>NaN</td>\n",
       "    </tr>\n",
       "    <tr>\n",
       "      <th>3</th>\n",
       "      <td>15645</td>\n",
       "      <td>housing</td>\n",
       "      <td>declarative</td>\n",
       "      <td>simple</td>\n",
       "      <td>singular</td>\n",
       "      <td>past</td>\n",
       "      <td>negative</td>\n",
       "      <td>I did not like the color of the furniture\\n</td>\n",
       "      <td>9</td>\n",
       "      <td>Je n'aimais pas la couleur des meubles.</td>\n",
       "      <td>[je, n', aimais, pas, la, couleur, des, meubles]</td>\n",
       "      <td>8</td>\n",
       "      <td>False</td>\n",
       "      <td>True</td>\n",
       "      <td>457.750000</td>\n",
       "      <td>['je', 'ne', 'aimer', 'pas', 'le', 'couleur', ...</td>\n",
       "      <td>NaN</td>\n",
       "    </tr>\n",
       "    <tr>\n",
       "      <th>4</th>\n",
       "      <td>34086</td>\n",
       "      <td>basic</td>\n",
       "      <td>declarative</td>\n",
       "      <td>simple</td>\n",
       "      <td>plural</td>\n",
       "      <td>past</td>\n",
       "      <td>negative</td>\n",
       "      <td>They had not finished their homework\\n</td>\n",
       "      <td>6</td>\n",
       "      <td>Ils n'avaient pas fini leurs devoirs.</td>\n",
       "      <td>[ils, n', avaient, pas, fini, leurs, devoirs]</td>\n",
       "      <td>7</td>\n",
       "      <td>False</td>\n",
       "      <td>True</td>\n",
       "      <td>458.750000</td>\n",
       "      <td>['il', 'ne', 'avoir', 'pas', 'finir', 'leur', ...</td>\n",
       "      <td>NaN</td>\n",
       "    </tr>\n",
       "  </tbody>\n",
       "</table>\n",
       "</div>"
      ],
      "text/plain": [
       "   Unnamed: 0    theme         type    structure     numer    tense  polarity  \\\n",
       "0       32424    basic  declarative  independent  singular  present  negative   \n",
       "1       11310    basic  declarative  preposition    plural  present  negative   \n",
       "2        8312     food  declarative  independent  singular  present  negative   \n",
       "3       15645  housing  declarative       simple  singular     past  negative   \n",
       "4       34086    basic  declarative       simple    plural     past  negative   \n",
       "\n",
       "                                            sentence  num_words  \\\n",
       "0     You do not have to come if you don't want to\\n         11   \n",
       "1  The students do not have their homework with t...          9   \n",
       "2  He is not avoiding chocolate because he dislik...          9   \n",
       "3        I did not like the color of the furniture\\n          9   \n",
       "4             They had not finished their homework\\n          6   \n",
       "\n",
       "                                         translation  \\\n",
       "0     Tu n'es pas obligé de venir si tu ne veux pas.   \n",
       "1       Les élèves n'ont pas leurs devoirs avec eux.   \n",
       "2  Il n'évite pas le chocolat parce qu'il ne l'ai...   \n",
       "3            Je n'aimais pas la couleur des meubles.   \n",
       "4              Ils n'avaient pas fini leurs devoirs.   \n",
       "\n",
       "                                               words  num_words_translation  \\\n",
       "0  [tu, n', es, pas, obligé, de, venir, si, tu, n...                     12   \n",
       "1  [les, élèves, n', ont, pas, leurs, devoirs, av...                      9   \n",
       "2  [il, n', évite, pas, le, chocolat, parce, qu',...                     13   \n",
       "3   [je, n', aimais, pas, la, couleur, des, meubles]                      8   \n",
       "4      [ils, n', avaient, pas, fini, leurs, devoirs]                      7   \n",
       "\n",
       "   include_et  in_vocab  sum_word_counts_sent  \\\n",
       "0       False      True            489.000000   \n",
       "1       False      True            461.750000   \n",
       "2       False      True            499.571429   \n",
       "3       False      True            457.750000   \n",
       "4       False      True            458.750000   \n",
       "\n",
       "                                              lemmas  overlap  \n",
       "0  ['tu', 'ne', 'être', 'pas', 'obliger', 'de', '...      NaN  \n",
       "1  ['le', 'élève', 'ne', 'avoir', 'pas', 'leur', ...      NaN  \n",
       "2  ['il', 'ne', 'éviter', 'pas', 'le', 'chocolat'...      NaN  \n",
       "3  ['je', 'ne', 'aimer', 'pas', 'le', 'couleur', ...      NaN  \n",
       "4  ['il', 'ne', 'avoir', 'pas', 'finir', 'leur', ...      NaN  "
      ]
     },
     "execution_count": 385,
     "metadata": {},
     "output_type": "execute_result"
    }
   ],
   "source": [
    "# get unique vocab \n",
    "def get_words_from_sentence(sentence):\n",
    "    sentence = sentence.lower()\n",
    "    doc = nlp(sentence)\n",
    "    words = [token.text for token in doc if not token.is_punct]\n",
    "    num_words = len(words)\n",
    "    return words\n",
    "\n",
    "sentences['words'] = sentences['translation'].apply(get_words_from_sentence)\n",
    "sentences.head()"
   ]
  },
  {
   "cell_type": "code",
   "execution_count": 386,
   "metadata": {},
   "outputs": [
    {
     "data": {
      "text/html": [
       "<div>\n",
       "<style scoped>\n",
       "    .dataframe tbody tr th:only-of-type {\n",
       "        vertical-align: middle;\n",
       "    }\n",
       "\n",
       "    .dataframe tbody tr th {\n",
       "        vertical-align: top;\n",
       "    }\n",
       "\n",
       "    .dataframe thead th {\n",
       "        text-align: right;\n",
       "    }\n",
       "</style>\n",
       "<table border=\"1\" class=\"dataframe\">\n",
       "  <thead>\n",
       "    <tr style=\"text-align: right;\">\n",
       "      <th></th>\n",
       "      <th>Unnamed: 0</th>\n",
       "      <th>theme</th>\n",
       "      <th>type</th>\n",
       "      <th>structure</th>\n",
       "      <th>numer</th>\n",
       "      <th>tense</th>\n",
       "      <th>polarity</th>\n",
       "      <th>sentence</th>\n",
       "      <th>num_words</th>\n",
       "      <th>translation</th>\n",
       "      <th>words</th>\n",
       "      <th>num_words_translation</th>\n",
       "      <th>include_et</th>\n",
       "      <th>in_vocab</th>\n",
       "      <th>sum_word_counts_sent</th>\n",
       "      <th>lemmas</th>\n",
       "      <th>overlap</th>\n",
       "    </tr>\n",
       "  </thead>\n",
       "  <tbody>\n",
       "    <tr>\n",
       "      <th>0</th>\n",
       "      <td>32424</td>\n",
       "      <td>basic</td>\n",
       "      <td>declarative</td>\n",
       "      <td>independent</td>\n",
       "      <td>singular</td>\n",
       "      <td>present</td>\n",
       "      <td>negative</td>\n",
       "      <td>You do not have to come if you don't want to\\n</td>\n",
       "      <td>11</td>\n",
       "      <td>Tu n'es pas obligé de venir si tu ne veux pas.</td>\n",
       "      <td>[tu, n', es, pas, obligé, de, venir, si, tu, n...</td>\n",
       "      <td>12</td>\n",
       "      <td>False</td>\n",
       "      <td>True</td>\n",
       "      <td>489.000000</td>\n",
       "      <td>[tu, ne, être, pas, obliger, de, venir, si, tu...</td>\n",
       "      <td>NaN</td>\n",
       "    </tr>\n",
       "    <tr>\n",
       "      <th>1</th>\n",
       "      <td>11310</td>\n",
       "      <td>basic</td>\n",
       "      <td>declarative</td>\n",
       "      <td>preposition</td>\n",
       "      <td>plural</td>\n",
       "      <td>present</td>\n",
       "      <td>negative</td>\n",
       "      <td>The students do not have their homework with t...</td>\n",
       "      <td>9</td>\n",
       "      <td>Les élèves n'ont pas leurs devoirs avec eux.</td>\n",
       "      <td>[les, élèves, n', ont, pas, leurs, devoirs, av...</td>\n",
       "      <td>9</td>\n",
       "      <td>False</td>\n",
       "      <td>True</td>\n",
       "      <td>461.750000</td>\n",
       "      <td>[le, élève, ne, avoir, pas, leur, devoir, avec...</td>\n",
       "      <td>NaN</td>\n",
       "    </tr>\n",
       "    <tr>\n",
       "      <th>2</th>\n",
       "      <td>8312</td>\n",
       "      <td>food</td>\n",
       "      <td>declarative</td>\n",
       "      <td>independent</td>\n",
       "      <td>singular</td>\n",
       "      <td>present</td>\n",
       "      <td>negative</td>\n",
       "      <td>He is not avoiding chocolate because he dislik...</td>\n",
       "      <td>9</td>\n",
       "      <td>Il n'évite pas le chocolat parce qu'il ne l'ai...</td>\n",
       "      <td>[il, n', évite, pas, le, chocolat, parce, qu',...</td>\n",
       "      <td>13</td>\n",
       "      <td>False</td>\n",
       "      <td>True</td>\n",
       "      <td>499.571429</td>\n",
       "      <td>[il, ne, éviter, pas, le, chocolat, parce, que...</td>\n",
       "      <td>NaN</td>\n",
       "    </tr>\n",
       "    <tr>\n",
       "      <th>3</th>\n",
       "      <td>15645</td>\n",
       "      <td>housing</td>\n",
       "      <td>declarative</td>\n",
       "      <td>simple</td>\n",
       "      <td>singular</td>\n",
       "      <td>past</td>\n",
       "      <td>negative</td>\n",
       "      <td>I did not like the color of the furniture\\n</td>\n",
       "      <td>9</td>\n",
       "      <td>Je n'aimais pas la couleur des meubles.</td>\n",
       "      <td>[je, n', aimais, pas, la, couleur, des, meubles]</td>\n",
       "      <td>8</td>\n",
       "      <td>False</td>\n",
       "      <td>True</td>\n",
       "      <td>457.750000</td>\n",
       "      <td>[je, ne, aimer, pas, le, couleur, de, meuble]</td>\n",
       "      <td>NaN</td>\n",
       "    </tr>\n",
       "    <tr>\n",
       "      <th>4</th>\n",
       "      <td>34086</td>\n",
       "      <td>basic</td>\n",
       "      <td>declarative</td>\n",
       "      <td>simple</td>\n",
       "      <td>plural</td>\n",
       "      <td>past</td>\n",
       "      <td>negative</td>\n",
       "      <td>They had not finished their homework\\n</td>\n",
       "      <td>6</td>\n",
       "      <td>Ils n'avaient pas fini leurs devoirs.</td>\n",
       "      <td>[ils, n', avaient, pas, fini, leurs, devoirs]</td>\n",
       "      <td>7</td>\n",
       "      <td>False</td>\n",
       "      <td>True</td>\n",
       "      <td>458.750000</td>\n",
       "      <td>[il, ne, avoir, pas, finir, leur, devoir]</td>\n",
       "      <td>NaN</td>\n",
       "    </tr>\n",
       "  </tbody>\n",
       "</table>\n",
       "</div>"
      ],
      "text/plain": [
       "   Unnamed: 0    theme         type    structure     numer    tense  polarity  \\\n",
       "0       32424    basic  declarative  independent  singular  present  negative   \n",
       "1       11310    basic  declarative  preposition    plural  present  negative   \n",
       "2        8312     food  declarative  independent  singular  present  negative   \n",
       "3       15645  housing  declarative       simple  singular     past  negative   \n",
       "4       34086    basic  declarative       simple    plural     past  negative   \n",
       "\n",
       "                                            sentence  num_words  \\\n",
       "0     You do not have to come if you don't want to\\n         11   \n",
       "1  The students do not have their homework with t...          9   \n",
       "2  He is not avoiding chocolate because he dislik...          9   \n",
       "3        I did not like the color of the furniture\\n          9   \n",
       "4             They had not finished their homework\\n          6   \n",
       "\n",
       "                                         translation  \\\n",
       "0     Tu n'es pas obligé de venir si tu ne veux pas.   \n",
       "1       Les élèves n'ont pas leurs devoirs avec eux.   \n",
       "2  Il n'évite pas le chocolat parce qu'il ne l'ai...   \n",
       "3            Je n'aimais pas la couleur des meubles.   \n",
       "4              Ils n'avaient pas fini leurs devoirs.   \n",
       "\n",
       "                                               words  num_words_translation  \\\n",
       "0  [tu, n', es, pas, obligé, de, venir, si, tu, n...                     12   \n",
       "1  [les, élèves, n', ont, pas, leurs, devoirs, av...                      9   \n",
       "2  [il, n', évite, pas, le, chocolat, parce, qu',...                     13   \n",
       "3   [je, n', aimais, pas, la, couleur, des, meubles]                      8   \n",
       "4      [ils, n', avaient, pas, fini, leurs, devoirs]                      7   \n",
       "\n",
       "   include_et  in_vocab  sum_word_counts_sent  \\\n",
       "0       False      True            489.000000   \n",
       "1       False      True            461.750000   \n",
       "2       False      True            499.571429   \n",
       "3       False      True            457.750000   \n",
       "4       False      True            458.750000   \n",
       "\n",
       "                                              lemmas  overlap  \n",
       "0  [tu, ne, être, pas, obliger, de, venir, si, tu...      NaN  \n",
       "1  [le, élève, ne, avoir, pas, leur, devoir, avec...      NaN  \n",
       "2  [il, ne, éviter, pas, le, chocolat, parce, que...      NaN  \n",
       "3      [je, ne, aimer, pas, le, couleur, de, meuble]      NaN  \n",
       "4          [il, ne, avoir, pas, finir, leur, devoir]      NaN  "
      ]
     },
     "execution_count": 386,
     "metadata": {},
     "output_type": "execute_result"
    }
   ],
   "source": [
    "def lemmas(text):\n",
    "    doc = nlp(text)\n",
    "    return [token.lemma_ for token in doc if (token.pos_ not in [\"SPACE\", \"PUNCT\"])]\n",
    "\n",
    "sentences['lemmas'] = sentences.translation.apply(lemmas)\n",
    "sentences.head()"
   ]
  },
  {
   "cell_type": "code",
   "execution_count": 387,
   "metadata": {},
   "outputs": [
    {
     "data": {
      "text/plain": [
       "Index(['Unnamed: 0', 'theme', 'type', 'structure', 'numer', 'tense',\n",
       "       'polarity', 'sentence', 'num_words', 'translation', 'words',\n",
       "       'num_words_translation', 'include_et', 'in_vocab',\n",
       "       'sum_word_counts_sent', 'lemmas', 'overlap'],\n",
       "      dtype='object')"
      ]
     },
     "execution_count": 387,
     "metadata": {},
     "output_type": "execute_result"
    }
   ],
   "source": [
    "sentences.iloc[0].keys()"
   ]
  },
  {
   "cell_type": "code",
   "execution_count": 388,
   "metadata": {},
   "outputs": [
    {
     "data": {
      "text/plain": [
       "sentence       You do not have to come if you don't want to\\n\n",
       "translation    Tu n'es pas obligé de venir si tu ne veux pas.\n",
       "Name: 0, dtype: object"
      ]
     },
     "execution_count": 388,
     "metadata": {},
     "output_type": "execute_result"
    }
   ],
   "source": [
    "sentences.iloc[0][['sentence', 'translation']]"
   ]
  },
  {
   "cell_type": "code",
   "execution_count": 389,
   "metadata": {},
   "outputs": [
    {
     "data": {
      "text/plain": [
       "array([<Axes: title={'center': 'declarative'}, ylabel='Frequency'>],\n",
       "      dtype=object)"
      ]
     },
     "execution_count": 389,
     "metadata": {},
     "output_type": "execute_result"
    },
    {
     "data": {
      "image/png": "[encoded data removed]",
      "text/plain": [
       "<Figure size 640x480 with 1 Axes>"
      ]
     },
     "metadata": {},
     "output_type": "display_data"
    }
   ],
   "source": [
    "sentences[['type', 'num_words_translation']].plot.hist(by='type', bins=10, alpha=0.5)"
   ]
  },
  {
   "cell_type": "code",
   "execution_count": 390,
   "metadata": {},
   "outputs": [
    {
     "data": {
      "text/plain": [
       "206"
      ]
     },
     "execution_count": 390,
     "metadata": {},
     "output_type": "execute_result"
    }
   ],
   "source": [
    "len(sentences)"
   ]
  },
  {
   "cell_type": "code",
   "execution_count": 391,
   "metadata": {},
   "outputs": [
    {
     "data": {
      "text/plain": [
       "polarity\n",
       "negative       110\n",
       "affirmative     96\n",
       "Name: count, dtype: int64"
      ]
     },
     "execution_count": 391,
     "metadata": {},
     "output_type": "execute_result"
    }
   ],
   "source": [
    "sentences.polarity.value_counts()"
   ]
  },
  {
   "cell_type": "code",
   "execution_count": 392,
   "metadata": {},
   "outputs": [
    {
     "data": {
      "text/plain": [
       "structure\n",
       "simple         56\n",
       "cleft          49\n",
       "preposition    46\n",
       "dependent      29\n",
       "independent    26\n",
       "Name: count, dtype: int64"
      ]
     },
     "execution_count": 392,
     "metadata": {},
     "output_type": "execute_result"
    }
   ],
   "source": [
    "sentences.structure.value_counts()"
   ]
  },
  {
   "cell_type": "code",
   "execution_count": 393,
   "metadata": {},
   "outputs": [],
   "source": [
    "# subset[['type', 'translanted_num_words']].plot.hist(by='type', bins=10, alpha=0.5)\n",
    "subset = sentences"
   ]
  },
  {
   "cell_type": "code",
   "execution_count": 394,
   "metadata": {},
   "outputs": [
    {
     "data": {
      "text/html": [
       "<div>\n",
       "<style scoped>\n",
       "    .dataframe tbody tr th:only-of-type {\n",
       "        vertical-align: middle;\n",
       "    }\n",
       "\n",
       "    .dataframe tbody tr th {\n",
       "        vertical-align: top;\n",
       "    }\n",
       "\n",
       "    .dataframe thead th {\n",
       "        text-align: right;\n",
       "    }\n",
       "</style>\n",
       "<table border=\"1\" class=\"dataframe\">\n",
       "  <thead>\n",
       "    <tr style=\"text-align: right;\">\n",
       "      <th></th>\n",
       "      <th>id</th>\n",
       "      <th>pos_tags</th>\n",
       "    </tr>\n",
       "  </thead>\n",
       "  <tbody>\n",
       "    <tr>\n",
       "      <th>0</th>\n",
       "      <td>0</td>\n",
       "      <td>ADV</td>\n",
       "    </tr>\n",
       "    <tr>\n",
       "      <th>1</th>\n",
       "      <td>1</td>\n",
       "      <td>ADV</td>\n",
       "    </tr>\n",
       "    <tr>\n",
       "      <th>2</th>\n",
       "      <td>2</td>\n",
       "      <td>AUX</td>\n",
       "    </tr>\n",
       "    <tr>\n",
       "      <th>3</th>\n",
       "      <td>3</td>\n",
       "      <td>ADV</td>\n",
       "    </tr>\n",
       "    <tr>\n",
       "      <th>4</th>\n",
       "      <td>4</td>\n",
       "      <td>VERB</td>\n",
       "    </tr>\n",
       "  </tbody>\n",
       "</table>\n",
       "</div>"
      ],
      "text/plain": [
       "   id pos_tags\n",
       "0   0      ADV\n",
       "1   1      ADV\n",
       "2   2      AUX\n",
       "3   3      ADV\n",
       "4   4     VERB"
      ]
     },
     "execution_count": 394,
     "metadata": {},
     "output_type": "execute_result"
    }
   ],
   "source": [
    "pos_tags = []\n",
    "word_id = []\n",
    "\n",
    "def get_pos_tags(text): \n",
    "    doc = nlp(text)\n",
    "    tags = [token.pos_ for token in doc if token.pos_ != \"SPACE\"]\n",
    "    return tags, np.arange(len(tags))\n",
    "\n",
    "for index, row in subset.iterrows():\n",
    "    tags, id = get_pos_tags(row['translation'])\n",
    "    pos_tags.append(tags)\n",
    "    word_id.append(id)\n",
    "\n",
    "pos_tags_df = pd.DataFrame({'id': np.concatenate(word_id), 'pos_tags': np.concatenate(pos_tags)})\n",
    "\n",
    "pos_tags_df.head()"
   ]
  },
  {
   "cell_type": "code",
   "execution_count": 395,
   "metadata": {},
   "outputs": [
    {
     "data": {
      "text/plain": [
       "Text(0.5, 1.0, 'pos percentage by word id')"
      ]
     },
     "execution_count": 395,
     "metadata": {},
     "output_type": "execute_result"
    },
    {
     "data": {
      "image/png": "[encoded data removed]",
      "text/plain": [
       "<Figure size 640x480 with 1 Axes>"
      ]
     },
     "metadata": {},
     "output_type": "display_data"
    }
   ],
   "source": [
    "sns.histplot(pos_tags_df, x='id', hue='pos_tags', stat=\"percent\", multiple='stack')\n",
    "plt.title(\"pos percentage by word id\")"
   ]
  },
  {
   "cell_type": "code",
   "execution_count": 396,
   "metadata": {},
   "outputs": [
    {
     "data": {
      "text/plain": [
       "Text(0.5, 1.0, 'content vs function percentage by word id')"
      ]
     },
     "execution_count": 396,
     "metadata": {},
     "output_type": "execute_result"
    },
    {
     "data": {
      "image/png": "[encoded data removed]",
      "text/plain": [
       "<Figure size 640x480 with 1 Axes>"
      ]
     },
     "metadata": {},
     "output_type": "display_data"
    }
   ],
   "source": [
    "pos_tags_df['is_content'] = pos_tags_df['pos_tags'].apply(lambda x: content_function_word[x])\n",
    "\n",
    "sns.histplot(pos_tags_df, x='id', hue='is_content', stat=\"percent\", multiple='stack')\n",
    "plt.title(\"content vs function percentage by word id\")"
   ]
  },
  {
   "cell_type": "markdown",
   "metadata": {},
   "source": [
    "# vocab"
   ]
  },
  {
   "cell_type": "code",
   "execution_count": 397,
   "metadata": {},
   "outputs": [
    {
     "data": {
      "text/plain": [
       "0.2916666666666667"
      ]
     },
     "execution_count": 397,
     "metadata": {},
     "output_type": "execute_result"
    }
   ],
   "source": [
    "vocab, count = np.unique(np.concatenate(subset.lemmas.values), return_counts=True)\n",
    "\n",
    "vocab_df = pd.DataFrame(vocab, columns=['word'])\n",
    "vocab_df['counts'] = count\n",
    "\n",
    "len(vocab_df.query(\"counts < 3\")) / len(vocab_df)"
   ]
  },
  {
   "cell_type": "code",
   "execution_count": 398,
   "metadata": {},
   "outputs": [
    {
     "data": {
      "text/plain": [
       "['-',\n",
       " 'accepter',\n",
       " 'acheter',\n",
       " 'aider',\n",
       " 'aimer',\n",
       " 'air',\n",
       " 'aller',\n",
       " 'ami',\n",
       " 'amie',\n",
       " 'animal',\n",
       " 'anniversaire',\n",
       " 'année',\n",
       " 'appareil',\n",
       " 'appeler',\n",
       " 'apporter',\n",
       " 'approche',\n",
       " 'apprécier',\n",
       " 'après',\n",
       " 'après-midi',\n",
       " 'arbitre',\n",
       " 'arbre',\n",
       " 'arriver',\n",
       " 'assez',\n",
       " 'attendre',\n",
       " 'au',\n",
       " 'au-dessus',\n",
       " \"aujourd'hui\",\n",
       " 'aussi',\n",
       " 'automne',\n",
       " 'autre',\n",
       " 'avant',\n",
       " 'avec',\n",
       " 'avoir',\n",
       " 'bain',\n",
       " 'bateau',\n",
       " 'beau',\n",
       " 'beaucoup',\n",
       " 'bibliothèque',\n",
       " 'bien',\n",
       " 'boire',\n",
       " 'bon',\n",
       " 'bureau',\n",
       " 'cadeau',\n",
       " 'café',\n",
       " 'calme',\n",
       " 'canapé',\n",
       " 'ce',\n",
       " 'centre',\n",
       " 'certain',\n",
       " 'chaise',\n",
       " 'championnat',\n",
       " 'changement',\n",
       " 'changer',\n",
       " 'chaque',\n",
       " 'charger',\n",
       " 'chef',\n",
       " 'cher',\n",
       " 'chocolat',\n",
       " 'choisir',\n",
       " 'ci',\n",
       " 'cinéma',\n",
       " 'club',\n",
       " 'collègue',\n",
       " 'comme',\n",
       " 'commercial',\n",
       " 'communauté',\n",
       " 'concurrence',\n",
       " 'conduire',\n",
       " 'confortable',\n",
       " 'correctement',\n",
       " 'couleur',\n",
       " 'couple',\n",
       " 'courir',\n",
       " 'course',\n",
       " 'cuisine',\n",
       " 'dans',\n",
       " 'de',\n",
       " 'dehors',\n",
       " 'demain',\n",
       " 'dernier',\n",
       " 'devant',\n",
       " 'devoir',\n",
       " 'dire',\n",
       " 'dix',\n",
       " 'donner',\n",
       " 'doux',\n",
       " 'durer',\n",
       " 'décider',\n",
       " 'décision',\n",
       " 'découvrir',\n",
       " 'déjeuner',\n",
       " 'délicieux',\n",
       " 'dîner',\n",
       " 'en',\n",
       " 'encore',\n",
       " 'end',\n",
       " 'enfant',\n",
       " 'ensembl',\n",
       " 'ensemble',\n",
       " 'entrepreneur',\n",
       " 'entreprise',\n",
       " 'entrer',\n",
       " 'essayer',\n",
       " 'est',\n",
       " 'exercice',\n",
       " 'explorer',\n",
       " 'facilement',\n",
       " 'faim',\n",
       " 'faire',\n",
       " 'famille',\n",
       " 'fatiguer',\n",
       " 'fenêtre',\n",
       " 'feuille',\n",
       " 'fichier',\n",
       " 'fier',\n",
       " 'film',\n",
       " 'fils',\n",
       " 'fin',\n",
       " 'finale',\n",
       " 'finir',\n",
       " 'fleur',\n",
       " 'formation',\n",
       " 'fort',\n",
       " 'frais',\n",
       " 'froid',\n",
       " 'frère',\n",
       " 'fête',\n",
       " 'gagner',\n",
       " 'gens',\n",
       " 'généralement',\n",
       " 'heure',\n",
       " 'heureux',\n",
       " 'hier',\n",
       " 'hiver',\n",
       " 'ici',\n",
       " 'il',\n",
       " 'installer',\n",
       " 'instruction',\n",
       " 'intense',\n",
       " 'inviter',\n",
       " 'invité',\n",
       " 'jamais',\n",
       " 'jardin',\n",
       " 'je',\n",
       " 'john',\n",
       " 'joie',\n",
       " 'jouer',\n",
       " 'joueur',\n",
       " 'jus',\n",
       " 'lac',\n",
       " 'laisse',\n",
       " 'laisser',\n",
       " 'le',\n",
       " 'leur',\n",
       " 'lire',\n",
       " 'livre',\n",
       " 'lui',\n",
       " 'luire',\n",
       " 'lumière',\n",
       " 'magasin',\n",
       " 'mais',\n",
       " 'maison',\n",
       " 'malgré',\n",
       " 'mars',\n",
       " 'match',\n",
       " 'matin',\n",
       " 'me',\n",
       " 'meilleur',\n",
       " 'message',\n",
       " 'meuble',\n",
       " 'moi',\n",
       " 'mois',\n",
       " 'mon',\n",
       " 'montagne',\n",
       " 'moteur',\n",
       " 'mère',\n",
       " 'naturel',\n",
       " 'ne',\n",
       " 'neige',\n",
       " 'nerveux',\n",
       " 'noir',\n",
       " 'nombreux',\n",
       " 'non',\n",
       " 'notre',\n",
       " 'nous',\n",
       " 'nouveau',\n",
       " 'obliger',\n",
       " 'océan',\n",
       " 'offre',\n",
       " 'oiseau',\n",
       " 'on',\n",
       " 'organiser',\n",
       " 'ou',\n",
       " 'ouvert',\n",
       " 'ouvrir',\n",
       " 'où',\n",
       " 'panne',\n",
       " 'parc',\n",
       " 'parce',\n",
       " 'parent',\n",
       " 'parking',\n",
       " 'partager',\n",
       " 'participant',\n",
       " 'participer',\n",
       " 'pas',\n",
       " 'pendant',\n",
       " 'perdre',\n",
       " 'permettre',\n",
       " 'permission',\n",
       " 'personne',\n",
       " 'personnel',\n",
       " 'petit',\n",
       " 'peur',\n",
       " 'pied',\n",
       " 'pièce',\n",
       " 'place',\n",
       " 'placer',\n",
       " 'plan',\n",
       " 'pleuvoir',\n",
       " 'plus',\n",
       " 'plusieurs',\n",
       " 'politique',\n",
       " 'pour',\n",
       " 'poésie',\n",
       " 'premier',\n",
       " 'prendre',\n",
       " 'prix',\n",
       " 'prochain',\n",
       " 'profonde',\n",
       " 'projet',\n",
       " 'promotion',\n",
       " 'propos',\n",
       " 'propre',\n",
       " 'propriétaire',\n",
       " 'près',\n",
       " 'préférer',\n",
       " 'préparer',\n",
       " 'présentation',\n",
       " 'prévoir',\n",
       " 'prêt',\n",
       " 'père',\n",
       " 'quand',\n",
       " 'que',\n",
       " 'quel',\n",
       " 'qui',\n",
       " 'recette',\n",
       " 'recevoir',\n",
       " 'recherche',\n",
       " 'regarder',\n",
       " 'remplacer',\n",
       " 'rendre',\n",
       " 'rentrer',\n",
       " 'repas',\n",
       " 'ressentir',\n",
       " 'robe',\n",
       " 'roman',\n",
       " 'route',\n",
       " 'récent',\n",
       " 'régulièrement',\n",
       " 'réparer',\n",
       " 'salle',\n",
       " 'salon',\n",
       " 'se',\n",
       " 'sec',\n",
       " 'secret',\n",
       " 'semaine',\n",
       " 'sentir',\n",
       " 'servir',\n",
       " 'seul',\n",
       " 'si',\n",
       " 'société',\n",
       " 'soif',\n",
       " 'soin',\n",
       " 'soir',\n",
       " 'son',\n",
       " 'sortir',\n",
       " 'sou',\n",
       " 'souffl',\n",
       " 'souffrir',\n",
       " 'souvent',\n",
       " 'spectateur',\n",
       " 'sport',\n",
       " 'suivre',\n",
       " 'surprendre',\n",
       " 'séjour',\n",
       " 'sœur',\n",
       " 'table',\n",
       " 'tapis',\n",
       " 'tard',\n",
       " 'temps',\n",
       " 'tempête',\n",
       " 'terminer',\n",
       " 'thé',\n",
       " 'tomber',\n",
       " 'tournoi',\n",
       " 'tout',\n",
       " 'train',\n",
       " 'travailler',\n",
       " 'travers',\n",
       " 'traverser',\n",
       " 'triste',\n",
       " 'tristess',\n",
       " 'trop',\n",
       " 'très',\n",
       " 'tu',\n",
       " 'tôt',\n",
       " 'un',\n",
       " 'vacance',\n",
       " 'vendredi',\n",
       " 'venir',\n",
       " 'vent',\n",
       " 'vieux',\n",
       " 'ville',\n",
       " 'visite',\n",
       " 'vivre',\n",
       " 'voir',\n",
       " 'voisin',\n",
       " 'voiture',\n",
       " 'vol',\n",
       " 'voler',\n",
       " 'votre',\n",
       " 'vouloir',\n",
       " 'vous',\n",
       " 'voyage',\n",
       " 'voyager',\n",
       " 'week',\n",
       " 'à',\n",
       " 'éclairage',\n",
       " 'élève',\n",
       " 'étage',\n",
       " 'étudier',\n",
       " 'été',\n",
       " 'éviter',\n",
       " 'événement',\n",
       " 'être',\n",
       " 'œuf']"
      ]
     },
     "execution_count": 398,
     "metadata": {},
     "output_type": "execute_result"
    }
   ],
   "source": [
    "# vocab = list(set(subset['translation'].str.cat(sep=' ').split()))\n",
    "\n",
    "# clean the words \n",
    "for i in range(len(vocab)):\n",
    "    vocab[i] = vocab[i].lower()\n",
    "    # index of ' in word\n",
    "    if (\"'\" in vocab[i]):\n",
    "        if (vocab[i].index(\"'\") == 1):\n",
    "            vocab[i] = vocab[i][2:]\n",
    "    elif \"'\\u200b'\" in vocab[i]:\n",
    "        vocab[i] = vocab[i].replace(\"'\\u200b'\", \"\")\n",
    "vocab = list(set(vocab))\n",
    "vocab.sort()\n",
    "vocab"
   ]
  },
  {
   "cell_type": "code",
   "execution_count": 399,
   "metadata": {},
   "outputs": [
    {
     "name": "stdout",
     "output_type": "stream",
     "text": [
      "num of unique words: 336\n"
     ]
    }
   ],
   "source": [
    "print(f\"num of unique words: {len(vocab)}\")"
   ]
  },
  {
   "cell_type": "code",
   "execution_count": 400,
   "metadata": {},
   "outputs": [
    {
     "data": {
      "text/plain": [
       "Text(0.5, 1.0, 'Character frequency all sentences')"
      ]
     },
     "execution_count": 400,
     "metadata": {},
     "output_type": "execute_result"
    },
    {
     "data": {
      "image/png": "[encoded data removed]",
      "text/plain": [
       "<Figure size 640x480 with 1 Axes>"
      ]
     },
     "metadata": {},
     "output_type": "display_data"
    }
   ],
   "source": [
    "# get all char in sentence \n",
    "char = list(\"\".join(subset.translation.str.cat(sep=' ')).lower())\n",
    "unique_char, counts = np.unique(char, return_counts=True)\n",
    "\n",
    "plt.bar(np.arange(len(unique_char)), counts, tick_label=unique_char)\n",
    "plt.title('Character frequency all sentences')"
   ]
  },
  {
   "cell_type": "markdown",
   "metadata": {},
   "source": [
    "# choose a subset of words "
   ]
  },
  {
   "cell_type": "code",
   "execution_count": 401,
   "metadata": {},
   "outputs": [
    {
     "data": {
      "text/plain": [
       "336"
      ]
     },
     "execution_count": 401,
     "metadata": {},
     "output_type": "execute_result"
    }
   ],
   "source": [
    "len(set(vocab))"
   ]
  },
  {
   "cell_type": "code",
   "execution_count": 402,
   "metadata": {},
   "outputs": [],
   "source": [
    "# words that are 4 char minimum, content words, check POS distribution, phonetic distribution, 50 words in total, \n",
    "vocab_filtered = [w for w in vocab if len(w) >=4]"
   ]
  },
  {
   "cell_type": "code",
   "execution_count": 403,
   "metadata": {},
   "outputs": [
    {
     "data": {
      "text/plain": [
       "Text(0.5, 1.0, 'POS distribution of words')"
      ]
     },
     "execution_count": 403,
     "metadata": {},
     "output_type": "execute_result"
    },
    {
     "data": {
      "image/png": "[encoded data removed]",
      "text/plain": [
       "<Figure size 640x480 with 1 Axes>"
      ]
     },
     "metadata": {},
     "output_type": "display_data"
    }
   ],
   "source": [
    "def get_pos(word): \n",
    "    doc = nlp(str(word))\n",
    "    return doc[0].pos_\n",
    "\n",
    "pos = [get_pos(w) for w in vocab_filtered]\n",
    "np.unique(pos, return_counts=True)\n",
    "\n",
    "plt.bar(np.unique(pos), np.unique(pos, return_counts=True)[1])\n",
    "plt.title('POS distribution of words')"
   ]
  },
  {
   "cell_type": "code",
   "execution_count": 404,
   "metadata": {},
   "outputs": [
    {
     "name": "stdout",
     "output_type": "stream",
     "text": [
      "['content' 'function'] [267  25]\n"
     ]
    },
    {
     "data": {
      "text/plain": [
       "Text(0.5, 1.0, 'content vs functino word distribution')"
      ]
     },
     "execution_count": 404,
     "metadata": {},
     "output_type": "execute_result"
    },
    {
     "data": {
      "image/png": "[encoded data removed]",
      "text/plain": [
       "<Figure size 640x480 with 1 Axes>"
      ]
     },
     "metadata": {},
     "output_type": "display_data"
    }
   ],
   "source": [
    "\n",
    "is_content = [content_function_word[p] for p in pos]\n",
    "\n",
    "unique_c, counts = np.unique(is_content, return_counts=True)\n",
    "print(unique_c, counts)\n",
    "\n",
    "plt.bar(unique_c, counts)\n",
    "plt.title(\"content vs functino word distribution\")\n"
   ]
  },
  {
   "cell_type": "code",
   "execution_count": 405,
   "metadata": {},
   "outputs": [
    {
     "data": {
      "text/html": [
       "<div>\n",
       "<style scoped>\n",
       "    .dataframe tbody tr th:only-of-type {\n",
       "        vertical-align: middle;\n",
       "    }\n",
       "\n",
       "    .dataframe tbody tr th {\n",
       "        vertical-align: top;\n",
       "    }\n",
       "\n",
       "    .dataframe thead th {\n",
       "        text-align: right;\n",
       "    }\n",
       "</style>\n",
       "<table border=\"1\" class=\"dataframe\">\n",
       "  <thead>\n",
       "    <tr style=\"text-align: right;\">\n",
       "      <th></th>\n",
       "      <th>word</th>\n",
       "      <th>pos</th>\n",
       "      <th>is_content</th>\n",
       "      <th>phonemes</th>\n",
       "      <th>first_phone</th>\n",
       "    </tr>\n",
       "  </thead>\n",
       "  <tbody>\n",
       "    <tr>\n",
       "      <th>0</th>\n",
       "      <td>accepter</td>\n",
       "      <td>VERB</td>\n",
       "      <td>content</td>\n",
       "      <td>[a, k, s, ɛ, p, t, e]</td>\n",
       "      <td>a</td>\n",
       "    </tr>\n",
       "    <tr>\n",
       "      <th>1</th>\n",
       "      <td>acheter</td>\n",
       "      <td>VERB</td>\n",
       "      <td>content</td>\n",
       "      <td>[a, ʃ, t, e]</td>\n",
       "      <td>a</td>\n",
       "    </tr>\n",
       "    <tr>\n",
       "      <th>2</th>\n",
       "      <td>aider</td>\n",
       "      <td>VERB</td>\n",
       "      <td>content</td>\n",
       "      <td>[ɛ, d, e]</td>\n",
       "      <td>ɛ</td>\n",
       "    </tr>\n",
       "    <tr>\n",
       "      <th>3</th>\n",
       "      <td>aimer</td>\n",
       "      <td>VERB</td>\n",
       "      <td>content</td>\n",
       "      <td>[ɛ, m, e]</td>\n",
       "      <td>ɛ</td>\n",
       "    </tr>\n",
       "    <tr>\n",
       "      <th>4</th>\n",
       "      <td>aller</td>\n",
       "      <td>VERB</td>\n",
       "      <td>content</td>\n",
       "      <td>[a, l, e]</td>\n",
       "      <td>a</td>\n",
       "    </tr>\n",
       "  </tbody>\n",
       "</table>\n",
       "</div>"
      ],
      "text/plain": [
       "       word   pos is_content               phonemes first_phone\n",
       "0  accepter  VERB    content  [a, k, s, ɛ, p, t, e]           a\n",
       "1   acheter  VERB    content           [a, ʃ, t, e]           a\n",
       "2     aider  VERB    content              [ɛ, d, e]           ɛ\n",
       "3     aimer  VERB    content              [ɛ, m, e]           ɛ\n",
       "4     aller  VERB    content              [a, l, e]           a"
      ]
     },
     "execution_count": 405,
     "metadata": {},
     "output_type": "execute_result"
    }
   ],
   "source": [
    "# put words in df \n",
    "words = pd.DataFrame({'word': vocab_filtered, 'pos': pos, 'is_content': is_content})\n",
    "\n",
    "# enrich \n",
    "words['phonemes'] = words['word'].apply(get_phonemes)\n",
    "words['first_phone'] = words['phonemes'].apply(lambda x: x[0])\n",
    "words.head()"
   ]
  },
  {
   "cell_type": "code",
   "execution_count": 406,
   "metadata": {},
   "outputs": [
    {
     "data": {
      "text/plain": [
       "Text(0.5, 1.0, 'First phone distribution of words (length >= 4)')"
      ]
     },
     "execution_count": 406,
     "metadata": {},
     "output_type": "execute_result"
    },
    {
     "data": {
      "image/png": "[encoded data removed]",
      "text/plain": [
       "<Figure size 640x480 with 1 Axes>"
      ]
     },
     "metadata": {},
     "output_type": "display_data"
    }
   ],
   "source": [
    "words.first_phone.value_counts().plot.bar()\n",
    "plt.title('First phone distribution of words (length >= 4)')"
   ]
  },
  {
   "cell_type": "code",
   "execution_count": 407,
   "metadata": {},
   "outputs": [
    {
     "data": {
      "text/plain": [
       "219"
      ]
     },
     "execution_count": 407,
     "metadata": {},
     "output_type": "execute_result"
    }
   ],
   "source": [
    "infrequence_first_phones = words.first_phone.value_counts()[words.first_phone.value_counts() < 10].index\n",
    "\n",
    "temp = words[~words.first_phone.isin(infrequence_first_phones)]\n",
    "len(temp)"
   ]
  },
  {
   "cell_type": "code",
   "execution_count": 408,
   "metadata": {},
   "outputs": [
    {
     "data": {
      "text/plain": [
       "198"
      ]
     },
     "execution_count": 408,
     "metadata": {},
     "output_type": "execute_result"
    }
   ],
   "source": [
    "# remove words with symbols \n",
    "temp = temp[~temp.word.str.contains(r'[^\\w\\s]')]\n",
    "temp = temp[~temp.word.str.contains(r'[\\u200b]')]\n",
    "temp = temp[temp.is_content == 'content']\n",
    "len(temp)"
   ]
  },
  {
   "cell_type": "code",
   "execution_count": 421,
   "metadata": {},
   "outputs": [],
   "source": [
    "sample_n = 20\n",
    "\n",
    "word_path = Path(\"../text/selected_words_final.csv\")\n",
    "\n",
    "if word_path.exists():\n",
    "    final_words = pd.read_csv(word_path)\n",
    "else:\n",
    "    final_words = temp.sample(sample_n)\n"
   ]
  },
  {
   "cell_type": "markdown",
   "metadata": {},
   "source": [
    "# analysis of words selected for single word trials "
   ]
  },
  {
   "cell_type": "code",
   "execution_count": 422,
   "metadata": {},
   "outputs": [
    {
     "data": {
      "text/html": [
       "<div>\n",
       "<style scoped>\n",
       "    .dataframe tbody tr th:only-of-type {\n",
       "        vertical-align: middle;\n",
       "    }\n",
       "\n",
       "    .dataframe tbody tr th {\n",
       "        vertical-align: top;\n",
       "    }\n",
       "\n",
       "    .dataframe thead th {\n",
       "        text-align: right;\n",
       "    }\n",
       "</style>\n",
       "<table border=\"1\" class=\"dataframe\">\n",
       "  <thead>\n",
       "    <tr style=\"text-align: right;\">\n",
       "      <th></th>\n",
       "      <th>word</th>\n",
       "      <th>pos</th>\n",
       "      <th>is_content</th>\n",
       "      <th>phonemes</th>\n",
       "      <th>first_phone</th>\n",
       "    </tr>\n",
       "  </thead>\n",
       "  <tbody>\n",
       "    <tr>\n",
       "      <th>98</th>\n",
       "      <td>fatiguer</td>\n",
       "      <td>VERB</td>\n",
       "      <td>content</td>\n",
       "      <td>[f, a, t, i, ɡ, e]</td>\n",
       "      <td>f</td>\n",
       "    </tr>\n",
       "    <tr>\n",
       "      <th>210</th>\n",
       "      <td>prêt</td>\n",
       "      <td>ADJ</td>\n",
       "      <td>content</td>\n",
       "      <td>[p, ʁ, ɛ]</td>\n",
       "      <td>p</td>\n",
       "    </tr>\n",
       "    <tr>\n",
       "      <th>261</th>\n",
       "      <td>travers</td>\n",
       "      <td>NOUN</td>\n",
       "      <td>content</td>\n",
       "      <td>[t, ʁ, a, v, ɛ, ʁ]</td>\n",
       "      <td>t</td>\n",
       "    </tr>\n",
       "    <tr>\n",
       "      <th>248</th>\n",
       "      <td>séjour</td>\n",
       "      <td>NOUN</td>\n",
       "      <td>content</td>\n",
       "      <td>[s, e, ʒ, u, ʁ]</td>\n",
       "      <td>s</td>\n",
       "    </tr>\n",
       "    <tr>\n",
       "      <th>150</th>\n",
       "      <td>montagne</td>\n",
       "      <td>NOUN</td>\n",
       "      <td>content</td>\n",
       "      <td>[m, ɔ̃, t, a, ɲ]</td>\n",
       "      <td>m</td>\n",
       "    </tr>\n",
       "    <tr>\n",
       "      <th>265</th>\n",
       "      <td>trop</td>\n",
       "      <td>ADV</td>\n",
       "      <td>content</td>\n",
       "      <td>[t, ʁ, o]</td>\n",
       "      <td>t</td>\n",
       "    </tr>\n",
       "    <tr>\n",
       "      <th>277</th>\n",
       "      <td>voiture</td>\n",
       "      <td>NOUN</td>\n",
       "      <td>content</td>\n",
       "      <td>[v, w, a, t, y, ʁ]</td>\n",
       "      <td>v</td>\n",
       "    </tr>\n",
       "    <tr>\n",
       "      <th>263</th>\n",
       "      <td>triste</td>\n",
       "      <td>ADJ</td>\n",
       "      <td>content</td>\n",
       "      <td>[t, ʁ, i, s, t]</td>\n",
       "      <td>t</td>\n",
       "    </tr>\n",
       "    <tr>\n",
       "      <th>179</th>\n",
       "      <td>permission</td>\n",
       "      <td>NOUN</td>\n",
       "      <td>content</td>\n",
       "      <td>[p, ɛ, ʁ, m, i, s, j, ɔ̃]</td>\n",
       "      <td>p</td>\n",
       "    </tr>\n",
       "    <tr>\n",
       "      <th>190</th>\n",
       "      <td>plus</td>\n",
       "      <td>ADV</td>\n",
       "      <td>content</td>\n",
       "      <td>[p, l, y]</td>\n",
       "      <td>p</td>\n",
       "    </tr>\n",
       "    <tr>\n",
       "      <th>275</th>\n",
       "      <td>voir</td>\n",
       "      <td>VERB</td>\n",
       "      <td>content</td>\n",
       "      <td>[v, w, a, ʁ]</td>\n",
       "      <td>v</td>\n",
       "    </tr>\n",
       "    <tr>\n",
       "      <th>231</th>\n",
       "      <td>secret</td>\n",
       "      <td>NOUN</td>\n",
       "      <td>content</td>\n",
       "      <td>[s, ə, k, ʁ, ɛ]</td>\n",
       "      <td>s</td>\n",
       "    </tr>\n",
       "    <tr>\n",
       "      <th>236</th>\n",
       "      <td>société</td>\n",
       "      <td>NOUN</td>\n",
       "      <td>content</td>\n",
       "      <td>[s, ɔ, s, j, e, t, e]</td>\n",
       "      <td>s</td>\n",
       "    </tr>\n",
       "    <tr>\n",
       "      <th>1</th>\n",
       "      <td>acheter</td>\n",
       "      <td>VERB</td>\n",
       "      <td>content</td>\n",
       "      <td>[a, ʃ, t, e]</td>\n",
       "      <td>a</td>\n",
       "    </tr>\n",
       "    <tr>\n",
       "      <th>280</th>\n",
       "      <td>vouloir</td>\n",
       "      <td>VERB</td>\n",
       "      <td>content</td>\n",
       "      <td>[v, u, l, w, a, ʁ]</td>\n",
       "      <td>v</td>\n",
       "    </tr>\n",
       "    <tr>\n",
       "      <th>102</th>\n",
       "      <td>fier</td>\n",
       "      <td>ADJ</td>\n",
       "      <td>content</td>\n",
       "      <td>[f, j, ɛ, ʁ]</td>\n",
       "      <td>f</td>\n",
       "    </tr>\n",
       "    <tr>\n",
       "      <th>20</th>\n",
       "      <td>attendre</td>\n",
       "      <td>VERB</td>\n",
       "      <td>content</td>\n",
       "      <td>[a, t, ɑ̃, d, ʁ]</td>\n",
       "      <td>a</td>\n",
       "    </tr>\n",
       "    <tr>\n",
       "      <th>196</th>\n",
       "      <td>prendre</td>\n",
       "      <td>VERB</td>\n",
       "      <td>content</td>\n",
       "      <td>[p, ʁ, ɑ̃, d, ʁ]</td>\n",
       "      <td>p</td>\n",
       "    </tr>\n",
       "    <tr>\n",
       "      <th>240</th>\n",
       "      <td>sortir</td>\n",
       "      <td>VERB</td>\n",
       "      <td>content</td>\n",
       "      <td>[s, ɔ, ʁ, t, i, ʁ]</td>\n",
       "      <td>s</td>\n",
       "    </tr>\n",
       "    <tr>\n",
       "      <th>276</th>\n",
       "      <td>voisin</td>\n",
       "      <td>ADJ</td>\n",
       "      <td>content</td>\n",
       "      <td>[v, w, a, z, ɛ̃]</td>\n",
       "      <td>v</td>\n",
       "    </tr>\n",
       "  </tbody>\n",
       "</table>\n",
       "</div>"
      ],
      "text/plain": [
       "           word   pos is_content                   phonemes first_phone\n",
       "98     fatiguer  VERB    content         [f, a, t, i, ɡ, e]           f\n",
       "210        prêt   ADJ    content                  [p, ʁ, ɛ]           p\n",
       "261     travers  NOUN    content         [t, ʁ, a, v, ɛ, ʁ]           t\n",
       "248      séjour  NOUN    content            [s, e, ʒ, u, ʁ]           s\n",
       "150    montagne  NOUN    content           [m, ɔ̃, t, a, ɲ]           m\n",
       "265        trop   ADV    content                  [t, ʁ, o]           t\n",
       "277     voiture  NOUN    content         [v, w, a, t, y, ʁ]           v\n",
       "263      triste   ADJ    content            [t, ʁ, i, s, t]           t\n",
       "179  permission  NOUN    content  [p, ɛ, ʁ, m, i, s, j, ɔ̃]           p\n",
       "190        plus   ADV    content                  [p, l, y]           p\n",
       "275        voir  VERB    content               [v, w, a, ʁ]           v\n",
       "231      secret  NOUN    content            [s, ə, k, ʁ, ɛ]           s\n",
       "236     société  NOUN    content      [s, ɔ, s, j, e, t, e]           s\n",
       "1       acheter  VERB    content               [a, ʃ, t, e]           a\n",
       "280     vouloir  VERB    content         [v, u, l, w, a, ʁ]           v\n",
       "102        fier   ADJ    content               [f, j, ɛ, ʁ]           f\n",
       "20     attendre  VERB    content           [a, t, ɑ̃, d, ʁ]           a\n",
       "196     prendre  VERB    content           [p, ʁ, ɑ̃, d, ʁ]           p\n",
       "240      sortir  VERB    content         [s, ɔ, ʁ, t, i, ʁ]           s\n",
       "276      voisin   ADJ    content           [v, w, a, z, ɛ̃]           v"
      ]
     },
     "execution_count": 422,
     "metadata": {},
     "output_type": "execute_result"
    }
   ],
   "source": [
    "final_words"
   ]
  },
  {
   "cell_type": "code",
   "execution_count": 423,
   "metadata": {},
   "outputs": [
    {
     "data": {
      "text/html": [
       "<div>\n",
       "<style scoped>\n",
       "    .dataframe tbody tr th:only-of-type {\n",
       "        vertical-align: middle;\n",
       "    }\n",
       "\n",
       "    .dataframe tbody tr th {\n",
       "        vertical-align: top;\n",
       "    }\n",
       "\n",
       "    .dataframe thead th {\n",
       "        text-align: right;\n",
       "    }\n",
       "</style>\n",
       "<table border=\"1\" class=\"dataframe\">\n",
       "  <thead>\n",
       "    <tr style=\"text-align: right;\">\n",
       "      <th></th>\n",
       "      <th>word</th>\n",
       "      <th>pos</th>\n",
       "      <th>is_content</th>\n",
       "      <th>phonemes</th>\n",
       "      <th>first_phone</th>\n",
       "    </tr>\n",
       "  </thead>\n",
       "  <tbody>\n",
       "    <tr>\n",
       "      <th>98</th>\n",
       "      <td>fatiguer</td>\n",
       "      <td>VERB</td>\n",
       "      <td>content</td>\n",
       "      <td>[f, a, t, i, ɡ, e]</td>\n",
       "      <td>f</td>\n",
       "    </tr>\n",
       "    <tr>\n",
       "      <th>210</th>\n",
       "      <td>prêt</td>\n",
       "      <td>ADJ</td>\n",
       "      <td>content</td>\n",
       "      <td>[p, ʁ, ɛ]</td>\n",
       "      <td>p</td>\n",
       "    </tr>\n",
       "    <tr>\n",
       "      <th>261</th>\n",
       "      <td>travers</td>\n",
       "      <td>NOUN</td>\n",
       "      <td>content</td>\n",
       "      <td>[t, ʁ, a, v, ɛ, ʁ]</td>\n",
       "      <td>t</td>\n",
       "    </tr>\n",
       "    <tr>\n",
       "      <th>248</th>\n",
       "      <td>séjour</td>\n",
       "      <td>NOUN</td>\n",
       "      <td>content</td>\n",
       "      <td>[s, e, ʒ, u, ʁ]</td>\n",
       "      <td>s</td>\n",
       "    </tr>\n",
       "    <tr>\n",
       "      <th>150</th>\n",
       "      <td>montagne</td>\n",
       "      <td>NOUN</td>\n",
       "      <td>content</td>\n",
       "      <td>[m, ɔ̃, t, a, ɲ]</td>\n",
       "      <td>m</td>\n",
       "    </tr>\n",
       "    <tr>\n",
       "      <th>...</th>\n",
       "      <td>...</td>\n",
       "      <td>...</td>\n",
       "      <td>...</td>\n",
       "      <td>...</td>\n",
       "      <td>...</td>\n",
       "    </tr>\n",
       "    <tr>\n",
       "      <th>102</th>\n",
       "      <td>fier</td>\n",
       "      <td>ADJ</td>\n",
       "      <td>content</td>\n",
       "      <td>[f, j, ɛ, ʁ]</td>\n",
       "      <td>f</td>\n",
       "    </tr>\n",
       "    <tr>\n",
       "      <th>20</th>\n",
       "      <td>attendre</td>\n",
       "      <td>VERB</td>\n",
       "      <td>content</td>\n",
       "      <td>[a, t, ɑ̃, d, ʁ]</td>\n",
       "      <td>a</td>\n",
       "    </tr>\n",
       "    <tr>\n",
       "      <th>196</th>\n",
       "      <td>prendre</td>\n",
       "      <td>VERB</td>\n",
       "      <td>content</td>\n",
       "      <td>[p, ʁ, ɑ̃, d, ʁ]</td>\n",
       "      <td>p</td>\n",
       "    </tr>\n",
       "    <tr>\n",
       "      <th>240</th>\n",
       "      <td>sortir</td>\n",
       "      <td>VERB</td>\n",
       "      <td>content</td>\n",
       "      <td>[s, ɔ, ʁ, t, i, ʁ]</td>\n",
       "      <td>s</td>\n",
       "    </tr>\n",
       "    <tr>\n",
       "      <th>276</th>\n",
       "      <td>voisin</td>\n",
       "      <td>ADJ</td>\n",
       "      <td>content</td>\n",
       "      <td>[v, w, a, z, ɛ̃]</td>\n",
       "      <td>v</td>\n",
       "    </tr>\n",
       "  </tbody>\n",
       "</table>\n",
       "<p>80 rows × 5 columns</p>\n",
       "</div>"
      ],
      "text/plain": [
       "         word   pos is_content            phonemes first_phone\n",
       "98   fatiguer  VERB    content  [f, a, t, i, ɡ, e]           f\n",
       "210      prêt   ADJ    content           [p, ʁ, ɛ]           p\n",
       "261   travers  NOUN    content  [t, ʁ, a, v, ɛ, ʁ]           t\n",
       "248    séjour  NOUN    content     [s, e, ʒ, u, ʁ]           s\n",
       "150  montagne  NOUN    content    [m, ɔ̃, t, a, ɲ]           m\n",
       "..        ...   ...        ...                 ...         ...\n",
       "102      fier   ADJ    content        [f, j, ɛ, ʁ]           f\n",
       "20   attendre  VERB    content    [a, t, ɑ̃, d, ʁ]           a\n",
       "196   prendre  VERB    content    [p, ʁ, ɑ̃, d, ʁ]           p\n",
       "240    sortir  VERB    content  [s, ɔ, ʁ, t, i, ʁ]           s\n",
       "276    voisin   ADJ    content    [v, w, a, z, ɛ̃]           v\n",
       "\n",
       "[80 rows x 5 columns]"
      ]
     },
     "execution_count": 423,
     "metadata": {},
     "output_type": "execute_result"
    }
   ],
   "source": [
    "pd.concat([final_words]*4)"
   ]
  },
  {
   "cell_type": "code",
   "execution_count": 424,
   "metadata": {},
   "outputs": [
    {
     "data": {
      "text/html": [
       "<div>\n",
       "<style scoped>\n",
       "    .dataframe tbody tr th:only-of-type {\n",
       "        vertical-align: middle;\n",
       "    }\n",
       "\n",
       "    .dataframe tbody tr th {\n",
       "        vertical-align: top;\n",
       "    }\n",
       "\n",
       "    .dataframe thead th {\n",
       "        text-align: right;\n",
       "    }\n",
       "</style>\n",
       "<table border=\"1\" class=\"dataframe\">\n",
       "  <thead>\n",
       "    <tr style=\"text-align: right;\">\n",
       "      <th></th>\n",
       "      <th>word</th>\n",
       "      <th>pos</th>\n",
       "      <th>is_content</th>\n",
       "      <th>phonemes</th>\n",
       "      <th>first_phone</th>\n",
       "      <th>lemma</th>\n",
       "    </tr>\n",
       "  </thead>\n",
       "  <tbody>\n",
       "    <tr>\n",
       "      <th>98</th>\n",
       "      <td>fatiguer</td>\n",
       "      <td>VERB</td>\n",
       "      <td>content</td>\n",
       "      <td>[f, a, t, i, ɡ, e]</td>\n",
       "      <td>f</td>\n",
       "      <td>fatiguer</td>\n",
       "    </tr>\n",
       "    <tr>\n",
       "      <th>210</th>\n",
       "      <td>prêt</td>\n",
       "      <td>ADJ</td>\n",
       "      <td>content</td>\n",
       "      <td>[p, ʁ, ɛ]</td>\n",
       "      <td>p</td>\n",
       "      <td>prêt</td>\n",
       "    </tr>\n",
       "    <tr>\n",
       "      <th>261</th>\n",
       "      <td>travers</td>\n",
       "      <td>NOUN</td>\n",
       "      <td>content</td>\n",
       "      <td>[t, ʁ, a, v, ɛ, ʁ]</td>\n",
       "      <td>t</td>\n",
       "      <td>travers</td>\n",
       "    </tr>\n",
       "    <tr>\n",
       "      <th>248</th>\n",
       "      <td>séjour</td>\n",
       "      <td>NOUN</td>\n",
       "      <td>content</td>\n",
       "      <td>[s, e, ʒ, u, ʁ]</td>\n",
       "      <td>s</td>\n",
       "      <td>séjour</td>\n",
       "    </tr>\n",
       "    <tr>\n",
       "      <th>150</th>\n",
       "      <td>montagne</td>\n",
       "      <td>NOUN</td>\n",
       "      <td>content</td>\n",
       "      <td>[m, ɔ̃, t, a, ɲ]</td>\n",
       "      <td>m</td>\n",
       "      <td>montagne</td>\n",
       "    </tr>\n",
       "    <tr>\n",
       "      <th>265</th>\n",
       "      <td>trop</td>\n",
       "      <td>ADV</td>\n",
       "      <td>content</td>\n",
       "      <td>[t, ʁ, o]</td>\n",
       "      <td>t</td>\n",
       "      <td>trop</td>\n",
       "    </tr>\n",
       "    <tr>\n",
       "      <th>277</th>\n",
       "      <td>voiture</td>\n",
       "      <td>NOUN</td>\n",
       "      <td>content</td>\n",
       "      <td>[v, w, a, t, y, ʁ]</td>\n",
       "      <td>v</td>\n",
       "      <td>voiture</td>\n",
       "    </tr>\n",
       "    <tr>\n",
       "      <th>263</th>\n",
       "      <td>triste</td>\n",
       "      <td>ADJ</td>\n",
       "      <td>content</td>\n",
       "      <td>[t, ʁ, i, s, t]</td>\n",
       "      <td>t</td>\n",
       "      <td>triste</td>\n",
       "    </tr>\n",
       "    <tr>\n",
       "      <th>179</th>\n",
       "      <td>permission</td>\n",
       "      <td>NOUN</td>\n",
       "      <td>content</td>\n",
       "      <td>[p, ɛ, ʁ, m, i, s, j, ɔ̃]</td>\n",
       "      <td>p</td>\n",
       "      <td>permission</td>\n",
       "    </tr>\n",
       "    <tr>\n",
       "      <th>190</th>\n",
       "      <td>plus</td>\n",
       "      <td>ADV</td>\n",
       "      <td>content</td>\n",
       "      <td>[p, l, y]</td>\n",
       "      <td>p</td>\n",
       "      <td>plus</td>\n",
       "    </tr>\n",
       "    <tr>\n",
       "      <th>275</th>\n",
       "      <td>voir</td>\n",
       "      <td>VERB</td>\n",
       "      <td>content</td>\n",
       "      <td>[v, w, a, ʁ]</td>\n",
       "      <td>v</td>\n",
       "      <td>voir</td>\n",
       "    </tr>\n",
       "    <tr>\n",
       "      <th>231</th>\n",
       "      <td>secret</td>\n",
       "      <td>NOUN</td>\n",
       "      <td>content</td>\n",
       "      <td>[s, ə, k, ʁ, ɛ]</td>\n",
       "      <td>s</td>\n",
       "      <td>secret</td>\n",
       "    </tr>\n",
       "    <tr>\n",
       "      <th>236</th>\n",
       "      <td>société</td>\n",
       "      <td>NOUN</td>\n",
       "      <td>content</td>\n",
       "      <td>[s, ɔ, s, j, e, t, e]</td>\n",
       "      <td>s</td>\n",
       "      <td>société</td>\n",
       "    </tr>\n",
       "    <tr>\n",
       "      <th>1</th>\n",
       "      <td>acheter</td>\n",
       "      <td>VERB</td>\n",
       "      <td>content</td>\n",
       "      <td>[a, ʃ, t, e]</td>\n",
       "      <td>a</td>\n",
       "      <td>acheter</td>\n",
       "    </tr>\n",
       "    <tr>\n",
       "      <th>280</th>\n",
       "      <td>vouloir</td>\n",
       "      <td>VERB</td>\n",
       "      <td>content</td>\n",
       "      <td>[v, u, l, w, a, ʁ]</td>\n",
       "      <td>v</td>\n",
       "      <td>vouloir</td>\n",
       "    </tr>\n",
       "    <tr>\n",
       "      <th>102</th>\n",
       "      <td>fier</td>\n",
       "      <td>ADJ</td>\n",
       "      <td>content</td>\n",
       "      <td>[f, j, ɛ, ʁ]</td>\n",
       "      <td>f</td>\n",
       "      <td>fier</td>\n",
       "    </tr>\n",
       "    <tr>\n",
       "      <th>20</th>\n",
       "      <td>attendre</td>\n",
       "      <td>VERB</td>\n",
       "      <td>content</td>\n",
       "      <td>[a, t, ɑ̃, d, ʁ]</td>\n",
       "      <td>a</td>\n",
       "      <td>attendre</td>\n",
       "    </tr>\n",
       "    <tr>\n",
       "      <th>196</th>\n",
       "      <td>prendre</td>\n",
       "      <td>VERB</td>\n",
       "      <td>content</td>\n",
       "      <td>[p, ʁ, ɑ̃, d, ʁ]</td>\n",
       "      <td>p</td>\n",
       "      <td>prendre</td>\n",
       "    </tr>\n",
       "    <tr>\n",
       "      <th>240</th>\n",
       "      <td>sortir</td>\n",
       "      <td>VERB</td>\n",
       "      <td>content</td>\n",
       "      <td>[s, ɔ, ʁ, t, i, ʁ]</td>\n",
       "      <td>s</td>\n",
       "      <td>sortir</td>\n",
       "    </tr>\n",
       "    <tr>\n",
       "      <th>276</th>\n",
       "      <td>voisin</td>\n",
       "      <td>ADJ</td>\n",
       "      <td>content</td>\n",
       "      <td>[v, w, a, z, ɛ̃]</td>\n",
       "      <td>v</td>\n",
       "      <td>voisin</td>\n",
       "    </tr>\n",
       "  </tbody>\n",
       "</table>\n",
       "</div>"
      ],
      "text/plain": [
       "           word   pos is_content                   phonemes first_phone  \\\n",
       "98     fatiguer  VERB    content         [f, a, t, i, ɡ, e]           f   \n",
       "210        prêt   ADJ    content                  [p, ʁ, ɛ]           p   \n",
       "261     travers  NOUN    content         [t, ʁ, a, v, ɛ, ʁ]           t   \n",
       "248      séjour  NOUN    content            [s, e, ʒ, u, ʁ]           s   \n",
       "150    montagne  NOUN    content           [m, ɔ̃, t, a, ɲ]           m   \n",
       "265        trop   ADV    content                  [t, ʁ, o]           t   \n",
       "277     voiture  NOUN    content         [v, w, a, t, y, ʁ]           v   \n",
       "263      triste   ADJ    content            [t, ʁ, i, s, t]           t   \n",
       "179  permission  NOUN    content  [p, ɛ, ʁ, m, i, s, j, ɔ̃]           p   \n",
       "190        plus   ADV    content                  [p, l, y]           p   \n",
       "275        voir  VERB    content               [v, w, a, ʁ]           v   \n",
       "231      secret  NOUN    content            [s, ə, k, ʁ, ɛ]           s   \n",
       "236     société  NOUN    content      [s, ɔ, s, j, e, t, e]           s   \n",
       "1       acheter  VERB    content               [a, ʃ, t, e]           a   \n",
       "280     vouloir  VERB    content         [v, u, l, w, a, ʁ]           v   \n",
       "102        fier   ADJ    content               [f, j, ɛ, ʁ]           f   \n",
       "20     attendre  VERB    content           [a, t, ɑ̃, d, ʁ]           a   \n",
       "196     prendre  VERB    content           [p, ʁ, ɑ̃, d, ʁ]           p   \n",
       "240      sortir  VERB    content         [s, ɔ, ʁ, t, i, ʁ]           s   \n",
       "276      voisin   ADJ    content           [v, w, a, z, ɛ̃]           v   \n",
       "\n",
       "          lemma  \n",
       "98     fatiguer  \n",
       "210        prêt  \n",
       "261     travers  \n",
       "248      séjour  \n",
       "150    montagne  \n",
       "265        trop  \n",
       "277     voiture  \n",
       "263      triste  \n",
       "179  permission  \n",
       "190        plus  \n",
       "275        voir  \n",
       "231      secret  \n",
       "236     société  \n",
       "1       acheter  \n",
       "280     vouloir  \n",
       "102        fier  \n",
       "20     attendre  \n",
       "196     prendre  \n",
       "240      sortir  \n",
       "276      voisin  "
      ]
     },
     "execution_count": 424,
     "metadata": {},
     "output_type": "execute_result"
    }
   ],
   "source": [
    "# make sure all words at root form \n",
    "def get_lemma(word): \n",
    "    doc = nlp(str(word))\n",
    "    return doc[0].lemma_\n",
    "\n",
    "final_words['lemma'] = final_words['word'].apply(get_lemma)\n",
    "final_words"
   ]
  },
  {
   "cell_type": "code",
   "execution_count": 425,
   "metadata": {},
   "outputs": [
    {
     "data": {
      "text/plain": [
       "array([list(['f', 'a', 't', 'i', 'ɡ', 'e']), list(['p', 'ʁ', 'ɛ']),\n",
       "       list(['t', 'ʁ', 'a', 'v', 'ɛ', 'ʁ']),\n",
       "       list(['s', 'e', 'ʒ', 'u', 'ʁ']), list(['m', 'ɔ̃', 't', 'a', 'ɲ']),\n",
       "       list(['t', 'ʁ', 'o']), list(['v', 'w', 'a', 't', 'y', 'ʁ']),\n",
       "       list(['t', 'ʁ', 'i', 's', 't']),\n",
       "       list(['p', 'ɛ', 'ʁ', 'm', 'i', 's', 'j', 'ɔ̃']),\n",
       "       list(['p', 'l', 'y']), list(['v', 'w', 'a', 'ʁ']),\n",
       "       list(['s', 'ə', 'k', 'ʁ', 'ɛ']),\n",
       "       list(['s', 'ɔ', 's', 'j', 'e', 't', 'e']),\n",
       "       list(['a', 'ʃ', 't', 'e']), list(['v', 'u', 'l', 'w', 'a', 'ʁ']),\n",
       "       list(['f', 'j', 'ɛ', 'ʁ']), list(['a', 't', 'ɑ̃', 'd', 'ʁ']),\n",
       "       list(['p', 'ʁ', 'ɑ̃', 'd', 'ʁ']),\n",
       "       list(['s', 'ɔ', 'ʁ', 't', 'i', 'ʁ']),\n",
       "       list(['v', 'w', 'a', 'z', 'ɛ̃'])], dtype=object)"
      ]
     },
     "execution_count": 425,
     "metadata": {},
     "output_type": "execute_result"
    }
   ],
   "source": [
    "(final_words.phonemes.values)"
   ]
  },
  {
   "cell_type": "code",
   "execution_count": 426,
   "metadata": {},
   "outputs": [
    {
     "data": {
      "text/plain": [
       "Text(0.5, 1.0, 'phoneme frenquency in words')"
      ]
     },
     "execution_count": 426,
     "metadata": {},
     "output_type": "execute_result"
    },
    {
     "data": {
      "image/png": "[encoded data removed]",
      "text/plain": [
       "<Figure size 1000x300 with 1 Axes>"
      ]
     },
     "metadata": {},
     "output_type": "display_data"
    }
   ],
   "source": [
    "unique_phonemes, counts = np.unique(np.hstack(final_words.phonemes.values), return_counts=True)\n",
    "\n",
    "plt.figure(figsize=(10, 3))\n",
    "plt.bar(np.arange(len(unique_phonemes)), counts, tick_label=unique_phonemes)\n",
    "plt.title(\"phoneme frenquency in words\")"
   ]
  },
  {
   "cell_type": "code",
   "execution_count": 427,
   "metadata": {},
   "outputs": [
    {
     "data": {
      "text/plain": [
       "Text(0.5, 1.0, 'distribution of n syllable in words')"
      ]
     },
     "execution_count": 427,
     "metadata": {},
     "output_type": "execute_result"
    },
    {
     "data": {
      "image/png": "[encoded data removed]",
      "text/plain": [
       "<Figure size 640x480 with 1 Axes>"
      ]
     },
     "metadata": {},
     "output_type": "display_data"
    }
   ],
   "source": [
    "def n_syllables(words): \n",
    "    doc = nlp(str(words))\n",
    "    return doc[0]._.syllables_count\n",
    "\n",
    "final_words['n_syllables'] = final_words['word'].apply(n_syllables)\n",
    "\n",
    "final_words.n_syllables.value_counts().plot.bar()\n",
    "plt.title('distribution of n syllable in words')"
   ]
  },
  {
   "cell_type": "code",
   "execution_count": 428,
   "metadata": {},
   "outputs": [
    {
     "data": {
      "text/plain": [
       "Text(0.5, 1.0, 'distribution of n_char of words')"
      ]
     },
     "execution_count": 428,
     "metadata": {},
     "output_type": "execute_result"
    },
    {
     "data": {
      "image/png": "[encoded data removed]",
      "text/plain": [
       "<Figure size 640x480 with 1 Axes>"
      ]
     },
     "metadata": {},
     "output_type": "display_data"
    }
   ],
   "source": [
    "final_words.word.apply(len).plot.hist()\n",
    "plt.title(\"distribution of n_char of words\")"
   ]
  },
  {
   "cell_type": "code",
   "execution_count": 429,
   "metadata": {},
   "outputs": [
    {
     "data": {
      "text/plain": [
       "Text(0.5, 1.0, 'First phone distribution of final words')"
      ]
     },
     "execution_count": 429,
     "metadata": {},
     "output_type": "execute_result"
    },
    {
     "data": {
      "image/png": "[encoded data removed]",
      "text/plain": [
       "<Figure size 640x480 with 1 Axes>"
      ]
     },
     "metadata": {},
     "output_type": "display_data"
    }
   ],
   "source": [
    "final_words.first_phone.value_counts().plot.bar()\n",
    "plt.title('First phone distribution of final words')"
   ]
  },
  {
   "cell_type": "code",
   "execution_count": 430,
   "metadata": {},
   "outputs": [
    {
     "data": {
      "text/plain": [
       "Text(0.5, 1.0, 'POS distribution of final words')"
      ]
     },
     "execution_count": 430,
     "metadata": {},
     "output_type": "execute_result"
    },
    {
     "data": {
      "image/png": "[encoded data removed]",
      "text/plain": [
       "<Figure size 640x480 with 1 Axes>"
      ]
     },
     "metadata": {},
     "output_type": "display_data"
    }
   ],
   "source": [
    "final_words.pos.value_counts().plot.bar()\n",
    "plt.title('POS distribution of final words')"
   ]
  },
  {
   "cell_type": "code",
   "execution_count": 431,
   "metadata": {},
   "outputs": [],
   "source": [
    "final_words.to_csv('../text/selected_words_final.csv', index=False)"
   ]
  },
  {
   "cell_type": "code",
   "execution_count": null,
   "metadata": {},
   "outputs": [],
   "source": []
  }
 ],
 "metadata": {
  "kernelspec": {
   "display_name": "experiment",
   "language": "python",
   "name": "python3"
  },
  "language_info": {
   "codemirror_mode": {
    "name": "ipython",
    "version": 3
   },
   "file_extension": ".py",
   "mimetype": "text/x-python",
   "name": "python",
   "nbconvert_exporter": "python",
   "pygments_lexer": "ipython3",
   "version": "3.9.20"
  }
 },
 "nbformat": 4,
 "nbformat_minor": 2
}
