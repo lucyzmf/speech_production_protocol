{
 "cells": [
  {
   "cell_type": "code",
   "execution_count": 128,
   "metadata": {},
   "outputs": [],
   "source": [
    "import pandas as pd\n",
    "import numpy as np\n",
    "import matplotlib.pyplot as plt\n",
    "import seaborn as sns\n",
    "from pathlib import Path"
   ]
  },
  {
   "cell_type": "code",
   "execution_count": 116,
   "metadata": {},
   "outputs": [],
   "source": [
    "# helper \n",
    "# phonemize all sentences \n",
    "from phonemizer.backend import EspeakBackend\n",
    "from phonemizer.backend.espeak.wrapper import EspeakWrapper\n",
    "from phonemizer.separator import Separator\n",
    "\n",
    "EspeakWrapper.set_library(\n",
    "    \"/opt/homebrew/Cellar/espeak/1.48.04_1/lib/libespeak.1.1.48.dylib\"\n",
    ")\n",
    "\n",
    "# initialize the espeak backend for English\n",
    "backend = EspeakBackend(\"fr-fr\")\n",
    "separator = Separator(phone=\" \", word=None)\n",
    "\n",
    "def get_phonemes(text): \n",
    "    value = backend.phonemize([text], separator=separator, strip=True)\n",
    "\n",
    "    phonemes = value[0].split(\" \")\n",
    "    \n",
    "    return phonemes\n"
   ]
  },
  {
   "cell_type": "code",
   "execution_count": 117,
   "metadata": {},
   "outputs": [
    {
     "data": {
      "text/plain": [
       "<spacy_syllables.SpacySyllables at 0x343d27eb0>"
      ]
     },
     "execution_count": 117,
     "metadata": {},
     "output_type": "execute_result"
    }
   ],
   "source": [
    "# get pos tags for each word\n",
    "import spacy \n",
    "from spacy_syllables import SpacySyllables  # noqa\n",
    "\n",
    "model = \"fr_core_news_lg\"\n",
    "if not spacy.util.is_package(model):\n",
    "    import spacy.cli\n",
    "\n",
    "    spacy.cli.download(model)  # type: ignore\n",
    "nlp = spacy.load(model)\n",
    "nlp.add_pipe(\"syllables\", after=\"tok2vec\")"
   ]
  },
  {
   "cell_type": "code",
   "execution_count": 118,
   "metadata": {},
   "outputs": [],
   "source": [
    "content_function_word = {  # 1 content, 0 function, 2 others\n",
    "    \"ADJ\": \"content\",\n",
    "    \"ADP\": \"function\",\n",
    "    \"ADV\": \"content\",\n",
    "    \"AUX\": \"function\",\n",
    "    \"DET\": \"function\",\n",
    "    \"NOUN\": \"content\",\n",
    "    \"NUM\": \"function\",\n",
    "    \"PRON\": \"function\",\n",
    "    \"PROPN\": \"function\",\n",
    "    \"VERB\": \"content\",\n",
    "    \"INTJ\": \"function\",\n",
    "    \"SCONJ\": \"function\", \n",
    "    \"CCONJ\": \"function\", \n",
    "}\n"
   ]
  },
  {
   "cell_type": "markdown",
   "metadata": {},
   "source": [
    "# sentence stats"
   ]
  },
  {
   "cell_type": "code",
   "execution_count": 96,
   "metadata": {},
   "outputs": [
    {
     "data": {
      "text/html": [
       "<div>\n",
       "<style scoped>\n",
       "    .dataframe tbody tr th:only-of-type {\n",
       "        vertical-align: middle;\n",
       "    }\n",
       "\n",
       "    .dataframe tbody tr th {\n",
       "        vertical-align: top;\n",
       "    }\n",
       "\n",
       "    .dataframe thead th {\n",
       "        text-align: right;\n",
       "    }\n",
       "</style>\n",
       "<table border=\"1\" class=\"dataframe\">\n",
       "  <thead>\n",
       "    <tr style=\"text-align: right;\">\n",
       "      <th></th>\n",
       "      <th>theme</th>\n",
       "      <th>type</th>\n",
       "      <th>structure</th>\n",
       "      <th>numer</th>\n",
       "      <th>tense</th>\n",
       "      <th>polarity</th>\n",
       "      <th>sentence</th>\n",
       "      <th>num_words</th>\n",
       "      <th>translation</th>\n",
       "      <th>translanted_num_words</th>\n",
       "    </tr>\n",
       "  </thead>\n",
       "  <tbody>\n",
       "    <tr>\n",
       "      <th>0</th>\n",
       "      <td>science</td>\n",
       "      <td>declarative</td>\n",
       "      <td>simple</td>\n",
       "      <td>singular</td>\n",
       "      <td>present</td>\n",
       "      <td>affirmative</td>\n",
       "      <td>Energy flows from one system to another consta...</td>\n",
       "      <td>8</td>\n",
       "      <td>L'énergie circule constamment d'un système à l...</td>\n",
       "      <td>7</td>\n",
       "    </tr>\n",
       "    <tr>\n",
       "      <th>1</th>\n",
       "      <td>work</td>\n",
       "      <td>declarative</td>\n",
       "      <td>simple</td>\n",
       "      <td>plural</td>\n",
       "      <td>present</td>\n",
       "      <td>affirmative</td>\n",
       "      <td>Graduates celebrate their achievements with fa...</td>\n",
       "      <td>8</td>\n",
       "      <td>Les diplômés célèbrent leurs réalisations avec...</td>\n",
       "      <td>11</td>\n",
       "    </tr>\n",
       "    <tr>\n",
       "      <th>2</th>\n",
       "      <td>nature</td>\n",
       "      <td>declarative</td>\n",
       "      <td>simple</td>\n",
       "      <td>singular</td>\n",
       "      <td>present</td>\n",
       "      <td>affirmative</td>\n",
       "      <td>A frog jumps gracefully into the pond\\n</td>\n",
       "      <td>7</td>\n",
       "      <td>Une grenouille saute gracieusement dans l'étang\\n</td>\n",
       "      <td>6</td>\n",
       "    </tr>\n",
       "    <tr>\n",
       "      <th>3</th>\n",
       "      <td>basic</td>\n",
       "      <td>declarative</td>\n",
       "      <td>simple</td>\n",
       "      <td>plural</td>\n",
       "      <td>present</td>\n",
       "      <td>affirmative</td>\n",
       "      <td>Players cheer for their favorite teams\\n</td>\n",
       "      <td>6</td>\n",
       "      <td>Les joueurs encouragent leurs équipes préférées\\n</td>\n",
       "      <td>6</td>\n",
       "    </tr>\n",
       "    <tr>\n",
       "      <th>4</th>\n",
       "      <td>science</td>\n",
       "      <td>declarative</td>\n",
       "      <td>simple</td>\n",
       "      <td>plural</td>\n",
       "      <td>present</td>\n",
       "      <td>affirmative</td>\n",
       "      <td>Programmers write code to build interactive so...</td>\n",
       "      <td>8</td>\n",
       "      <td>Les programmeurs écrivent du code pour créer d...</td>\n",
       "      <td>11</td>\n",
       "    </tr>\n",
       "  </tbody>\n",
       "</table>\n",
       "</div>"
      ],
      "text/plain": [
       "     theme         type structure     numer    tense     polarity  \\\n",
       "0  science  declarative    simple  singular  present  affirmative   \n",
       "1     work  declarative    simple    plural  present  affirmative   \n",
       "2   nature  declarative    simple  singular  present  affirmative   \n",
       "3    basic  declarative    simple    plural  present  affirmative   \n",
       "4  science  declarative    simple    plural  present  affirmative   \n",
       "\n",
       "                                            sentence  num_words  \\\n",
       "0  Energy flows from one system to another consta...          8   \n",
       "1  Graduates celebrate their achievements with fa...          8   \n",
       "2            A frog jumps gracefully into the pond\\n          7   \n",
       "3           Players cheer for their favorite teams\\n          6   \n",
       "4  Programmers write code to build interactive so...          8   \n",
       "\n",
       "                                         translation  translanted_num_words  \n",
       "0  L'énergie circule constamment d'un système à l...                      7  \n",
       "1  Les diplômés célèbrent leurs réalisations avec...                     11  \n",
       "2  Une grenouille saute gracieusement dans l'étang\\n                      6  \n",
       "3  Les joueurs encouragent leurs équipes préférées\\n                      6  \n",
       "4  Les programmeurs écrivent du code pour créer d...                     11  "
      ]
     },
     "execution_count": 96,
     "metadata": {},
     "output_type": "execute_result"
    }
   ],
   "source": [
    "sentences = pd.read_csv('../text/selected_with_translation.csv')\n",
    "sentences.head()"
   ]
  },
  {
   "cell_type": "code",
   "execution_count": 97,
   "metadata": {},
   "outputs": [
    {
     "data": {
      "text/plain": [
       "sentence       Energy flows from one system to another consta...\n",
       "translation    L'énergie circule constamment d'un système à l...\n",
       "Name: 0, dtype: object"
      ]
     },
     "execution_count": 97,
     "metadata": {},
     "output_type": "execute_result"
    }
   ],
   "source": [
    "sentences.iloc[0][['sentence', 'translation']]"
   ]
  },
  {
   "cell_type": "code",
   "execution_count": 98,
   "metadata": {},
   "outputs": [
    {
     "data": {
      "text/plain": [
       "array([<Axes: title={'center': 'declarative'}, ylabel='Frequency'>],\n",
       "      dtype=object)"
      ]
     },
     "execution_count": 98,
     "metadata": {},
     "output_type": "execute_result"
    },
    {
     "data": {
      "image/png": "[encoded data removed]",
      "text/plain": [
       "<Figure size 640x480 with 1 Axes>"
      ]
     },
     "metadata": {},
     "output_type": "display_data"
    }
   ],
   "source": [
    "sentences[['type', 'translanted_num_words']].plot.hist(by='type', bins=10, alpha=0.5)"
   ]
  },
  {
   "cell_type": "code",
   "execution_count": 99,
   "metadata": {},
   "outputs": [
    {
     "data": {
      "text/plain": [
       "161"
      ]
     },
     "execution_count": 99,
     "metadata": {},
     "output_type": "execute_result"
    }
   ],
   "source": [
    "len(sentences.query(\"translanted_num_words < 10\"))"
   ]
  },
  {
   "cell_type": "code",
   "execution_count": 100,
   "metadata": {},
   "outputs": [],
   "source": [
    "subset = sentences.query(\"translanted_num_words < 10\")"
   ]
  },
  {
   "cell_type": "code",
   "execution_count": 101,
   "metadata": {},
   "outputs": [
    {
     "data": {
      "text/plain": [
       "array([<Axes: title={'center': 'declarative'}, ylabel='Frequency'>],\n",
       "      dtype=object)"
      ]
     },
     "execution_count": 101,
     "metadata": {},
     "output_type": "execute_result"
    },
    {
     "data": {
      "image/png": "[encoded data removed]",
      "text/plain": [
       "<Figure size 640x480 with 1 Axes>"
      ]
     },
     "metadata": {},
     "output_type": "display_data"
    }
   ],
   "source": [
    "subset[['type', 'translanted_num_words']].plot.hist(by='type', bins=10, alpha=0.5)"
   ]
  },
  {
   "cell_type": "code",
   "execution_count": 122,
   "metadata": {},
   "outputs": [
    {
     "data": {
      "text/html": [
       "<div>\n",
       "<style scoped>\n",
       "    .dataframe tbody tr th:only-of-type {\n",
       "        vertical-align: middle;\n",
       "    }\n",
       "\n",
       "    .dataframe tbody tr th {\n",
       "        vertical-align: top;\n",
       "    }\n",
       "\n",
       "    .dataframe thead th {\n",
       "        text-align: right;\n",
       "    }\n",
       "</style>\n",
       "<table border=\"1\" class=\"dataframe\">\n",
       "  <thead>\n",
       "    <tr style=\"text-align: right;\">\n",
       "      <th></th>\n",
       "      <th>id</th>\n",
       "      <th>pos_tags</th>\n",
       "    </tr>\n",
       "  </thead>\n",
       "  <tbody>\n",
       "    <tr>\n",
       "      <th>0</th>\n",
       "      <td>0</td>\n",
       "      <td>DET</td>\n",
       "    </tr>\n",
       "    <tr>\n",
       "      <th>1</th>\n",
       "      <td>1</td>\n",
       "      <td>NOUN</td>\n",
       "    </tr>\n",
       "    <tr>\n",
       "      <th>2</th>\n",
       "      <td>2</td>\n",
       "      <td>VERB</td>\n",
       "    </tr>\n",
       "    <tr>\n",
       "      <th>3</th>\n",
       "      <td>3</td>\n",
       "      <td>ADV</td>\n",
       "    </tr>\n",
       "    <tr>\n",
       "      <th>4</th>\n",
       "      <td>4</td>\n",
       "      <td>ADP</td>\n",
       "    </tr>\n",
       "  </tbody>\n",
       "</table>\n",
       "</div>"
      ],
      "text/plain": [
       "   id pos_tags\n",
       "0   0      DET\n",
       "1   1     NOUN\n",
       "2   2     VERB\n",
       "3   3      ADV\n",
       "4   4      ADP"
      ]
     },
     "execution_count": 122,
     "metadata": {},
     "output_type": "execute_result"
    }
   ],
   "source": [
    "pos_tags = []\n",
    "word_id = []\n",
    "\n",
    "def get_pos_tags(text): \n",
    "    doc = nlp(text)\n",
    "    tags = [token.pos_ for token in doc if token.pos_ != \"SPACE\"]\n",
    "    return tags, np.arange(len(tags))\n",
    "\n",
    "for index, row in subset.iterrows():\n",
    "    tags, id = get_pos_tags(row['translation'])\n",
    "    pos_tags.append(tags)\n",
    "    word_id.append(id)\n",
    "\n",
    "pos_tags_df = pd.DataFrame({'id': np.concatenate(word_id), 'pos_tags': np.concatenate(pos_tags)})\n",
    "\n",
    "pos_tags_df.head()"
   ]
  },
  {
   "cell_type": "code",
   "execution_count": 126,
   "metadata": {},
   "outputs": [
    {
     "data": {
      "text/plain": [
       "Text(0.5, 1.0, 'pos percentage by word id')"
      ]
     },
     "execution_count": 126,
     "metadata": {},
     "output_type": "execute_result"
    },
    {
     "data": {
      "image/png": "[encoded data removed]",
      "text/plain": [
       "<Figure size 640x480 with 1 Axes>"
      ]
     },
     "metadata": {},
     "output_type": "display_data"
    }
   ],
   "source": [
    "sns.histplot(pos_tags_df, x='id', hue='pos_tags', stat=\"percent\", multiple='stack')\n",
    "plt.title(\"pos percentage by word id\")"
   ]
  },
  {
   "cell_type": "code",
   "execution_count": 127,
   "metadata": {},
   "outputs": [
    {
     "data": {
      "text/plain": [
       "Text(0.5, 1.0, 'content vs function percentage by word id')"
      ]
     },
     "execution_count": 127,
     "metadata": {},
     "output_type": "execute_result"
    },
    {
     "data": {
      "image/png": "[encoded data removed]",
      "text/plain": [
       "<Figure size 640x480 with 1 Axes>"
      ]
     },
     "metadata": {},
     "output_type": "display_data"
    }
   ],
   "source": [
    "pos_tags_df['is_content'] = pos_tags_df['pos_tags'].apply(lambda x: content_function_word[x])\n",
    "\n",
    "sns.histplot(pos_tags_df, x='id', hue='is_content', stat=\"percent\", multiple='stack')\n",
    "plt.title(\"content vs function percentage by word id\")"
   ]
  },
  {
   "cell_type": "markdown",
   "metadata": {},
   "source": [
    "# vocab"
   ]
  },
  {
   "cell_type": "code",
   "execution_count": 7,
   "metadata": {},
   "outputs": [
    {
     "data": {
      "text/plain": [
       "['a',\n",
       " 'abritent',\n",
       " 'accablants',\n",
       " 'accepte',\n",
       " 'accueil',\n",
       " 'accueillantes',\n",
       " 'accueille',\n",
       " 'achète',\n",
       " 'admire',\n",
       " 'adore',\n",
       " 'adorent',\n",
       " 'affaires',\n",
       " 'affrontent',\n",
       " 'aidant',\n",
       " 'aide',\n",
       " 'aident',\n",
       " 'aime',\n",
       " 'aiment',\n",
       " 'air',\n",
       " 'ajoutent',\n",
       " 'aliments',\n",
       " 'allumer',\n",
       " 'allées',\n",
       " 'ami',\n",
       " 'amicales',\n",
       " 'amie',\n",
       " 'amis',\n",
       " 'amour',\n",
       " 'amusantes',\n",
       " 'améliorer',\n",
       " 'animales',\n",
       " 'anxieux',\n",
       " 'anxiété',\n",
       " 'apparaît',\n",
       " 'appareils',\n",
       " 'apprends',\n",
       " 'approche',\n",
       " 'apprécie',\n",
       " 'apprécient',\n",
       " 'apprécions',\n",
       " 'après',\n",
       " 'après-midi',\n",
       " 'arbitres',\n",
       " 'arbre',\n",
       " 'arbres',\n",
       " 'arc-en-ciel',\n",
       " 'arrive',\n",
       " 'arrêt',\n",
       " 'art',\n",
       " 'artisanal',\n",
       " 'artistes',\n",
       " 'assez',\n",
       " 'athlète',\n",
       " 'athlètes',\n",
       " 'atmosphère',\n",
       " 'attirent',\n",
       " 'au',\n",
       " \"aujourd'hui\",\n",
       " 'authentiques',\n",
       " 'autre',\n",
       " 'autres',\n",
       " 'aux',\n",
       " 'avant',\n",
       " 'avec',\n",
       " 'baies',\n",
       " 'basket',\n",
       " 'beaucoup',\n",
       " 'bien',\n",
       " 'bien-être',\n",
       " 'bienfaits',\n",
       " 'blagues',\n",
       " 'bleue',\n",
       " 'bois',\n",
       " 'boissons',\n",
       " 'bon',\n",
       " 'bonheur',\n",
       " 'bonne',\n",
       " 'bonnes',\n",
       " 'bougies',\n",
       " 'boutique',\n",
       " 'brille',\n",
       " 'brise',\n",
       " 'bruisser',\n",
       " 'bus',\n",
       " 'bénéficient',\n",
       " 'cadeaux',\n",
       " 'café',\n",
       " 'calme',\n",
       " 'camarades',\n",
       " 'canapé',\n",
       " 'candidatures',\n",
       " 'capacités',\n",
       " 'carburant',\n",
       " 'ce',\n",
       " 'cela',\n",
       " 'ces',\n",
       " 'cette',\n",
       " 'chaises',\n",
       " 'chaleur',\n",
       " 'changent',\n",
       " 'changer',\n",
       " 'chante',\n",
       " 'chaque',\n",
       " 'chat',\n",
       " 'chats',\n",
       " 'chaude',\n",
       " 'chef',\n",
       " 'cherche',\n",
       " 'cherchent',\n",
       " 'chiens',\n",
       " 'choisis',\n",
       " 'choses',\n",
       " 'chérissent',\n",
       " 'ciel',\n",
       " 'cinéma',\n",
       " 'circule',\n",
       " 'circulent',\n",
       " 'clair',\n",
       " 'claire',\n",
       " 'classe',\n",
       " 'clients',\n",
       " 'collaborent',\n",
       " 'collations',\n",
       " 'collines',\n",
       " 'collègues',\n",
       " 'colorée',\n",
       " 'commentaires',\n",
       " 'complet',\n",
       " 'complexes',\n",
       " 'compréhension',\n",
       " 'compétences',\n",
       " 'compétition',\n",
       " 'compétitions',\n",
       " 'conditions',\n",
       " 'confie',\n",
       " 'confort',\n",
       " 'constamment',\n",
       " 'constants',\n",
       " 'contient',\n",
       " 'corps',\n",
       " 'coule',\n",
       " 'coureurs',\n",
       " 'cours',\n",
       " 'coussins',\n",
       " 'couvertes',\n",
       " 'couvrent',\n",
       " 'coûts',\n",
       " 'critique',\n",
       " 'crois',\n",
       " 'créent',\n",
       " 'créer',\n",
       " 'cuisine',\n",
       " 'cuisiner',\n",
       " 'cuisines',\n",
       " 'cuit',\n",
       " 'célèbrent',\n",
       " 'côtières',\n",
       " 'dans',\n",
       " 'de',\n",
       " 'dehors',\n",
       " 'demandeurs',\n",
       " 'demi-heures',\n",
       " 'des',\n",
       " 'dessine',\n",
       " 'dessins',\n",
       " 'destinations',\n",
       " 'deviennent',\n",
       " 'devoirs',\n",
       " 'difficiles',\n",
       " 'différents',\n",
       " 'diligence',\n",
       " 'discussions',\n",
       " 'discutent',\n",
       " 'distances',\n",
       " 'divers',\n",
       " 'diverses',\n",
       " 'donne',\n",
       " 'donner',\n",
       " 'dorment',\n",
       " 'dormir',\n",
       " 'douce',\n",
       " 'doucement',\n",
       " 'du',\n",
       " 'dur',\n",
       " 'décembre',\n",
       " 'décoration',\n",
       " 'décorer',\n",
       " 'découvrir',\n",
       " 'déjeuner',\n",
       " 'délicieux',\n",
       " 'déplace',\n",
       " 'déplacements',\n",
       " 'déplacer',\n",
       " 'dîner',\n",
       " 'eau',\n",
       " 'efficacement',\n",
       " 'elle',\n",
       " 'empile',\n",
       " 'emploi',\n",
       " 'employés',\n",
       " 'en',\n",
       " 'encourage',\n",
       " 'encouragements',\n",
       " 'encouragent',\n",
       " 'enfants',\n",
       " 'enseignants',\n",
       " 'enseigne',\n",
       " 'ensemble',\n",
       " 'entraîne',\n",
       " 'entraînent',\n",
       " 'entraîneur',\n",
       " 'entraîneurs',\n",
       " 'entreprises',\n",
       " 'entrer',\n",
       " 'escargot',\n",
       " 'espèces',\n",
       " 'essentielles',\n",
       " 'est',\n",
       " 'et',\n",
       " 'examens',\n",
       " 'exercices',\n",
       " 'exprime',\n",
       " 'expriment',\n",
       " 'expériences',\n",
       " 'expérimente',\n",
       " 'exécute',\n",
       " 'fair-play',\n",
       " 'faire',\n",
       " 'fait',\n",
       " 'familiaux',\n",
       " 'famille',\n",
       " 'familles',\n",
       " 'fenêtres',\n",
       " 'ferry',\n",
       " 'feuilles',\n",
       " 'figures',\n",
       " 'fille',\n",
       " 'fleur',\n",
       " 'fleurissent',\n",
       " 'fleurs',\n",
       " 'fonctionne',\n",
       " 'force',\n",
       " 'formule',\n",
       " 'fournissent',\n",
       " 'fournit',\n",
       " 'frais',\n",
       " 'fraîches',\n",
       " 'fruits',\n",
       " 'fréquemment',\n",
       " 'février',\n",
       " 'garage',\n",
       " 'garantissent',\n",
       " 'garé',\n",
       " 'gens',\n",
       " 'gentillesse',\n",
       " 'givre',\n",
       " 'globale',\n",
       " 'golf',\n",
       " 'gracieusement',\n",
       " 'grands-parents',\n",
       " 'graphique',\n",
       " 'gratitude',\n",
       " 'gratuite',\n",
       " 'grenouille',\n",
       " 'groupe',\n",
       " 'grâce',\n",
       " 'gère',\n",
       " 'général',\n",
       " 'généralement',\n",
       " 'hebdomadaires',\n",
       " 'herbe',\n",
       " 'heureux',\n",
       " 'histoire',\n",
       " 'hiver',\n",
       " 'hoverboards',\n",
       " 'hydrater',\n",
       " 'hypothèses',\n",
       " 'identité',\n",
       " 'il',\n",
       " 'illustrateurs',\n",
       " 'ils',\n",
       " 'images',\n",
       " 'importantes',\n",
       " 'importants',\n",
       " 'indique',\n",
       " 'individus',\n",
       " 'inspirent',\n",
       " 'installe',\n",
       " 'internationales',\n",
       " 'introspection',\n",
       " 'intéressant',\n",
       " 'intéressants',\n",
       " 'invitation',\n",
       " 'invités',\n",
       " 'je',\n",
       " 'jeudis',\n",
       " 'jeunes',\n",
       " 'joue',\n",
       " 'jouent',\n",
       " 'jouer',\n",
       " 'joueurs',\n",
       " 'journée',\n",
       " 'jours',\n",
       " 'joyeux',\n",
       " \"jusqu'à\",\n",
       " 'la',\n",
       " 'laissent',\n",
       " 'le',\n",
       " 'lecteurs',\n",
       " 'lentement',\n",
       " 'les',\n",
       " 'leurs',\n",
       " 'leçons',\n",
       " 'libre',\n",
       " 'ligne',\n",
       " 'lire',\n",
       " 'lits',\n",
       " 'livraison',\n",
       " 'livres',\n",
       " 'lors',\n",
       " 'lorsque',\n",
       " 'lumineuses',\n",
       " 'lumière',\n",
       " 'légumes',\n",
       " 'ma',\n",
       " 'magasin',\n",
       " 'magnifiquement',\n",
       " 'malbouffe',\n",
       " 'mange',\n",
       " 'manière',\n",
       " 'marche',\n",
       " 'marché',\n",
       " 'mardis',\n",
       " 'match',\n",
       " 'matchs',\n",
       " 'matin',\n",
       " 'matins',\n",
       " 'me',\n",
       " 'meilleure',\n",
       " 'meilleures',\n",
       " 'mentale',\n",
       " 'mes',\n",
       " 'micro-ondes',\n",
       " 'mode',\n",
       " 'moments',\n",
       " 'mon',\n",
       " 'monde',\n",
       " 'montagnes',\n",
       " 'moteur',\n",
       " 'mouvements',\n",
       " 'moyen',\n",
       " 'musicien',\n",
       " 'musiciens',\n",
       " 'musique',\n",
       " 'mutuellement',\n",
       " 'mène',\n",
       " 'mère',\n",
       " 'médecin',\n",
       " 'médecins',\n",
       " 'méditation',\n",
       " 'médite',\n",
       " 'mélodies',\n",
       " 'métro',\n",
       " 'météorologiques',\n",
       " 'nagent',\n",
       " 'nageurs',\n",
       " 'nageuse',\n",
       " 'naturelle',\n",
       " 'neige',\n",
       " 'nombreuses',\n",
       " 'nos',\n",
       " 'notre',\n",
       " 'nous',\n",
       " 'nouveaux',\n",
       " 'nouvelles',\n",
       " 'nuages',\n",
       " 'océan',\n",
       " 'offre',\n",
       " 'offrent',\n",
       " 'oiseau',\n",
       " 'ombre',\n",
       " 'orages',\n",
       " 'ordinateur',\n",
       " 'organise',\n",
       " 'origami',\n",
       " 'outils',\n",
       " 'ouverts',\n",
       " 'pain',\n",
       " 'paix',\n",
       " 'papillon',\n",
       " 'parc',\n",
       " 'parcourir',\n",
       " 'parents',\n",
       " 'parle',\n",
       " 'partage',\n",
       " 'partagées',\n",
       " 'participe',\n",
       " 'passer',\n",
       " 'passé',\n",
       " 'pauses',\n",
       " 'paysages',\n",
       " 'peindre',\n",
       " 'pendant',\n",
       " 'pensée',\n",
       " 'performances',\n",
       " 'permet',\n",
       " 'personnages',\n",
       " 'personnelle',\n",
       " 'personnes',\n",
       " 'petit',\n",
       " 'petites',\n",
       " 'peuvent',\n",
       " 'philosophie',\n",
       " 'pièce',\n",
       " 'pièces',\n",
       " 'plans',\n",
       " 'plantes',\n",
       " 'plonger',\n",
       " 'pluie',\n",
       " 'plus',\n",
       " 'plusieurs',\n",
       " 'poissons',\n",
       " 'portable',\n",
       " 'pour',\n",
       " 'poursuivre',\n",
       " 'prairie',\n",
       " 'prairies',\n",
       " 'pratique',\n",
       " 'pratiquent',\n",
       " 'premiers',\n",
       " 'prendre',\n",
       " 'printemps',\n",
       " 'prochain',\n",
       " 'proches',\n",
       " 'professeur',\n",
       " 'profondément',\n",
       " 'programmes',\n",
       " 'projections',\n",
       " 'projets',\n",
       " 'promener',\n",
       " 'propre',\n",
       " 'près',\n",
       " 'préfère',\n",
       " 'préfèrent',\n",
       " 'préférée',\n",
       " 'préférées',\n",
       " 'prépare',\n",
       " 'présentations',\n",
       " 'puissants',\n",
       " 'période',\n",
       " 'que',\n",
       " 'qui',\n",
       " 'quotidiennement',\n",
       " 'quotidiens',\n",
       " 'ralentissement',\n",
       " 'rapides',\n",
       " 'rassemblements',\n",
       " 'rayonnement',\n",
       " 'recherchent',\n",
       " 'recommande',\n",
       " 'recommandent',\n",
       " 'reconnaissante',\n",
       " 'recouverts',\n",
       " 'recouvre',\n",
       " 'regarde',\n",
       " 'remplie',\n",
       " 'rends',\n",
       " 'repas',\n",
       " 'repose',\n",
       " 'ressens',\n",
       " 'rester',\n",
       " 'reçoivent',\n",
       " 'rideaux',\n",
       " 'rit',\n",
       " 'rivage',\n",
       " 'rivière',\n",
       " 'rocher',\n",
       " 'roman',\n",
       " 'ruisseau',\n",
       " 'rythmes',\n",
       " 'réalisations',\n",
       " 'réconfort',\n",
       " 'réductions',\n",
       " 'réduire',\n",
       " 'réduisent',\n",
       " 'régions',\n",
       " 'réguliers',\n",
       " 'régulièrement',\n",
       " 'réunions',\n",
       " 'réunissent',\n",
       " 'révèle',\n",
       " 'révèlent',\n",
       " 'rêves',\n",
       " 'sa',\n",
       " 'sains',\n",
       " 'salle',\n",
       " 'salon',\n",
       " 'sandwichs',\n",
       " 'sans',\n",
       " 'santé',\n",
       " 'satisfait',\n",
       " 'saute',\n",
       " 'sauvages',\n",
       " 'savon',\n",
       " 'scientifique',\n",
       " 'scintillant',\n",
       " 'scooter',\n",
       " 'se',\n",
       " 'secrets',\n",
       " 'semaine',\n",
       " 'semble',\n",
       " 'semestre',\n",
       " 'sens',\n",
       " 'sentent',\n",
       " 'sentir',\n",
       " 'ses',\n",
       " 'silencieusement',\n",
       " 'simultanément',\n",
       " 'smoothie',\n",
       " 'social',\n",
       " 'soir',\n",
       " 'soirée',\n",
       " 'soirées',\n",
       " 'sol',\n",
       " 'soleil',\n",
       " 'solide',\n",
       " 'sommets',\n",
       " 'son',\n",
       " 'sons',\n",
       " 'sont',\n",
       " 'soumettent',\n",
       " 'sourire',\n",
       " 'sourires',\n",
       " 'soutien',\n",
       " 'soutiennent',\n",
       " 'souvenirs',\n",
       " 'souvent',\n",
       " 'sport',\n",
       " 'sportives',\n",
       " 'statut',\n",
       " 'style',\n",
       " 'styles',\n",
       " 'succès',\n",
       " 'sucrées',\n",
       " 'sujets',\n",
       " 'superposés',\n",
       " 'superviseurs',\n",
       " 'sur',\n",
       " 'système',\n",
       " 'sœur',\n",
       " 'table',\n",
       " 'tard',\n",
       " 'taxis',\n",
       " 'temps',\n",
       " 'tempête',\n",
       " 'tennis',\n",
       " 'terrain',\n",
       " 'thérapeutes',\n",
       " 'tombe',\n",
       " 'toujours',\n",
       " 'tous',\n",
       " 'tout',\n",
       " 'toutes',\n",
       " 'trafic',\n",
       " 'trajets',\n",
       " 'tranquilles',\n",
       " 'travaux',\n",
       " 'traverse',\n",
       " 'traversent',\n",
       " 'tristesse',\n",
       " 'trottoir',\n",
       " 'trouve',\n",
       " 'trouver',\n",
       " 'tâches',\n",
       " 'télévision',\n",
       " 'un',\n",
       " 'une',\n",
       " 'unique',\n",
       " 'urbaines',\n",
       " 'utiliser',\n",
       " 'vacances',\n",
       " 'vagues',\n",
       " 'vaisselle',\n",
       " 'vallée',\n",
       " 'vend',\n",
       " 'vent',\n",
       " 'vers',\n",
       " 'vie',\n",
       " 'ville',\n",
       " 'visite',\n",
       " 'vitamines',\n",
       " 'voisin',\n",
       " 'voisins',\n",
       " 'voitures',\n",
       " 'vos',\n",
       " 'votre',\n",
       " 'voyagent',\n",
       " 'végétales',\n",
       " 'vélos',\n",
       " 'week-end',\n",
       " 'week-ends',\n",
       " 'yaourt',\n",
       " 'zones',\n",
       " 'à',\n",
       " 'échangent',\n",
       " 'échauffent',\n",
       " 'éclairs',\n",
       " 'écologique',\n",
       " 'économisent',\n",
       " 'écouter',\n",
       " 'écrasent',\n",
       " 'éducation',\n",
       " 'égayent',\n",
       " 'électromagnétique',\n",
       " 'électronique',\n",
       " 'émotions',\n",
       " 'énergie',\n",
       " 'énergique',\n",
       " 'époustouflantes',\n",
       " 'équipe',\n",
       " 'équipes',\n",
       " 'étage',\n",
       " 'étang',\n",
       " 'étirement',\n",
       " 'étude',\n",
       " 'étudiants',\n",
       " 'été',\n",
       " 'évaluent',\n",
       " 'évier',\n",
       " 'évite',\n",
       " 'éviter',\n",
       " 'événement',\n",
       " 'événements',\n",
       " 'être',\n",
       " 'œuvres',\n",
       " '\\u200b\\u200bcouvrent']"
      ]
     },
     "execution_count": 7,
     "metadata": {},
     "output_type": "execute_result"
    }
   ],
   "source": [
    "vocab = list(set(subset['translation'].str.cat(sep=' ').split()))\n",
    "\n",
    "# clean the words \n",
    "for i in range(len(vocab)):\n",
    "    vocab[i] = vocab[i].lower()\n",
    "    # index of ' in word\n",
    "    if (\"'\" in vocab[i]):\n",
    "        if (vocab[i].index(\"'\") == 1):\n",
    "            vocab[i] = vocab[i][2:]\n",
    "    elif \"'\\u200b'\" in vocab[i]:\n",
    "        vocab[i] = vocab[i].replace(\"'\\u200b'\", \"\")\n",
    "vocab = list(set(vocab))\n",
    "vocab.sort()\n",
    "vocab"
   ]
  },
  {
   "cell_type": "code",
   "execution_count": 8,
   "metadata": {},
   "outputs": [
    {
     "name": "stdout",
     "output_type": "stream",
     "text": [
      "num of unique words: 636\n"
     ]
    }
   ],
   "source": [
    "print(f\"num of unique words: {len(vocab)}\")"
   ]
  },
  {
   "cell_type": "code",
   "execution_count": 9,
   "metadata": {},
   "outputs": [
    {
     "data": {
      "text/plain": [
       "Text(0.5, 1.0, 'Character frequency all sentences')"
      ]
     },
     "execution_count": 9,
     "metadata": {},
     "output_type": "execute_result"
    },
    {
     "data": {
      "image/png": "[encoded data removed]",
      "text/plain": [
       "<Figure size 640x480 with 1 Axes>"
      ]
     },
     "metadata": {},
     "output_type": "display_data"
    }
   ],
   "source": [
    "# get all char in sentence \n",
    "char = list(\"\".join(subset.translation.str.cat(sep=' ')).lower())\n",
    "unique_char, counts = np.unique(char, return_counts=True)\n",
    "\n",
    "plt.bar(np.arange(len(unique_char)), counts, tick_label=unique_char)\n",
    "plt.title('Character frequency all sentences')"
   ]
  },
  {
   "cell_type": "markdown",
   "metadata": {},
   "source": [
    "# choose a subset of words "
   ]
  },
  {
   "cell_type": "code",
   "execution_count": 143,
   "metadata": {},
   "outputs": [
    {
     "data": {
      "text/plain": [
       "636"
      ]
     },
     "execution_count": 143,
     "metadata": {},
     "output_type": "execute_result"
    }
   ],
   "source": [
    "len(set(vocab))"
   ]
  },
  {
   "cell_type": "code",
   "execution_count": 144,
   "metadata": {},
   "outputs": [],
   "source": [
    "# words that are 4 char minimum, content words, check POS distribution, phonetic distribution, 50 words in total, \n",
    "vocab_filtered = [w for w in vocab if len(w) >=4]"
   ]
  },
  {
   "cell_type": "code",
   "execution_count": 145,
   "metadata": {},
   "outputs": [
    {
     "data": {
      "text/plain": [
       "Text(0.5, 1.0, 'POS distribution of words')"
      ]
     },
     "execution_count": 145,
     "metadata": {},
     "output_type": "execute_result"
    },
    {
     "data": {
      "image/png": "[encoded data removed]",
      "text/plain": [
       "<Figure size 640x480 with 1 Axes>"
      ]
     },
     "metadata": {},
     "output_type": "display_data"
    }
   ],
   "source": [
    "def get_pos(word): \n",
    "    doc = nlp(word)\n",
    "    return doc[0].pos_\n",
    "\n",
    "pos = [get_pos(w) for w in vocab_filtered]\n",
    "np.unique(pos, return_counts=True)\n",
    "\n",
    "plt.bar(np.unique(pos), np.unique(pos, return_counts=True)[1])\n",
    "plt.title('POS distribution of words')"
   ]
  },
  {
   "cell_type": "code",
   "execution_count": 146,
   "metadata": {},
   "outputs": [
    {
     "name": "stdout",
     "output_type": "stream",
     "text": [
      "['content' 'function'] [560  32]\n"
     ]
    },
    {
     "data": {
      "text/plain": [
       "Text(0.5, 1.0, 'content vs functino word distribution')"
      ]
     },
     "execution_count": 146,
     "metadata": {},
     "output_type": "execute_result"
    },
    {
     "data": {
      "image/png": "[encoded data removed]",
      "text/plain": [
       "<Figure size 640x480 with 1 Axes>"
      ]
     },
     "metadata": {},
     "output_type": "display_data"
    }
   ],
   "source": [
    "\n",
    "is_content = [content_function_word[p] for p in pos]\n",
    "\n",
    "unique_c, counts = np.unique(is_content, return_counts=True)\n",
    "print(unique_c, counts)\n",
    "\n",
    "plt.bar(unique_c, counts)\n",
    "plt.title(\"content vs functino word distribution\")\n"
   ]
  },
  {
   "cell_type": "code",
   "execution_count": 147,
   "metadata": {},
   "outputs": [
    {
     "data": {
      "text/html": [
       "<div>\n",
       "<style scoped>\n",
       "    .dataframe tbody tr th:only-of-type {\n",
       "        vertical-align: middle;\n",
       "    }\n",
       "\n",
       "    .dataframe tbody tr th {\n",
       "        vertical-align: top;\n",
       "    }\n",
       "\n",
       "    .dataframe thead th {\n",
       "        text-align: right;\n",
       "    }\n",
       "</style>\n",
       "<table border=\"1\" class=\"dataframe\">\n",
       "  <thead>\n",
       "    <tr style=\"text-align: right;\">\n",
       "      <th></th>\n",
       "      <th>word</th>\n",
       "      <th>pos</th>\n",
       "      <th>is_content</th>\n",
       "      <th>phonemes</th>\n",
       "      <th>first_phone</th>\n",
       "    </tr>\n",
       "  </thead>\n",
       "  <tbody>\n",
       "    <tr>\n",
       "      <th>0</th>\n",
       "      <td>abritent</td>\n",
       "      <td>VERB</td>\n",
       "      <td>content</td>\n",
       "      <td>[a, b, ʁ, i, t]</td>\n",
       "      <td>a</td>\n",
       "    </tr>\n",
       "    <tr>\n",
       "      <th>1</th>\n",
       "      <td>accablants</td>\n",
       "      <td>NOUN</td>\n",
       "      <td>content</td>\n",
       "      <td>[a, k, a, b, l, ɑ̃]</td>\n",
       "      <td>a</td>\n",
       "    </tr>\n",
       "    <tr>\n",
       "      <th>2</th>\n",
       "      <td>accepte</td>\n",
       "      <td>VERB</td>\n",
       "      <td>content</td>\n",
       "      <td>[a, k, s, ɛ, p, t]</td>\n",
       "      <td>a</td>\n",
       "    </tr>\n",
       "    <tr>\n",
       "      <th>3</th>\n",
       "      <td>accueil</td>\n",
       "      <td>NOUN</td>\n",
       "      <td>content</td>\n",
       "      <td>[a, k, œ, j]</td>\n",
       "      <td>a</td>\n",
       "    </tr>\n",
       "    <tr>\n",
       "      <th>4</th>\n",
       "      <td>accueillantes</td>\n",
       "      <td>VERB</td>\n",
       "      <td>content</td>\n",
       "      <td>[a, k, œ, j, ɑ̃, t]</td>\n",
       "      <td>a</td>\n",
       "    </tr>\n",
       "  </tbody>\n",
       "</table>\n",
       "</div>"
      ],
      "text/plain": [
       "            word   pos is_content             phonemes first_phone\n",
       "0       abritent  VERB    content      [a, b, ʁ, i, t]           a\n",
       "1     accablants  NOUN    content  [a, k, a, b, l, ɑ̃]           a\n",
       "2        accepte  VERB    content   [a, k, s, ɛ, p, t]           a\n",
       "3        accueil  NOUN    content         [a, k, œ, j]           a\n",
       "4  accueillantes  VERB    content  [a, k, œ, j, ɑ̃, t]           a"
      ]
     },
     "execution_count": 147,
     "metadata": {},
     "output_type": "execute_result"
    }
   ],
   "source": [
    "# put words in df \n",
    "words = pd.DataFrame({'word': vocab_filtered, 'pos': pos, 'is_content': is_content})\n",
    "\n",
    "# enrich \n",
    "words['phonemes'] = words['word'].apply(get_phonemes)\n",
    "words['first_phone'] = words['phonemes'].apply(lambda x: x[0])\n",
    "words.head()"
   ]
  },
  {
   "cell_type": "code",
   "execution_count": 148,
   "metadata": {},
   "outputs": [
    {
     "data": {
      "text/plain": [
       "Text(0.5, 1.0, 'First phone distribution of words (length >= 4)')"
      ]
     },
     "execution_count": 148,
     "metadata": {},
     "output_type": "execute_result"
    },
    {
     "data": {
      "image/png": "[encoded data removed]",
      "text/plain": [
       "<Figure size 640x480 with 1 Axes>"
      ]
     },
     "metadata": {},
     "output_type": "display_data"
    }
   ],
   "source": [
    "words.first_phone.value_counts().plot.bar()\n",
    "plt.title('First phone distribution of words (length >= 4)')"
   ]
  },
  {
   "cell_type": "code",
   "execution_count": 149,
   "metadata": {},
   "outputs": [
    {
     "data": {
      "text/plain": [
       "559"
      ]
     },
     "execution_count": 149,
     "metadata": {},
     "output_type": "execute_result"
    }
   ],
   "source": [
    "infrequence_first_phones = words.first_phone.value_counts()[words.first_phone.value_counts() < 10].index\n",
    "\n",
    "temp = words[~words.first_phone.isin(infrequence_first_phones)]\n",
    "len(temp)"
   ]
  },
  {
   "cell_type": "code",
   "execution_count": 167,
   "metadata": {},
   "outputs": [
    {
     "data": {
      "text/plain": [
       "523"
      ]
     },
     "execution_count": 167,
     "metadata": {},
     "output_type": "execute_result"
    }
   ],
   "source": [
    "# remove words with symbols \n",
    "temp = temp[~temp.word.str.contains(r'[^\\w\\s]')]\n",
    "temp = temp[~temp.word.str.contains(r'[\\u200b]')]\n",
    "temp = temp[temp.is_content == 'content']\n",
    "len(temp)"
   ]
  },
  {
   "cell_type": "code",
   "execution_count": 168,
   "metadata": {},
   "outputs": [],
   "source": [
    "sample_n = 20\n",
    "\n",
    "word_path = Path(\"../text/selected_words_final.csv\")\n",
    "\n",
    "# if word_path.exists():\n",
    "#     final_words = pd.read_csv(word_path)\n",
    "# else:\n",
    "#     final_words = temp.sample(sample_n)\n",
    "\n",
    "final_words = temp.sample(sample_n)"
   ]
  },
  {
   "cell_type": "markdown",
   "metadata": {},
   "source": [
    "# analysis of words selected for single word trials "
   ]
  },
  {
   "cell_type": "code",
   "execution_count": 169,
   "metadata": {},
   "outputs": [
    {
     "data": {
      "text/html": [
       "<div>\n",
       "<style scoped>\n",
       "    .dataframe tbody tr th:only-of-type {\n",
       "        vertical-align: middle;\n",
       "    }\n",
       "\n",
       "    .dataframe tbody tr th {\n",
       "        vertical-align: top;\n",
       "    }\n",
       "\n",
       "    .dataframe thead th {\n",
       "        text-align: right;\n",
       "    }\n",
       "</style>\n",
       "<table border=\"1\" class=\"dataframe\">\n",
       "  <thead>\n",
       "    <tr style=\"text-align: right;\">\n",
       "      <th></th>\n",
       "      <th>word</th>\n",
       "      <th>pos</th>\n",
       "      <th>is_content</th>\n",
       "      <th>phonemes</th>\n",
       "      <th>first_phone</th>\n",
       "    </tr>\n",
       "  </thead>\n",
       "  <tbody>\n",
       "    <tr>\n",
       "      <th>264</th>\n",
       "      <td>indique</td>\n",
       "      <td>VERB</td>\n",
       "      <td>content</td>\n",
       "      <td>[ɛ̃, d, i, k]</td>\n",
       "      <td>ɛ̃</td>\n",
       "    </tr>\n",
       "    <tr>\n",
       "      <th>217</th>\n",
       "      <td>figures</td>\n",
       "      <td>NOUN</td>\n",
       "      <td>content</td>\n",
       "      <td>[f, i, ɡ, y, ʁ]</td>\n",
       "      <td>f</td>\n",
       "    </tr>\n",
       "    <tr>\n",
       "      <th>554</th>\n",
       "      <td>voyagent</td>\n",
       "      <td>VERB</td>\n",
       "      <td>content</td>\n",
       "      <td>[v, w, a, j, a, ʒ]</td>\n",
       "      <td>v</td>\n",
       "    </tr>\n",
       "    <tr>\n",
       "      <th>308</th>\n",
       "      <td>match</td>\n",
       "      <td>NOUN</td>\n",
       "      <td>content</td>\n",
       "      <td>[m, a, t, ʃ]</td>\n",
       "      <td>m</td>\n",
       "    </tr>\n",
       "    <tr>\n",
       "      <th>230</th>\n",
       "      <td>fréquemment</td>\n",
       "      <td>ADV</td>\n",
       "      <td>content</td>\n",
       "      <td>[f, ʁ, e, k, a, m, ɑ̃]</td>\n",
       "      <td>f</td>\n",
       "    </tr>\n",
       "    <tr>\n",
       "      <th>23</th>\n",
       "      <td>amis</td>\n",
       "      <td>NOUN</td>\n",
       "      <td>content</td>\n",
       "      <td>[a, m, i]</td>\n",
       "      <td>a</td>\n",
       "    </tr>\n",
       "    <tr>\n",
       "      <th>477</th>\n",
       "      <td>semestre</td>\n",
       "      <td>NOUN</td>\n",
       "      <td>content</td>\n",
       "      <td>[s, ə, m, ɛ, s, t, ʁ]</td>\n",
       "      <td>s</td>\n",
       "    </tr>\n",
       "    <tr>\n",
       "      <th>245</th>\n",
       "      <td>grenouille</td>\n",
       "      <td>NOUN</td>\n",
       "      <td>content</td>\n",
       "      <td>[ɡ, ʁ, ə, n, u, j]</td>\n",
       "      <td>ɡ</td>\n",
       "    </tr>\n",
       "    <tr>\n",
       "      <th>184</th>\n",
       "      <td>employés</td>\n",
       "      <td>NOUN</td>\n",
       "      <td>content</td>\n",
       "      <td>[ɑ̃, p, l, w, a, j, e]</td>\n",
       "      <td>ɑ̃</td>\n",
       "    </tr>\n",
       "    <tr>\n",
       "      <th>332</th>\n",
       "      <td>médite</td>\n",
       "      <td>VERB</td>\n",
       "      <td>content</td>\n",
       "      <td>[m, e, d, i, t]</td>\n",
       "      <td>m</td>\n",
       "    </tr>\n",
       "    <tr>\n",
       "      <th>564</th>\n",
       "      <td>écologique</td>\n",
       "      <td>ADJ</td>\n",
       "      <td>content</td>\n",
       "      <td>[e, k, ɔ, l, ɔ, ʒ, i, k]</td>\n",
       "      <td>e</td>\n",
       "    </tr>\n",
       "    <tr>\n",
       "      <th>223</th>\n",
       "      <td>force</td>\n",
       "      <td>NOUN</td>\n",
       "      <td>content</td>\n",
       "      <td>[f, ɔ, ʁ, s]</td>\n",
       "      <td>f</td>\n",
       "    </tr>\n",
       "    <tr>\n",
       "      <th>505</th>\n",
       "      <td>succès</td>\n",
       "      <td>NOUN</td>\n",
       "      <td>content</td>\n",
       "      <td>[s, y, k, s, ɛ]</td>\n",
       "      <td>s</td>\n",
       "    </tr>\n",
       "    <tr>\n",
       "      <th>451</th>\n",
       "      <td>réduire</td>\n",
       "      <td>VERB</td>\n",
       "      <td>content</td>\n",
       "      <td>[ʁ, e, d, y, i, ʁ]</td>\n",
       "      <td>ʁ</td>\n",
       "    </tr>\n",
       "    <tr>\n",
       "      <th>167</th>\n",
       "      <td>dormir</td>\n",
       "      <td>VERB</td>\n",
       "      <td>content</td>\n",
       "      <td>[d, ɔ, ʁ, m, i, ʁ]</td>\n",
       "      <td>d</td>\n",
       "    </tr>\n",
       "    <tr>\n",
       "      <th>79</th>\n",
       "      <td>calme</td>\n",
       "      <td>ADJ</td>\n",
       "      <td>content</td>\n",
       "      <td>[k, a, l, m]</td>\n",
       "      <td>k</td>\n",
       "    </tr>\n",
       "    <tr>\n",
       "      <th>509</th>\n",
       "      <td>superviseurs</td>\n",
       "      <td>ADJ</td>\n",
       "      <td>content</td>\n",
       "      <td>[s, y, p, ɛ, ʁ, v, i, z, œ, ʁ]</td>\n",
       "      <td>s</td>\n",
       "    </tr>\n",
       "    <tr>\n",
       "      <th>310</th>\n",
       "      <td>matin</td>\n",
       "      <td>NOUN</td>\n",
       "      <td>content</td>\n",
       "      <td>[m, a, t, ɛ̃]</td>\n",
       "      <td>m</td>\n",
       "    </tr>\n",
       "    <tr>\n",
       "      <th>4</th>\n",
       "      <td>accueillantes</td>\n",
       "      <td>VERB</td>\n",
       "      <td>content</td>\n",
       "      <td>[a, k, œ, j, ɑ̃, t]</td>\n",
       "      <td>a</td>\n",
       "    </tr>\n",
       "    <tr>\n",
       "      <th>80</th>\n",
       "      <td>camarades</td>\n",
       "      <td>NOUN</td>\n",
       "      <td>content</td>\n",
       "      <td>[k, a, m, a, ʁ, a, d]</td>\n",
       "      <td>k</td>\n",
       "    </tr>\n",
       "  </tbody>\n",
       "</table>\n",
       "</div>"
      ],
      "text/plain": [
       "              word   pos is_content                        phonemes  \\\n",
       "264        indique  VERB    content                   [ɛ̃, d, i, k]   \n",
       "217        figures  NOUN    content                 [f, i, ɡ, y, ʁ]   \n",
       "554       voyagent  VERB    content              [v, w, a, j, a, ʒ]   \n",
       "308          match  NOUN    content                    [m, a, t, ʃ]   \n",
       "230    fréquemment   ADV    content          [f, ʁ, e, k, a, m, ɑ̃]   \n",
       "23            amis  NOUN    content                       [a, m, i]   \n",
       "477       semestre  NOUN    content           [s, ə, m, ɛ, s, t, ʁ]   \n",
       "245     grenouille  NOUN    content              [ɡ, ʁ, ə, n, u, j]   \n",
       "184       employés  NOUN    content          [ɑ̃, p, l, w, a, j, e]   \n",
       "332         médite  VERB    content                 [m, e, d, i, t]   \n",
       "564     écologique   ADJ    content        [e, k, ɔ, l, ɔ, ʒ, i, k]   \n",
       "223          force  NOUN    content                    [f, ɔ, ʁ, s]   \n",
       "505         succès  NOUN    content                 [s, y, k, s, ɛ]   \n",
       "451        réduire  VERB    content              [ʁ, e, d, y, i, ʁ]   \n",
       "167         dormir  VERB    content              [d, ɔ, ʁ, m, i, ʁ]   \n",
       "79           calme   ADJ    content                    [k, a, l, m]   \n",
       "509   superviseurs   ADJ    content  [s, y, p, ɛ, ʁ, v, i, z, œ, ʁ]   \n",
       "310          matin  NOUN    content                   [m, a, t, ɛ̃]   \n",
       "4    accueillantes  VERB    content             [a, k, œ, j, ɑ̃, t]   \n",
       "80       camarades  NOUN    content           [k, a, m, a, ʁ, a, d]   \n",
       "\n",
       "    first_phone  \n",
       "264          ɛ̃  \n",
       "217           f  \n",
       "554           v  \n",
       "308           m  \n",
       "230           f  \n",
       "23            a  \n",
       "477           s  \n",
       "245           ɡ  \n",
       "184          ɑ̃  \n",
       "332           m  \n",
       "564           e  \n",
       "223           f  \n",
       "505           s  \n",
       "451           ʁ  \n",
       "167           d  \n",
       "79            k  \n",
       "509           s  \n",
       "310           m  \n",
       "4             a  \n",
       "80            k  "
      ]
     },
     "execution_count": 169,
     "metadata": {},
     "output_type": "execute_result"
    }
   ],
   "source": [
    "final_words"
   ]
  },
  {
   "cell_type": "code",
   "execution_count": 170,
   "metadata": {},
   "outputs": [
    {
     "data": {
      "text/plain": [
       "20"
      ]
     },
     "execution_count": 170,
     "metadata": {},
     "output_type": "execute_result"
    }
   ],
   "source": [
    "len(final_words)"
   ]
  },
  {
   "cell_type": "code",
   "execution_count": 171,
   "metadata": {},
   "outputs": [
    {
     "data": {
      "text/html": [
       "<div>\n",
       "<style scoped>\n",
       "    .dataframe tbody tr th:only-of-type {\n",
       "        vertical-align: middle;\n",
       "    }\n",
       "\n",
       "    .dataframe tbody tr th {\n",
       "        vertical-align: top;\n",
       "    }\n",
       "\n",
       "    .dataframe thead th {\n",
       "        text-align: right;\n",
       "    }\n",
       "</style>\n",
       "<table border=\"1\" class=\"dataframe\">\n",
       "  <thead>\n",
       "    <tr style=\"text-align: right;\">\n",
       "      <th></th>\n",
       "      <th>word</th>\n",
       "      <th>pos</th>\n",
       "      <th>is_content</th>\n",
       "      <th>phonemes</th>\n",
       "      <th>first_phone</th>\n",
       "      <th>lemma</th>\n",
       "    </tr>\n",
       "  </thead>\n",
       "  <tbody>\n",
       "    <tr>\n",
       "      <th>264</th>\n",
       "      <td>indique</td>\n",
       "      <td>VERB</td>\n",
       "      <td>content</td>\n",
       "      <td>[ɛ̃, d, i, k]</td>\n",
       "      <td>ɛ̃</td>\n",
       "      <td>indique</td>\n",
       "    </tr>\n",
       "    <tr>\n",
       "      <th>217</th>\n",
       "      <td>figures</td>\n",
       "      <td>NOUN</td>\n",
       "      <td>content</td>\n",
       "      <td>[f, i, ɡ, y, ʁ]</td>\n",
       "      <td>f</td>\n",
       "      <td>figure</td>\n",
       "    </tr>\n",
       "    <tr>\n",
       "      <th>554</th>\n",
       "      <td>voyagent</td>\n",
       "      <td>VERB</td>\n",
       "      <td>content</td>\n",
       "      <td>[v, w, a, j, a, ʒ]</td>\n",
       "      <td>v</td>\n",
       "      <td>voyager</td>\n",
       "    </tr>\n",
       "    <tr>\n",
       "      <th>308</th>\n",
       "      <td>match</td>\n",
       "      <td>NOUN</td>\n",
       "      <td>content</td>\n",
       "      <td>[m, a, t, ʃ]</td>\n",
       "      <td>m</td>\n",
       "      <td>match</td>\n",
       "    </tr>\n",
       "    <tr>\n",
       "      <th>230</th>\n",
       "      <td>fréquemment</td>\n",
       "      <td>ADV</td>\n",
       "      <td>content</td>\n",
       "      <td>[f, ʁ, e, k, a, m, ɑ̃]</td>\n",
       "      <td>f</td>\n",
       "      <td>fréquemment</td>\n",
       "    </tr>\n",
       "    <tr>\n",
       "      <th>23</th>\n",
       "      <td>amis</td>\n",
       "      <td>NOUN</td>\n",
       "      <td>content</td>\n",
       "      <td>[a, m, i]</td>\n",
       "      <td>a</td>\n",
       "      <td>ami</td>\n",
       "    </tr>\n",
       "    <tr>\n",
       "      <th>477</th>\n",
       "      <td>semestre</td>\n",
       "      <td>NOUN</td>\n",
       "      <td>content</td>\n",
       "      <td>[s, ə, m, ɛ, s, t, ʁ]</td>\n",
       "      <td>s</td>\n",
       "      <td>semestre</td>\n",
       "    </tr>\n",
       "    <tr>\n",
       "      <th>245</th>\n",
       "      <td>grenouille</td>\n",
       "      <td>NOUN</td>\n",
       "      <td>content</td>\n",
       "      <td>[ɡ, ʁ, ə, n, u, j]</td>\n",
       "      <td>ɡ</td>\n",
       "      <td>grenouille</td>\n",
       "    </tr>\n",
       "    <tr>\n",
       "      <th>184</th>\n",
       "      <td>employés</td>\n",
       "      <td>NOUN</td>\n",
       "      <td>content</td>\n",
       "      <td>[ɑ̃, p, l, w, a, j, e]</td>\n",
       "      <td>ɑ̃</td>\n",
       "      <td>employé</td>\n",
       "    </tr>\n",
       "    <tr>\n",
       "      <th>332</th>\n",
       "      <td>médite</td>\n",
       "      <td>VERB</td>\n",
       "      <td>content</td>\n",
       "      <td>[m, e, d, i, t]</td>\n",
       "      <td>m</td>\n",
       "      <td>méditer</td>\n",
       "    </tr>\n",
       "    <tr>\n",
       "      <th>564</th>\n",
       "      <td>écologique</td>\n",
       "      <td>ADJ</td>\n",
       "      <td>content</td>\n",
       "      <td>[e, k, ɔ, l, ɔ, ʒ, i, k]</td>\n",
       "      <td>e</td>\n",
       "      <td>écologique</td>\n",
       "    </tr>\n",
       "    <tr>\n",
       "      <th>223</th>\n",
       "      <td>force</td>\n",
       "      <td>NOUN</td>\n",
       "      <td>content</td>\n",
       "      <td>[f, ɔ, ʁ, s]</td>\n",
       "      <td>f</td>\n",
       "      <td>force</td>\n",
       "    </tr>\n",
       "    <tr>\n",
       "      <th>505</th>\n",
       "      <td>succès</td>\n",
       "      <td>NOUN</td>\n",
       "      <td>content</td>\n",
       "      <td>[s, y, k, s, ɛ]</td>\n",
       "      <td>s</td>\n",
       "      <td>succès</td>\n",
       "    </tr>\n",
       "    <tr>\n",
       "      <th>451</th>\n",
       "      <td>réduire</td>\n",
       "      <td>VERB</td>\n",
       "      <td>content</td>\n",
       "      <td>[ʁ, e, d, y, i, ʁ]</td>\n",
       "      <td>ʁ</td>\n",
       "      <td>réduire</td>\n",
       "    </tr>\n",
       "    <tr>\n",
       "      <th>167</th>\n",
       "      <td>dormir</td>\n",
       "      <td>VERB</td>\n",
       "      <td>content</td>\n",
       "      <td>[d, ɔ, ʁ, m, i, ʁ]</td>\n",
       "      <td>d</td>\n",
       "      <td>dormir</td>\n",
       "    </tr>\n",
       "    <tr>\n",
       "      <th>79</th>\n",
       "      <td>calme</td>\n",
       "      <td>ADJ</td>\n",
       "      <td>content</td>\n",
       "      <td>[k, a, l, m]</td>\n",
       "      <td>k</td>\n",
       "      <td>calme</td>\n",
       "    </tr>\n",
       "    <tr>\n",
       "      <th>509</th>\n",
       "      <td>superviseurs</td>\n",
       "      <td>ADJ</td>\n",
       "      <td>content</td>\n",
       "      <td>[s, y, p, ɛ, ʁ, v, i, z, œ, ʁ]</td>\n",
       "      <td>s</td>\n",
       "      <td>superviseur</td>\n",
       "    </tr>\n",
       "    <tr>\n",
       "      <th>310</th>\n",
       "      <td>matin</td>\n",
       "      <td>NOUN</td>\n",
       "      <td>content</td>\n",
       "      <td>[m, a, t, ɛ̃]</td>\n",
       "      <td>m</td>\n",
       "      <td>matin</td>\n",
       "    </tr>\n",
       "    <tr>\n",
       "      <th>4</th>\n",
       "      <td>accueillantes</td>\n",
       "      <td>VERB</td>\n",
       "      <td>content</td>\n",
       "      <td>[a, k, œ, j, ɑ̃, t]</td>\n",
       "      <td>a</td>\n",
       "      <td>accueillanter</td>\n",
       "    </tr>\n",
       "    <tr>\n",
       "      <th>80</th>\n",
       "      <td>camarades</td>\n",
       "      <td>NOUN</td>\n",
       "      <td>content</td>\n",
       "      <td>[k, a, m, a, ʁ, a, d]</td>\n",
       "      <td>k</td>\n",
       "      <td>camarade</td>\n",
       "    </tr>\n",
       "  </tbody>\n",
       "</table>\n",
       "</div>"
      ],
      "text/plain": [
       "              word   pos is_content                        phonemes  \\\n",
       "264        indique  VERB    content                   [ɛ̃, d, i, k]   \n",
       "217        figures  NOUN    content                 [f, i, ɡ, y, ʁ]   \n",
       "554       voyagent  VERB    content              [v, w, a, j, a, ʒ]   \n",
       "308          match  NOUN    content                    [m, a, t, ʃ]   \n",
       "230    fréquemment   ADV    content          [f, ʁ, e, k, a, m, ɑ̃]   \n",
       "23            amis  NOUN    content                       [a, m, i]   \n",
       "477       semestre  NOUN    content           [s, ə, m, ɛ, s, t, ʁ]   \n",
       "245     grenouille  NOUN    content              [ɡ, ʁ, ə, n, u, j]   \n",
       "184       employés  NOUN    content          [ɑ̃, p, l, w, a, j, e]   \n",
       "332         médite  VERB    content                 [m, e, d, i, t]   \n",
       "564     écologique   ADJ    content        [e, k, ɔ, l, ɔ, ʒ, i, k]   \n",
       "223          force  NOUN    content                    [f, ɔ, ʁ, s]   \n",
       "505         succès  NOUN    content                 [s, y, k, s, ɛ]   \n",
       "451        réduire  VERB    content              [ʁ, e, d, y, i, ʁ]   \n",
       "167         dormir  VERB    content              [d, ɔ, ʁ, m, i, ʁ]   \n",
       "79           calme   ADJ    content                    [k, a, l, m]   \n",
       "509   superviseurs   ADJ    content  [s, y, p, ɛ, ʁ, v, i, z, œ, ʁ]   \n",
       "310          matin  NOUN    content                   [m, a, t, ɛ̃]   \n",
       "4    accueillantes  VERB    content             [a, k, œ, j, ɑ̃, t]   \n",
       "80       camarades  NOUN    content           [k, a, m, a, ʁ, a, d]   \n",
       "\n",
       "    first_phone          lemma  \n",
       "264          ɛ̃        indique  \n",
       "217           f         figure  \n",
       "554           v        voyager  \n",
       "308           m          match  \n",
       "230           f    fréquemment  \n",
       "23            a            ami  \n",
       "477           s       semestre  \n",
       "245           ɡ     grenouille  \n",
       "184          ɑ̃        employé  \n",
       "332           m        méditer  \n",
       "564           e     écologique  \n",
       "223           f          force  \n",
       "505           s         succès  \n",
       "451           ʁ        réduire  \n",
       "167           d         dormir  \n",
       "79            k          calme  \n",
       "509           s    superviseur  \n",
       "310           m          matin  \n",
       "4             a  accueillanter  \n",
       "80            k       camarade  "
      ]
     },
     "execution_count": 171,
     "metadata": {},
     "output_type": "execute_result"
    }
   ],
   "source": [
    "# make sure all words at root form \n",
    "def get_lemma(word): \n",
    "    doc = nlp(word)\n",
    "    return doc[0].lemma_\n",
    "\n",
    "final_words['lemma'] = final_words['word'].apply(get_lemma)\n",
    "final_words"
   ]
  },
  {
   "cell_type": "code",
   "execution_count": 172,
   "metadata": {},
   "outputs": [
    {
     "data": {
      "text/plain": [
       "array([list(['ɛ̃', 'd', 'i', 'k']), list(['f', 'i', 'ɡ', 'y', 'ʁ']),\n",
       "       list(['v', 'w', 'a', 'j', 'a', 'ʒ']), list(['m', 'a', 't', 'ʃ']),\n",
       "       list(['f', 'ʁ', 'e', 'k', 'a', 'm', 'ɑ̃']), list(['a', 'm', 'i']),\n",
       "       list(['s', 'ə', 'm', 'ɛ', 's', 't', 'ʁ']),\n",
       "       list(['ɡ', 'ʁ', 'ə', 'n', 'u', 'j']),\n",
       "       list(['ɑ̃', 'p', 'l', 'w', 'a', 'j', 'e']),\n",
       "       list(['m', 'e', 'd', 'i', 't']),\n",
       "       list(['e', 'k', 'ɔ', 'l', 'ɔ', 'ʒ', 'i', 'k']),\n",
       "       list(['f', 'ɔ', 'ʁ', 's']), list(['s', 'y', 'k', 's', 'ɛ']),\n",
       "       list(['ʁ', 'e', 'd', 'y', 'i', 'ʁ']),\n",
       "       list(['d', 'ɔ', 'ʁ', 'm', 'i', 'ʁ']), list(['k', 'a', 'l', 'm']),\n",
       "       list(['s', 'y', 'p', 'ɛ', 'ʁ', 'v', 'i', 'z', 'œ', 'ʁ']),\n",
       "       list(['m', 'a', 't', 'ɛ̃']), list(['a', 'k', 'œ', 'j', 'ɑ̃', 't']),\n",
       "       list(['k', 'a', 'm', 'a', 'ʁ', 'a', 'd'])], dtype=object)"
      ]
     },
     "execution_count": 172,
     "metadata": {},
     "output_type": "execute_result"
    }
   ],
   "source": [
    "(final_words.phonemes.values)"
   ]
  },
  {
   "cell_type": "code",
   "execution_count": 173,
   "metadata": {},
   "outputs": [
    {
     "data": {
      "text/plain": [
       "Text(0.5, 1.0, 'phoneme frenquency in words')"
      ]
     },
     "execution_count": 173,
     "metadata": {},
     "output_type": "execute_result"
    },
    {
     "data": {
      "image/png": "[encoded data removed]",
      "text/plain": [
       "<Figure size 1000x300 with 1 Axes>"
      ]
     },
     "metadata": {},
     "output_type": "display_data"
    }
   ],
   "source": [
    "unique_phonemes, counts = np.unique(np.hstack(final_words.phonemes.values), return_counts=True)\n",
    "\n",
    "plt.figure(figsize=(10, 3))\n",
    "plt.bar(np.arange(len(unique_phonemes)), counts, tick_label=unique_phonemes)\n",
    "plt.title(\"phoneme frenquency in words\")"
   ]
  },
  {
   "cell_type": "code",
   "execution_count": 174,
   "metadata": {},
   "outputs": [
    {
     "data": {
      "text/plain": [
       "Text(0.5, 1.0, 'distribution of n syllable in words')"
      ]
     },
     "execution_count": 174,
     "metadata": {},
     "output_type": "execute_result"
    },
    {
     "data": {
      "image/png": "[encoded data removed]",
      "text/plain": [
       "<Figure size 640x480 with 1 Axes>"
      ]
     },
     "metadata": {},
     "output_type": "display_data"
    }
   ],
   "source": [
    "def n_syllables(words): \n",
    "    doc = nlp(words)\n",
    "    return doc[0]._.syllables_count\n",
    "\n",
    "final_words['n_syllables'] = final_words['word'].apply(n_syllables)\n",
    "\n",
    "final_words.n_syllables.value_counts().plot.bar()\n",
    "plt.title('distribution of n syllable in words')"
   ]
  },
  {
   "cell_type": "code",
   "execution_count": 175,
   "metadata": {},
   "outputs": [
    {
     "data": {
      "text/plain": [
       "Text(0.5, 1.0, 'distribution of n_char of words')"
      ]
     },
     "execution_count": 175,
     "metadata": {},
     "output_type": "execute_result"
    },
    {
     "data": {
      "image/png": "[encoded data removed]",
      "text/plain": [
       "<Figure size 640x480 with 1 Axes>"
      ]
     },
     "metadata": {},
     "output_type": "display_data"
    }
   ],
   "source": [
    "final_words.word.apply(len).plot.hist()\n",
    "plt.title(\"distribution of n_char of words\")"
   ]
  },
  {
   "cell_type": "code",
   "execution_count": 176,
   "metadata": {},
   "outputs": [
    {
     "data": {
      "text/plain": [
       "Text(0.5, 1.0, 'First phone distribution of final words')"
      ]
     },
     "execution_count": 176,
     "metadata": {},
     "output_type": "execute_result"
    },
    {
     "data": {
      "image/png": "[encoded data removed]",
      "text/plain": [
       "<Figure size 640x480 with 1 Axes>"
      ]
     },
     "metadata": {},
     "output_type": "display_data"
    }
   ],
   "source": [
    "final_words.first_phone.value_counts().plot.bar()\n",
    "plt.title('First phone distribution of final words')"
   ]
  },
  {
   "cell_type": "code",
   "execution_count": 177,
   "metadata": {},
   "outputs": [
    {
     "data": {
      "text/plain": [
       "Text(0.5, 1.0, 'POS distribution of final words')"
      ]
     },
     "execution_count": 177,
     "metadata": {},
     "output_type": "execute_result"
    },
    {
     "data": {
      "image/png": "[encoded data removed]",
      "text/plain": [
       "<Figure size 640x480 with 1 Axes>"
      ]
     },
     "metadata": {},
     "output_type": "display_data"
    }
   ],
   "source": [
    "final_words.pos.value_counts().plot.bar()\n",
    "plt.title('POS distribution of final words')"
   ]
  },
  {
   "cell_type": "code",
   "execution_count": 178,
   "metadata": {},
   "outputs": [],
   "source": [
    "final_words.to_csv('../text/selected_words_final.csv', index=False)"
   ]
  },
  {
   "cell_type": "code",
   "execution_count": null,
   "metadata": {},
   "outputs": [],
   "source": []
  }
 ],
 "metadata": {
  "kernelspec": {
   "display_name": "experiment",
   "language": "python",
   "name": "python3"
  },
  "language_info": {
   "codemirror_mode": {
    "name": "ipython",
    "version": 3
   },
   "file_extension": ".py",
   "mimetype": "text/x-python",
   "name": "python",
   "nbconvert_exporter": "python",
   "pygments_lexer": "ipython3",
   "version": "3.10.15"
  }
 },
 "nbformat": 4,
 "nbformat_minor": 2
}
