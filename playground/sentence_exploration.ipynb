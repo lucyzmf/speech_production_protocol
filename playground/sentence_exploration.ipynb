{
 "cells": [
  {
   "cell_type": "code",
   "execution_count": 69,
   "metadata": {},
   "outputs": [],
   "source": [
    "import pandas as pd \n"
   ]
  },
  {
   "cell_type": "code",
   "execution_count": 71,
   "metadata": {},
   "outputs": [
    {
     "data": {
      "text/html": [
       "<div>\n",
       "<style scoped>\n",
       "    .dataframe tbody tr th:only-of-type {\n",
       "        vertical-align: middle;\n",
       "    }\n",
       "\n",
       "    .dataframe tbody tr th {\n",
       "        vertical-align: top;\n",
       "    }\n",
       "\n",
       "    .dataframe thead th {\n",
       "        text-align: right;\n",
       "    }\n",
       "</style>\n",
       "<table border=\"1\" class=\"dataframe\">\n",
       "  <thead>\n",
       "    <tr style=\"text-align: right;\">\n",
       "      <th></th>\n",
       "      <th>theme</th>\n",
       "      <th>type</th>\n",
       "      <th>structure</th>\n",
       "      <th>numer</th>\n",
       "      <th>tense</th>\n",
       "      <th>polarity</th>\n",
       "      <th>sentence</th>\n",
       "      <th>num_words</th>\n",
       "    </tr>\n",
       "  </thead>\n",
       "  <tbody>\n",
       "    <tr>\n",
       "      <th>0</th>\n",
       "      <td>weather</td>\n",
       "      <td>imperative</td>\n",
       "      <td>cleft</td>\n",
       "      <td>singular</td>\n",
       "      <td>present</td>\n",
       "      <td>negative</td>\n",
       "      <td>Don’t forget that it rains in spring\\n</td>\n",
       "      <td>7</td>\n",
       "    </tr>\n",
       "    <tr>\n",
       "      <th>1</th>\n",
       "      <td>weather</td>\n",
       "      <td>imperative</td>\n",
       "      <td>cleft</td>\n",
       "      <td>singular</td>\n",
       "      <td>present</td>\n",
       "      <td>negative</td>\n",
       "      <td>Please remember that winter is not always cold\\n</td>\n",
       "      <td>8</td>\n",
       "    </tr>\n",
       "    <tr>\n",
       "      <th>2</th>\n",
       "      <td>weather</td>\n",
       "      <td>imperative</td>\n",
       "      <td>cleft</td>\n",
       "      <td>singular</td>\n",
       "      <td>present</td>\n",
       "      <td>negative</td>\n",
       "      <td>It is not my fault when the thunder strikes\\n</td>\n",
       "      <td>9</td>\n",
       "    </tr>\n",
       "    <tr>\n",
       "      <th>3</th>\n",
       "      <td>weather</td>\n",
       "      <td>imperative</td>\n",
       "      <td>cleft</td>\n",
       "      <td>singular</td>\n",
       "      <td>present</td>\n",
       "      <td>negative</td>\n",
       "      <td>You should know that summer does not last fore...</td>\n",
       "      <td>9</td>\n",
       "    </tr>\n",
       "    <tr>\n",
       "      <th>4</th>\n",
       "      <td>weather</td>\n",
       "      <td>imperative</td>\n",
       "      <td>cleft</td>\n",
       "      <td>singular</td>\n",
       "      <td>present</td>\n",
       "      <td>negative</td>\n",
       "      <td>Do not believe that snow is never beautiful\\n</td>\n",
       "      <td>8</td>\n",
       "    </tr>\n",
       "  </tbody>\n",
       "</table>\n",
       "</div>"
      ],
      "text/plain": [
       "     theme        type structure     numer    tense  polarity  \\\n",
       "0  weather  imperative     cleft  singular  present  negative   \n",
       "1  weather  imperative     cleft  singular  present  negative   \n",
       "2  weather  imperative     cleft  singular  present  negative   \n",
       "3  weather  imperative     cleft  singular  present  negative   \n",
       "4  weather  imperative     cleft  singular  present  negative   \n",
       "\n",
       "                                            sentence  num_words  \n",
       "0             Don’t forget that it rains in spring\\n          7  \n",
       "1   Please remember that winter is not always cold\\n          8  \n",
       "2      It is not my fault when the thunder strikes\\n          9  \n",
       "3  You should know that summer does not last fore...          9  \n",
       "4      Do not believe that snow is never beautiful\\n          8  "
      ]
     },
     "execution_count": 71,
     "metadata": {},
     "output_type": "execute_result"
    }
   ],
   "source": [
    "sentences = pd.read_csv(\"../text/full.csv\")\n",
    "sentences.head()"
   ]
  },
  {
   "cell_type": "code",
   "execution_count": 72,
   "metadata": {},
   "outputs": [
    {
     "data": {
      "text/plain": [
       "theme    type         structure  \n",
       "food     exclamatory  simple         238\n",
       "basic    exclamatory  simple         237\n",
       "emotion  exclamatory  simple         230\n",
       "basic    declarative  simple         230\n",
       "health   exclamatory  simple         228\n",
       "                                    ... \n",
       "nature   declarative  independent      2\n",
       "art      declarative  independent      2\n",
       "food     imperative   independent      2\n",
       "art      imperative   independent      1\n",
       "housing  imperative   independent      1\n",
       "Name: count, Length: 300, dtype: int64"
      ]
     },
     "execution_count": 72,
     "metadata": {},
     "output_type": "execute_result"
    }
   ],
   "source": [
    "short_sents = sentences.query(\"num_words <= 8\")\n",
    "\n",
    "short_sents[['theme', 'type', 'structure']].value_counts()"
   ]
  },
  {
   "cell_type": "code",
   "execution_count": 73,
   "metadata": {},
   "outputs": [
    {
     "data": {
      "text/plain": [
       "structure\n",
       "simple         10058\n",
       "preposition     4494\n",
       "cleft           3643\n",
       "dependent       2341\n",
       "independent      903\n",
       "Name: count, dtype: int64"
      ]
     },
     "execution_count": 73,
     "metadata": {},
     "output_type": "execute_result"
    }
   ],
   "source": [
    "short_sents.structure.value_counts()"
   ]
  },
  {
   "cell_type": "code",
   "execution_count": 74,
   "metadata": {},
   "outputs": [
    {
     "data": {
      "text/plain": [
       "type\n",
       "exclamatory      7777\n",
       "interrogative    4842\n",
       "declarative      4771\n",
       "imperative       4049\n",
       "Name: count, dtype: int64"
      ]
     },
     "execution_count": 74,
     "metadata": {},
     "output_type": "execute_result"
    }
   ],
   "source": [
    "short_sents.type.value_counts()"
   ]
  },
  {
   "cell_type": "code",
   "execution_count": 75,
   "metadata": {},
   "outputs": [
    {
     "data": {
      "text/plain": [
       "polarity\n",
       "affirmative    12189\n",
       "negative        9250\n",
       "Name: count, dtype: int64"
      ]
     },
     "execution_count": 75,
     "metadata": {},
     "output_type": "execute_result"
    }
   ],
   "source": [
    "short_sents.polarity.value_counts()"
   ]
  },
  {
   "cell_type": "markdown",
   "metadata": {},
   "source": [
    "current strategy: \n",
    "- theme: don't care \n",
    "- type: declarative\n",
    "- structure: simple \n",
    "- tense: present \n",
    "- polarity: positive "
   ]
  },
  {
   "cell_type": "code",
   "execution_count": 96,
   "metadata": {},
   "outputs": [
    {
     "data": {
      "text/html": [
       "<div>\n",
       "<style scoped>\n",
       "    .dataframe tbody tr th:only-of-type {\n",
       "        vertical-align: middle;\n",
       "    }\n",
       "\n",
       "    .dataframe tbody tr th {\n",
       "        vertical-align: top;\n",
       "    }\n",
       "\n",
       "    .dataframe thead th {\n",
       "        text-align: right;\n",
       "    }\n",
       "</style>\n",
       "<table border=\"1\" class=\"dataframe\">\n",
       "  <thead>\n",
       "    <tr style=\"text-align: right;\">\n",
       "      <th></th>\n",
       "      <th>theme</th>\n",
       "      <th>type</th>\n",
       "      <th>structure</th>\n",
       "      <th>numer</th>\n",
       "      <th>tense</th>\n",
       "      <th>polarity</th>\n",
       "      <th>sentence</th>\n",
       "      <th>num_words</th>\n",
       "    </tr>\n",
       "  </thead>\n",
       "  <tbody>\n",
       "    <tr>\n",
       "      <th>460</th>\n",
       "      <td>food</td>\n",
       "      <td>declarative</td>\n",
       "      <td>simple</td>\n",
       "      <td>singular</td>\n",
       "      <td>present</td>\n",
       "      <td>affirmative</td>\n",
       "      <td>I enjoy eating fresh fruits every morning\\n</td>\n",
       "      <td>7</td>\n",
       "    </tr>\n",
       "    <tr>\n",
       "      <th>461</th>\n",
       "      <td>food</td>\n",
       "      <td>declarative</td>\n",
       "      <td>simple</td>\n",
       "      <td>singular</td>\n",
       "      <td>present</td>\n",
       "      <td>affirmative</td>\n",
       "      <td>She drinks water during lunch every day\\n</td>\n",
       "      <td>7</td>\n",
       "    </tr>\n",
       "    <tr>\n",
       "      <th>462</th>\n",
       "      <td>food</td>\n",
       "      <td>declarative</td>\n",
       "      <td>simple</td>\n",
       "      <td>singular</td>\n",
       "      <td>present</td>\n",
       "      <td>affirmative</td>\n",
       "      <td>He likes to bake cookies on weekends\\n</td>\n",
       "      <td>7</td>\n",
       "    </tr>\n",
       "    <tr>\n",
       "      <th>463</th>\n",
       "      <td>food</td>\n",
       "      <td>declarative</td>\n",
       "      <td>simple</td>\n",
       "      <td>singular</td>\n",
       "      <td>present</td>\n",
       "      <td>affirmative</td>\n",
       "      <td>My brother loves trying new recipes regularly\\n</td>\n",
       "      <td>7</td>\n",
       "    </tr>\n",
       "    <tr>\n",
       "      <th>464</th>\n",
       "      <td>food</td>\n",
       "      <td>declarative</td>\n",
       "      <td>simple</td>\n",
       "      <td>singular</td>\n",
       "      <td>present</td>\n",
       "      <td>affirmative</td>\n",
       "      <td>I prefer tea over coffee in the afternoon\\n</td>\n",
       "      <td>8</td>\n",
       "    </tr>\n",
       "  </tbody>\n",
       "</table>\n",
       "</div>"
      ],
      "text/plain": [
       "    theme         type structure     numer    tense     polarity  \\\n",
       "460  food  declarative    simple  singular  present  affirmative   \n",
       "461  food  declarative    simple  singular  present  affirmative   \n",
       "462  food  declarative    simple  singular  present  affirmative   \n",
       "463  food  declarative    simple  singular  present  affirmative   \n",
       "464  food  declarative    simple  singular  present  affirmative   \n",
       "\n",
       "                                            sentence  num_words  \n",
       "460      I enjoy eating fresh fruits every morning\\n          7  \n",
       "461        She drinks water during lunch every day\\n          7  \n",
       "462           He likes to bake cookies on weekends\\n          7  \n",
       "463  My brother loves trying new recipes regularly\\n          7  \n",
       "464      I prefer tea over coffee in the afternoon\\n          8  "
      ]
     },
     "execution_count": 96,
     "metadata": {},
     "output_type": "execute_result"
    }
   ],
   "source": [
    "max_words = 8\n",
    "structure = 'simple'\n",
    "tense = 'present'\n",
    "polarity = 'affirmative'\n",
    "\n",
    "subset = sentences.query(f\"num_words <= {max_words} and structure == '{structure}' and tense == '{tense}' and polarity == '{polarity}' and type == 'declarative'\")\n",
    "subset.head()\n"
   ]
  },
  {
   "cell_type": "markdown",
   "metadata": {},
   "source": [
    "for each sentence type, select 25 sentences "
   ]
  },
  {
   "cell_type": "code",
   "execution_count": 97,
   "metadata": {},
   "outputs": [],
   "source": [
    "selected = pd.DataFrame()\n",
    "total = 256\n",
    "\n",
    "for i, group in subset.groupby('type'):\n",
    "    selected = pd.concat([selected, group.sample(total)], ignore_index=True)\n",
    "    "
   ]
  },
  {
   "cell_type": "code",
   "execution_count": 98,
   "metadata": {},
   "outputs": [
    {
     "data": {
      "text/plain": [
       "type         theme       \n",
       "declarative  art             14\n",
       "             basic           23\n",
       "             emotion         23\n",
       "             food            13\n",
       "             health          23\n",
       "             housing         21\n",
       "             humanity        12\n",
       "             nature          20\n",
       "             relationship    11\n",
       "             science         14\n",
       "             shopping        15\n",
       "             sport           16\n",
       "             transport       18\n",
       "             weather         14\n",
       "             work            19\n",
       "Name: sentence, dtype: int64"
      ]
     },
     "execution_count": 98,
     "metadata": {},
     "output_type": "execute_result"
    }
   ],
   "source": [
    "selected.groupby(['type', 'theme']).sentence.count()"
   ]
  },
  {
   "cell_type": "code",
   "execution_count": 101,
   "metadata": {},
   "outputs": [],
   "source": [
    "# save to csv\n",
    "selected.to_csv('../text/selected.csv', index=False)"
   ]
  },
  {
   "cell_type": "code",
   "execution_count": 105,
   "metadata": {},
   "outputs": [],
   "source": [
    "translated = pd.read_csv(\"../text/translation.csv\")\n",
    "\n",
    "assert len(selected) == len(translated)"
   ]
  },
  {
   "cell_type": "code",
   "execution_count": 106,
   "metadata": {},
   "outputs": [
    {
     "data": {
      "text/plain": [
       "256"
      ]
     },
     "execution_count": 106,
     "metadata": {},
     "output_type": "execute_result"
    }
   ],
   "source": [
    "len(translated)"
   ]
  },
  {
   "cell_type": "code",
   "execution_count": 107,
   "metadata": {},
   "outputs": [
    {
     "data": {
      "text/html": [
       "<div>\n",
       "<style scoped>\n",
       "    .dataframe tbody tr th:only-of-type {\n",
       "        vertical-align: middle;\n",
       "    }\n",
       "\n",
       "    .dataframe tbody tr th {\n",
       "        vertical-align: top;\n",
       "    }\n",
       "\n",
       "    .dataframe thead th {\n",
       "        text-align: right;\n",
       "    }\n",
       "</style>\n",
       "<table border=\"1\" class=\"dataframe\">\n",
       "  <thead>\n",
       "    <tr style=\"text-align: right;\">\n",
       "      <th></th>\n",
       "      <th>phrase</th>\n",
       "    </tr>\n",
       "  </thead>\n",
       "  <tbody>\n",
       "    <tr>\n",
       "      <th>0</th>\n",
       "      <td>L'énergie circule constamment d'un système à l...</td>\n",
       "    </tr>\n",
       "    <tr>\n",
       "      <th>1</th>\n",
       "      <td>Les diplômés célèbrent leurs réalisations avec...</td>\n",
       "    </tr>\n",
       "    <tr>\n",
       "      <th>2</th>\n",
       "      <td>Une grenouille saute gracieusement dans l'étang\\n</td>\n",
       "    </tr>\n",
       "    <tr>\n",
       "      <th>3</th>\n",
       "      <td>Les joueurs encouragent leurs équipes préférées\\n</td>\n",
       "    </tr>\n",
       "    <tr>\n",
       "      <th>4</th>\n",
       "      <td>Les programmeurs écrivent du code pour créer d...</td>\n",
       "    </tr>\n",
       "  </tbody>\n",
       "</table>\n",
       "</div>"
      ],
      "text/plain": [
       "                                              phrase\n",
       "0  L'énergie circule constamment d'un système à l...\n",
       "1  Les diplômés célèbrent leurs réalisations avec...\n",
       "2  Une grenouille saute gracieusement dans l'étang\\n\n",
       "3  Les joueurs encouragent leurs équipes préférées\\n\n",
       "4  Les programmeurs écrivent du code pour créer d..."
      ]
     },
     "execution_count": 107,
     "metadata": {},
     "output_type": "execute_result"
    }
   ],
   "source": [
    "translated.head()"
   ]
  },
  {
   "cell_type": "code",
   "execution_count": 108,
   "metadata": {},
   "outputs": [],
   "source": [
    "selected['translation'] = translated.phrase"
   ]
  },
  {
   "cell_type": "code",
   "execution_count": 109,
   "metadata": {},
   "outputs": [],
   "source": [
    "def count_words(s):\n",
    "    remove = ['.', '?', '!', '-', ',']\n",
    "    cleaned = \"\".join([c for c in s if c not in remove])\n",
    "    \n",
    "    return len(cleaned.split())\n",
    "        "
   ]
  },
  {
   "cell_type": "code",
   "execution_count": 110,
   "metadata": {},
   "outputs": [
    {
     "data": {
      "text/plain": [
       "translanted_num_words\n",
       "9     64\n",
       "10    53\n",
       "8     48\n",
       "7     30\n",
       "11    27\n",
       "6     12\n",
       "12     8\n",
       "13     5\n",
       "5      4\n",
       "4      3\n",
       "14     2\n",
       "Name: count, dtype: int64"
      ]
     },
     "execution_count": 110,
     "metadata": {},
     "output_type": "execute_result"
    }
   ],
   "source": [
    "selected['translanted_num_words'] = selected.translation.apply(count_words)\n",
    "selected['translanted_num_words'].value_counts()"
   ]
  },
  {
   "cell_type": "code",
   "execution_count": 111,
   "metadata": {},
   "outputs": [
    {
     "data": {
      "text/html": [
       "<div>\n",
       "<style scoped>\n",
       "    .dataframe tbody tr th:only-of-type {\n",
       "        vertical-align: middle;\n",
       "    }\n",
       "\n",
       "    .dataframe tbody tr th {\n",
       "        vertical-align: top;\n",
       "    }\n",
       "\n",
       "    .dataframe thead th {\n",
       "        text-align: right;\n",
       "    }\n",
       "</style>\n",
       "<table border=\"1\" class=\"dataframe\">\n",
       "  <thead>\n",
       "    <tr style=\"text-align: right;\">\n",
       "      <th></th>\n",
       "      <th>theme</th>\n",
       "      <th>type</th>\n",
       "      <th>structure</th>\n",
       "      <th>numer</th>\n",
       "      <th>tense</th>\n",
       "      <th>polarity</th>\n",
       "      <th>sentence</th>\n",
       "      <th>num_words</th>\n",
       "      <th>translation</th>\n",
       "      <th>translanted_num_words</th>\n",
       "    </tr>\n",
       "  </thead>\n",
       "  <tbody>\n",
       "    <tr>\n",
       "      <th>0</th>\n",
       "      <td>science</td>\n",
       "      <td>declarative</td>\n",
       "      <td>simple</td>\n",
       "      <td>singular</td>\n",
       "      <td>present</td>\n",
       "      <td>affirmative</td>\n",
       "      <td>Energy flows from one system to another consta...</td>\n",
       "      <td>8</td>\n",
       "      <td>L'énergie circule constamment d'un système à l...</td>\n",
       "      <td>7</td>\n",
       "    </tr>\n",
       "    <tr>\n",
       "      <th>1</th>\n",
       "      <td>work</td>\n",
       "      <td>declarative</td>\n",
       "      <td>simple</td>\n",
       "      <td>plural</td>\n",
       "      <td>present</td>\n",
       "      <td>affirmative</td>\n",
       "      <td>Graduates celebrate their achievements with fa...</td>\n",
       "      <td>8</td>\n",
       "      <td>Les diplômés célèbrent leurs réalisations avec...</td>\n",
       "      <td>11</td>\n",
       "    </tr>\n",
       "    <tr>\n",
       "      <th>2</th>\n",
       "      <td>nature</td>\n",
       "      <td>declarative</td>\n",
       "      <td>simple</td>\n",
       "      <td>singular</td>\n",
       "      <td>present</td>\n",
       "      <td>affirmative</td>\n",
       "      <td>A frog jumps gracefully into the pond\\n</td>\n",
       "      <td>7</td>\n",
       "      <td>Une grenouille saute gracieusement dans l'étang\\n</td>\n",
       "      <td>6</td>\n",
       "    </tr>\n",
       "    <tr>\n",
       "      <th>3</th>\n",
       "      <td>basic</td>\n",
       "      <td>declarative</td>\n",
       "      <td>simple</td>\n",
       "      <td>plural</td>\n",
       "      <td>present</td>\n",
       "      <td>affirmative</td>\n",
       "      <td>Players cheer for their favorite teams\\n</td>\n",
       "      <td>6</td>\n",
       "      <td>Les joueurs encouragent leurs équipes préférées\\n</td>\n",
       "      <td>6</td>\n",
       "    </tr>\n",
       "    <tr>\n",
       "      <th>4</th>\n",
       "      <td>science</td>\n",
       "      <td>declarative</td>\n",
       "      <td>simple</td>\n",
       "      <td>plural</td>\n",
       "      <td>present</td>\n",
       "      <td>affirmative</td>\n",
       "      <td>Programmers write code to build interactive so...</td>\n",
       "      <td>8</td>\n",
       "      <td>Les programmeurs écrivent du code pour créer d...</td>\n",
       "      <td>11</td>\n",
       "    </tr>\n",
       "  </tbody>\n",
       "</table>\n",
       "</div>"
      ],
      "text/plain": [
       "     theme         type structure     numer    tense     polarity  \\\n",
       "0  science  declarative    simple  singular  present  affirmative   \n",
       "1     work  declarative    simple    plural  present  affirmative   \n",
       "2   nature  declarative    simple  singular  present  affirmative   \n",
       "3    basic  declarative    simple    plural  present  affirmative   \n",
       "4  science  declarative    simple    plural  present  affirmative   \n",
       "\n",
       "                                            sentence  num_words  \\\n",
       "0  Energy flows from one system to another consta...          8   \n",
       "1  Graduates celebrate their achievements with fa...          8   \n",
       "2            A frog jumps gracefully into the pond\\n          7   \n",
       "3           Players cheer for their favorite teams\\n          6   \n",
       "4  Programmers write code to build interactive so...          8   \n",
       "\n",
       "                                         translation  translanted_num_words  \n",
       "0  L'énergie circule constamment d'un système à l...                      7  \n",
       "1  Les diplômés célèbrent leurs réalisations avec...                     11  \n",
       "2  Une grenouille saute gracieusement dans l'étang\\n                      6  \n",
       "3  Les joueurs encouragent leurs équipes préférées\\n                      6  \n",
       "4  Les programmeurs écrivent du code pour créer d...                     11  "
      ]
     },
     "execution_count": 111,
     "metadata": {},
     "output_type": "execute_result"
    }
   ],
   "source": [
    "selected.head()"
   ]
  },
  {
   "cell_type": "code",
   "execution_count": 112,
   "metadata": {},
   "outputs": [],
   "source": [
    "selected.to_csv('../text/selected_with_translation.csv', index=False)"
   ]
  },
  {
   "cell_type": "code",
   "execution_count": null,
   "metadata": {},
   "outputs": [],
   "source": []
  }
 ],
 "metadata": {
  "kernelspec": {
   "display_name": "experiment",
   "language": "python",
   "name": "python3"
  },
  "language_info": {
   "codemirror_mode": {
    "name": "ipython",
    "version": 3
   },
   "file_extension": ".py",
   "mimetype": "text/x-python",
   "name": "python",
   "nbconvert_exporter": "python",
   "pygments_lexer": "ipython3",
   "version": "3.9.20"
  }
 },
 "nbformat": 4,
 "nbformat_minor": 2
}
