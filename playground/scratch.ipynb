{
 "cells": [
  {
   "cell_type": "code",
   "execution_count": 6,
   "metadata": {},
   "outputs": [
    {
     "data": {
      "text/plain": [
       "morph_count\n",
       "1    137\n",
       "2    111\n",
       "3     16\n",
       "Name: count, dtype: int64"
      ]
     },
     "execution_count": 6,
     "metadata": {},
     "output_type": "execute_result"
    }
   ],
   "source": [
    "import pandas as pd\n",
    "from polyglot.text import Word\n",
    "\n",
    "words = pd.read_csv('vocab_of_selected_sent.csv')\n",
    "\n",
    "def morph_count(text):\n",
    "    morphemes = Word(text, language=\"fr\").morphemes\n",
    "    return morphemes, len(morphemes)\n",
    "\n",
    "words[['morphemes', 'morph_count']] = words['word'].apply(morph_count).apply(pd.Series)\n",
    "words.morph_count.value_counts()\n"
   ]
  },
  {
   "cell_type": "code",
   "execution_count": 7,
   "metadata": {},
   "outputs": [],
   "source": [
    "words.to_csv('vocab_of_selected_sent.csv', index=False)"
   ]
  },
  {
   "cell_type": "code",
   "execution_count": null,
   "metadata": {},
   "outputs": [],
   "source": []
  }
 ],
 "metadata": {
  "kernelspec": {
   "display_name": "pinet",
   "language": "python",
   "name": "python3"
  },
  "language_info": {
   "codemirror_mode": {
    "name": "ipython",
    "version": 3
   },
   "file_extension": ".py",
   "mimetype": "text/x-python",
   "name": "python",
   "nbconvert_exporter": "python",
   "pygments_lexer": "ipython3",
   "version": "3.10.13"
  }
 },
 "nbformat": 4,
 "nbformat_minor": 2
}
