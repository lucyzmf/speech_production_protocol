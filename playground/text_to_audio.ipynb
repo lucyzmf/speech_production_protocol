{
 "cells": [
  {
   "cell_type": "code",
   "execution_count": 40,
   "metadata": {},
   "outputs": [],
   "source": [
    "from elevenlabs.client import ElevenLabs\n",
    "from elevenlabs import save, play\n",
    "import pandas as pd\n",
    "import numpy as np\n",
    "from pathlib import Path\n",
    "\n",
    "client = ElevenLabs(\n",
    "  api_key=\"sk_002cd9c04bc319f981caa651cd46ca0dd011979cf930e194\" # Defaults to ELEVEN_API_KEY\n",
    ")"
   ]
  },
  {
   "cell_type": "code",
   "execution_count": 41,
   "metadata": {},
   "outputs": [
    {
     "data": {
      "text/html": [
       "<div>\n",
       "<style scoped>\n",
       "    .dataframe tbody tr th:only-of-type {\n",
       "        vertical-align: middle;\n",
       "    }\n",
       "\n",
       "    .dataframe tbody tr th {\n",
       "        vertical-align: top;\n",
       "    }\n",
       "\n",
       "    .dataframe thead th {\n",
       "        text-align: right;\n",
       "    }\n",
       "</style>\n",
       "<table border=\"1\" class=\"dataframe\">\n",
       "  <thead>\n",
       "    <tr style=\"text-align: right;\">\n",
       "      <th></th>\n",
       "      <th>theme</th>\n",
       "      <th>type</th>\n",
       "      <th>structure</th>\n",
       "      <th>numer</th>\n",
       "      <th>tense</th>\n",
       "      <th>polarity</th>\n",
       "      <th>sentence</th>\n",
       "      <th>num_words</th>\n",
       "      <th>translation</th>\n",
       "      <th>translanted_num_words</th>\n",
       "    </tr>\n",
       "  </thead>\n",
       "  <tbody>\n",
       "    <tr>\n",
       "      <th>0</th>\n",
       "      <td>science</td>\n",
       "      <td>declarative</td>\n",
       "      <td>simple</td>\n",
       "      <td>singular</td>\n",
       "      <td>present</td>\n",
       "      <td>affirmative</td>\n",
       "      <td>Energy flows from one system to another consta...</td>\n",
       "      <td>8</td>\n",
       "      <td>L'énergie circule constamment d'un système à l...</td>\n",
       "      <td>7</td>\n",
       "    </tr>\n",
       "    <tr>\n",
       "      <th>1</th>\n",
       "      <td>work</td>\n",
       "      <td>declarative</td>\n",
       "      <td>simple</td>\n",
       "      <td>plural</td>\n",
       "      <td>present</td>\n",
       "      <td>affirmative</td>\n",
       "      <td>Graduates celebrate their achievements with fa...</td>\n",
       "      <td>8</td>\n",
       "      <td>Les diplômés célèbrent leurs réalisations avec...</td>\n",
       "      <td>11</td>\n",
       "    </tr>\n",
       "    <tr>\n",
       "      <th>2</th>\n",
       "      <td>nature</td>\n",
       "      <td>declarative</td>\n",
       "      <td>simple</td>\n",
       "      <td>singular</td>\n",
       "      <td>present</td>\n",
       "      <td>affirmative</td>\n",
       "      <td>A frog jumps gracefully into the pond\\n</td>\n",
       "      <td>7</td>\n",
       "      <td>Une grenouille saute gracieusement dans l'étang\\n</td>\n",
       "      <td>6</td>\n",
       "    </tr>\n",
       "    <tr>\n",
       "      <th>3</th>\n",
       "      <td>basic</td>\n",
       "      <td>declarative</td>\n",
       "      <td>simple</td>\n",
       "      <td>plural</td>\n",
       "      <td>present</td>\n",
       "      <td>affirmative</td>\n",
       "      <td>Players cheer for their favorite teams\\n</td>\n",
       "      <td>6</td>\n",
       "      <td>Les joueurs encouragent leurs équipes préférées\\n</td>\n",
       "      <td>6</td>\n",
       "    </tr>\n",
       "    <tr>\n",
       "      <th>4</th>\n",
       "      <td>science</td>\n",
       "      <td>declarative</td>\n",
       "      <td>simple</td>\n",
       "      <td>plural</td>\n",
       "      <td>present</td>\n",
       "      <td>affirmative</td>\n",
       "      <td>Programmers write code to build interactive so...</td>\n",
       "      <td>8</td>\n",
       "      <td>Les programmeurs écrivent du code pour créer d...</td>\n",
       "      <td>11</td>\n",
       "    </tr>\n",
       "  </tbody>\n",
       "</table>\n",
       "</div>"
      ],
      "text/plain": [
       "     theme         type structure     numer    tense     polarity  \\\n",
       "0  science  declarative    simple  singular  present  affirmative   \n",
       "1     work  declarative    simple    plural  present  affirmative   \n",
       "2   nature  declarative    simple  singular  present  affirmative   \n",
       "3    basic  declarative    simple    plural  present  affirmative   \n",
       "4  science  declarative    simple    plural  present  affirmative   \n",
       "\n",
       "                                            sentence  num_words  \\\n",
       "0  Energy flows from one system to another consta...          8   \n",
       "1  Graduates celebrate their achievements with fa...          8   \n",
       "2            A frog jumps gracefully into the pond\\n          7   \n",
       "3           Players cheer for their favorite teams\\n          6   \n",
       "4  Programmers write code to build interactive so...          8   \n",
       "\n",
       "                                         translation  translanted_num_words  \n",
       "0  L'énergie circule constamment d'un système à l...                      7  \n",
       "1  Les diplômés célèbrent leurs réalisations avec...                     11  \n",
       "2  Une grenouille saute gracieusement dans l'étang\\n                      6  \n",
       "3  Les joueurs encouragent leurs équipes préférées\\n                      6  \n",
       "4  Les programmeurs écrivent du code pour créer d...                     11  "
      ]
     },
     "execution_count": 41,
     "metadata": {},
     "output_type": "execute_result"
    }
   ],
   "source": [
    "# load sentences \n",
    "sentences = pd.read_csv(\"../text/selected_with_translation.csv\")\n",
    "sentences.head()"
   ]
  },
  {
   "cell_type": "code",
   "execution_count": 42,
   "metadata": {},
   "outputs": [
    {
     "data": {
      "text/plain": [
       "\"L'énergie circule constamment d'un système à l'autre.\""
      ]
     },
     "execution_count": 42,
     "metadata": {},
     "output_type": "execute_result"
    }
   ],
   "source": [
    "sentences['translation_cleaned'] = sentences['translation'].str.replace('\\n', '.')\n",
    "sentences['translation_cleaned'][0]"
   ]
  },
  {
   "cell_type": "code",
   "execution_count": 43,
   "metadata": {},
   "outputs": [],
   "source": [
    "def get_audio(sent): \n",
    "    name = \"-\".join(sent[:-1].split())\n",
    "    audio_path = Path(f\"../audio/{name}.mp3\")\n",
    "    \n",
    "    if audio_path.exists():\n",
    "        return audio_path\n",
    "    else:\n",
    "        \n",
    "        audio = client.generate(\n",
    "            text=sent,\n",
    "            model=\"eleven_multilingual_v2\"\n",
    "        )\n",
    "        save(audio, audio_path)\n",
    "    return audio_path"
   ]
  },
  {
   "cell_type": "code",
   "execution_count": 44,
   "metadata": {},
   "outputs": [],
   "source": [
    "sentences['audio_path'] = sentences['translation_cleaned'].apply(get_audio)"
   ]
  },
  {
   "cell_type": "code",
   "execution_count": 29,
   "metadata": {},
   "outputs": [],
   "source": [
    "# play(audio, notebook=True)\n"
   ]
  },
  {
   "cell_type": "code",
   "execution_count": 45,
   "metadata": {},
   "outputs": [],
   "source": [
    "sentences.to_csv(\"../text/selected_with_translation_audiopath.csv\", index=False)"
   ]
  },
  {
   "cell_type": "code",
   "execution_count": null,
   "metadata": {},
   "outputs": [],
   "source": []
  }
 ],
 "metadata": {
  "kernelspec": {
   "display_name": "experiment",
   "language": "python",
   "name": "python3"
  },
  "language_info": {
   "codemirror_mode": {
    "name": "ipython",
    "version": 3
   },
   "file_extension": ".py",
   "mimetype": "text/x-python",
   "name": "python",
   "nbconvert_exporter": "python",
   "pygments_lexer": "ipython3",
   "version": "3.10.15"
  }
 },
 "nbformat": 4,
 "nbformat_minor": 2
}
