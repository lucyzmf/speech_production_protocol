{
 "cells": [
  {
   "cell_type": "code",
   "execution_count": 1,
   "metadata": {},
   "outputs": [],
   "source": [
    "from elevenlabs.client import ElevenLabs\n",
    "from elevenlabs import save, play\n",
    "import pandas as pd\n",
    "import numpy as np\n",
    "from pathlib import Path\n",
    "\n",
    "client = ElevenLabs(\n",
    "  api_key=\"sk_bcc41067369f48c3db7d1fea52fcb5140b8d0ee452653766\" # Defaults to ELEVEN_API_KEY\n",
    ")"
   ]
  },
  {
   "cell_type": "code",
   "execution_count": 4,
   "metadata": {},
   "outputs": [
    {
     "data": {
      "text/html": [
       "<div>\n",
       "<style scoped>\n",
       "    .dataframe tbody tr th:only-of-type {\n",
       "        vertical-align: middle;\n",
       "    }\n",
       "\n",
       "    .dataframe tbody tr th {\n",
       "        vertical-align: top;\n",
       "    }\n",
       "\n",
       "    .dataframe thead th {\n",
       "        text-align: right;\n",
       "    }\n",
       "</style>\n",
       "<table border=\"1\" class=\"dataframe\">\n",
       "  <thead>\n",
       "    <tr style=\"text-align: right;\">\n",
       "      <th></th>\n",
       "      <th>theme</th>\n",
       "      <th>type</th>\n",
       "      <th>structure</th>\n",
       "      <th>numer</th>\n",
       "      <th>tense</th>\n",
       "      <th>polarity</th>\n",
       "      <th>sentence</th>\n",
       "      <th>num_words</th>\n",
       "      <th>translation</th>\n",
       "      <th>translanted_num_words</th>\n",
       "    </tr>\n",
       "  </thead>\n",
       "  <tbody>\n",
       "    <tr>\n",
       "      <th>0</th>\n",
       "      <td>science</td>\n",
       "      <td>declarative</td>\n",
       "      <td>simple</td>\n",
       "      <td>singular</td>\n",
       "      <td>present</td>\n",
       "      <td>affirmative</td>\n",
       "      <td>Energy flows from one system to another consta...</td>\n",
       "      <td>8</td>\n",
       "      <td>L'énergie circule constamment d'un système à l...</td>\n",
       "      <td>7</td>\n",
       "    </tr>\n",
       "    <tr>\n",
       "      <th>1</th>\n",
       "      <td>work</td>\n",
       "      <td>declarative</td>\n",
       "      <td>simple</td>\n",
       "      <td>plural</td>\n",
       "      <td>present</td>\n",
       "      <td>affirmative</td>\n",
       "      <td>Graduates celebrate their achievements with fa...</td>\n",
       "      <td>8</td>\n",
       "      <td>Les diplômés célèbrent leurs réalisations avec...</td>\n",
       "      <td>11</td>\n",
       "    </tr>\n",
       "    <tr>\n",
       "      <th>2</th>\n",
       "      <td>nature</td>\n",
       "      <td>declarative</td>\n",
       "      <td>simple</td>\n",
       "      <td>singular</td>\n",
       "      <td>present</td>\n",
       "      <td>affirmative</td>\n",
       "      <td>A frog jumps gracefully into the pond\\n</td>\n",
       "      <td>7</td>\n",
       "      <td>Une grenouille saute gracieusement dans l'étang\\n</td>\n",
       "      <td>6</td>\n",
       "    </tr>\n",
       "    <tr>\n",
       "      <th>3</th>\n",
       "      <td>basic</td>\n",
       "      <td>declarative</td>\n",
       "      <td>simple</td>\n",
       "      <td>plural</td>\n",
       "      <td>present</td>\n",
       "      <td>affirmative</td>\n",
       "      <td>Players cheer for their favorite teams\\n</td>\n",
       "      <td>6</td>\n",
       "      <td>Les joueurs encouragent leurs équipes préférées\\n</td>\n",
       "      <td>6</td>\n",
       "    </tr>\n",
       "    <tr>\n",
       "      <th>4</th>\n",
       "      <td>science</td>\n",
       "      <td>declarative</td>\n",
       "      <td>simple</td>\n",
       "      <td>plural</td>\n",
       "      <td>present</td>\n",
       "      <td>affirmative</td>\n",
       "      <td>Programmers write code to build interactive so...</td>\n",
       "      <td>8</td>\n",
       "      <td>Les programmeurs écrivent du code pour créer d...</td>\n",
       "      <td>11</td>\n",
       "    </tr>\n",
       "  </tbody>\n",
       "</table>\n",
       "</div>"
      ],
      "text/plain": [
       "     theme         type structure     numer    tense     polarity  \\\n",
       "0  science  declarative    simple  singular  present  affirmative   \n",
       "1     work  declarative    simple    plural  present  affirmative   \n",
       "2   nature  declarative    simple  singular  present  affirmative   \n",
       "3    basic  declarative    simple    plural  present  affirmative   \n",
       "4  science  declarative    simple    plural  present  affirmative   \n",
       "\n",
       "                                            sentence  num_words  \\\n",
       "0  Energy flows from one system to another consta...          8   \n",
       "1  Graduates celebrate their achievements with fa...          8   \n",
       "2            A frog jumps gracefully into the pond\\n          7   \n",
       "3           Players cheer for their favorite teams\\n          6   \n",
       "4  Programmers write code to build interactive so...          8   \n",
       "\n",
       "                                         translation  translanted_num_words  \n",
       "0  L'énergie circule constamment d'un système à l...                      7  \n",
       "1  Les diplômés célèbrent leurs réalisations avec...                     11  \n",
       "2  Une grenouille saute gracieusement dans l'étang\\n                      6  \n",
       "3  Les joueurs encouragent leurs équipes préférées\\n                      6  \n",
       "4  Les programmeurs écrivent du code pour créer d...                     11  "
      ]
     },
     "execution_count": 4,
     "metadata": {},
     "output_type": "execute_result"
    }
   ],
   "source": [
    "# load sentences \n",
    "sentences = pd.read_csv(\"../text/selected_with_translation.csv\")\n",
    "sentences.head()"
   ]
  },
  {
   "cell_type": "code",
   "execution_count": 2,
   "metadata": {},
   "outputs": [
    {
     "data": {
      "text/html": [
       "<div>\n",
       "<style scoped>\n",
       "    .dataframe tbody tr th:only-of-type {\n",
       "        vertical-align: middle;\n",
       "    }\n",
       "\n",
       "    .dataframe tbody tr th {\n",
       "        vertical-align: top;\n",
       "    }\n",
       "\n",
       "    .dataframe thead th {\n",
       "        text-align: right;\n",
       "    }\n",
       "</style>\n",
       "<table border=\"1\" class=\"dataframe\">\n",
       "  <thead>\n",
       "    <tr style=\"text-align: right;\">\n",
       "      <th></th>\n",
       "      <th>word</th>\n",
       "      <th>pos</th>\n",
       "      <th>is_content</th>\n",
       "      <th>phonemes</th>\n",
       "      <th>first_phone</th>\n",
       "      <th>lemma</th>\n",
       "      <th>n_syllables</th>\n",
       "    </tr>\n",
       "  </thead>\n",
       "  <tbody>\n",
       "    <tr>\n",
       "      <th>0</th>\n",
       "      <td>indique</td>\n",
       "      <td>VERB</td>\n",
       "      <td>content</td>\n",
       "      <td>['ɛ̃', 'd', 'i', 'k']</td>\n",
       "      <td>ɛ̃</td>\n",
       "      <td>indique</td>\n",
       "      <td>2</td>\n",
       "    </tr>\n",
       "    <tr>\n",
       "      <th>1</th>\n",
       "      <td>figures</td>\n",
       "      <td>NOUN</td>\n",
       "      <td>content</td>\n",
       "      <td>['f', 'i', 'ɡ', 'y', 'ʁ']</td>\n",
       "      <td>f</td>\n",
       "      <td>figure</td>\n",
       "      <td>2</td>\n",
       "    </tr>\n",
       "    <tr>\n",
       "      <th>2</th>\n",
       "      <td>voyagent</td>\n",
       "      <td>VERB</td>\n",
       "      <td>content</td>\n",
       "      <td>['v', 'w', 'a', 'j', 'a', 'ʒ']</td>\n",
       "      <td>v</td>\n",
       "      <td>voyager</td>\n",
       "      <td>1</td>\n",
       "    </tr>\n",
       "    <tr>\n",
       "      <th>3</th>\n",
       "      <td>match</td>\n",
       "      <td>NOUN</td>\n",
       "      <td>content</td>\n",
       "      <td>['m', 'a', 't', 'ʃ']</td>\n",
       "      <td>m</td>\n",
       "      <td>match</td>\n",
       "      <td>1</td>\n",
       "    </tr>\n",
       "    <tr>\n",
       "      <th>4</th>\n",
       "      <td>fréquemment</td>\n",
       "      <td>ADV</td>\n",
       "      <td>content</td>\n",
       "      <td>['f', 'ʁ', 'e', 'k', 'a', 'm', 'ɑ̃']</td>\n",
       "      <td>f</td>\n",
       "      <td>fréquemment</td>\n",
       "      <td>3</td>\n",
       "    </tr>\n",
       "  </tbody>\n",
       "</table>\n",
       "</div>"
      ],
      "text/plain": [
       "          word   pos is_content                              phonemes  \\\n",
       "0      indique  VERB    content                 ['ɛ̃', 'd', 'i', 'k']   \n",
       "1      figures  NOUN    content             ['f', 'i', 'ɡ', 'y', 'ʁ']   \n",
       "2     voyagent  VERB    content        ['v', 'w', 'a', 'j', 'a', 'ʒ']   \n",
       "3        match  NOUN    content                  ['m', 'a', 't', 'ʃ']   \n",
       "4  fréquemment   ADV    content  ['f', 'ʁ', 'e', 'k', 'a', 'm', 'ɑ̃']   \n",
       "\n",
       "  first_phone        lemma  n_syllables  \n",
       "0          ɛ̃      indique            2  \n",
       "1           f       figure            2  \n",
       "2           v      voyager            1  \n",
       "3           m        match            1  \n",
       "4           f  fréquemment            3  "
      ]
     },
     "execution_count": 2,
     "metadata": {},
     "output_type": "execute_result"
    }
   ],
   "source": [
    "words = pd.read_csv(\"../text/selected_words_final.csv\")\n",
    "words.head()"
   ]
  },
  {
   "cell_type": "code",
   "execution_count": 16,
   "metadata": {},
   "outputs": [
    {
     "data": {
      "text/plain": [
       "\"L'énergie circule constamment d'un système à l'autre.\""
      ]
     },
     "execution_count": 16,
     "metadata": {},
     "output_type": "execute_result"
    }
   ],
   "source": [
    "sentences['translation_cleaned'] = sentences['translation'].str.replace('\\n', '.')\n",
    "sentences['translation_cleaned'][0]"
   ]
  },
  {
   "cell_type": "code",
   "execution_count": 17,
   "metadata": {},
   "outputs": [],
   "source": [
    "def get_audio(sent): \n",
    "    name = \"-\".join(sent[:-1].split())\n",
    "    audio_path = Path(f\"../audio/{name}.mp3\")\n",
    "    \n",
    "    if audio_path.exists():\n",
    "        return audio_path\n",
    "    else:\n",
    "        \n",
    "        audio = client.generate(\n",
    "            text=sent,\n",
    "            model=\"eleven_multilingual_v2\"\n",
    "        )\n",
    "        save(audio, audio_path)\n",
    "    return audio_path"
   ]
  },
  {
   "cell_type": "code",
   "execution_count": 44,
   "metadata": {},
   "outputs": [],
   "source": [
    "sentences['audio_path'] = sentences['translation_cleaned'].apply(get_audio)"
   ]
  },
  {
   "cell_type": "code",
   "execution_count": 3,
   "metadata": {},
   "outputs": [],
   "source": [
    "def get_audio_word(word): \n",
    "    audio_path = Path(f\"../audio/{word}.mp3\")\n",
    "    \n",
    "    if audio_path.exists():\n",
    "        return audio_path\n",
    "    else:\n",
    "        \n",
    "        audio = client.generate(\n",
    "            text=word,\n",
    "            model=\"eleven_multilingual_v2\"\n",
    "        )\n",
    "        save(audio, audio_path)\n",
    "    return audio_path"
   ]
  },
  {
   "cell_type": "code",
   "execution_count": null,
   "metadata": {},
   "outputs": [],
   "source": []
  },
  {
   "cell_type": "code",
   "execution_count": 4,
   "metadata": {},
   "outputs": [],
   "source": [
    "words['audio_path'] = words['lemma'].apply(get_audio_word)"
   ]
  },
  {
   "cell_type": "code",
   "execution_count": 29,
   "metadata": {},
   "outputs": [],
   "source": [
    "# play(audio, notebook=True)\n"
   ]
  },
  {
   "cell_type": "code",
   "execution_count": 45,
   "metadata": {},
   "outputs": [],
   "source": [
    "sentences.to_csv(\"../text/selected_with_translation_audiopath.csv\", index=False)"
   ]
  },
  {
   "cell_type": "code",
   "execution_count": 5,
   "metadata": {},
   "outputs": [],
   "source": [
    "words.to_csv(\"../text/selected_words_final_audiopath.csv\", index=False)"
   ]
  },
  {
   "cell_type": "code",
   "execution_count": null,
   "metadata": {},
   "outputs": [],
   "source": [
    "T"
   ]
  }
 ],
 "metadata": {
  "kernelspec": {
   "display_name": "experiment",
   "language": "python",
   "name": "python3"
  },
  "language_info": {
   "codemirror_mode": {
    "name": "ipython",
    "version": 3
   },
   "file_extension": ".py",
   "mimetype": "text/x-python",
   "name": "python",
   "nbconvert_exporter": "python",
   "pygments_lexer": "ipython3",
   "version": "3.9.20"
  }
 },
 "nbformat": 4,
 "nbformat_minor": 2
}
